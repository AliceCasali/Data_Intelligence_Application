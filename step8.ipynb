{
 "cells": [
  {
   "cell_type": "code",
   "execution_count": 1,
   "source": [
    "import Environment_non_stationary\n",
    "import Shop\n",
    "from mab.ucb_learner import *\n",
    "from utilities import *"
   ],
   "outputs": [],
   "metadata": {}
  },
  {
   "cell_type": "code",
   "execution_count": 2,
   "source": [
    "shop_detection_ts = Shop.Shop()\n",
    "shop_ucb = Shop.Shop()\n",
    "\n",
    "shop_ts = Shop.Shop()\n",
    "#shop_big_ts = Shop.Shop()\n",
    "shop_c = Shop.Shop()\n",
    "\n",
    "env = Environment_non_stationary.Environment(shop_detection_ts.prices1, shop_detection_ts.prices2, shop_detection_ts.discounts, n_phases=4)\n",
    "\n",
    "price_arms = [(i, j) for i in range(len(shop_detection_ts.prices1)) for j in range(len(shop_detection_ts.prices2))]\n",
    "n_price_arms = len(price_arms)\n",
    "\n",
    "matching_arms = [(i, j, k, l) for i in range(len(shop_ts.prices1)) for j in range(len(shop_ts.prices2)) for k in range(shop_ts.n_classes) for l in range(len(shop_ts.discounts))]\n",
    "n_matching_arms = len(matching_arms)\n",
    "\n",
    "detection_matching_arms = [(i, j, k, l) for i in range(len(shop_detection_ts.prices1)) for j in range(len(shop_detection_ts.prices2)) for k in range(shop_detection_ts.n_classes) for l in range(len(shop_detection_ts.discounts))]\n",
    "detection_n_matching_arms = len(matching_arms)\n",
    "\n",
    "small_matching_arms = [(i, j) for i in range(shop_detection_ts.n_classes) for j in range(len(shop_detection_ts.discounts))]\n",
    "small_n_matching_arms = len(small_matching_arms)\n",
    "\n",
    "shop_detection_ts.set_assignment_learner('TS', detection_n_matching_arms)\n",
    "shop_ucb.set_assignment_learner('UCB', small_n_matching_arms)\n",
    "\n",
    "shop_detection_ts.set_price_learner('TS', n_price_arms)\n",
    "shop_ucb.set_price_learner('UCB', 5)\n",
    "\n",
    "#shop_detection_ts.set_price2_learner('TS', 5)\n",
    "shop_ucb.set_price2_learner('UCB', 5)\n",
    "\n",
    "shop_ts.set_price_learner('TS', n_price_arms)\n",
    "shop_ts.set_assignment_learner('TS', n_matching_arms)\n",
    "\n",
    "\n",
    "#shop_big_ts.set_assignment_learner('TS', n_matching_arms)"
   ],
   "outputs": [],
   "metadata": {}
  },
  {
   "cell_type": "code",
   "execution_count": 3,
   "source": [
    "generated_promo_ratios = np.array([0.4, 0.25, 0.2, 0.15])\n",
    "max_ind_reward = max(env.prices1) + max(env.prices2)"
   ],
   "outputs": [],
   "metadata": {}
  },
  {
   "cell_type": "code",
   "execution_count": 4,
   "source": [
    "cr11 = np.array([[0.60, 0.51, 0.28, 0.23, 0.19],\n",
    "       [0.82, 0.65 , 0.40, 0.30, 0.21],\n",
    "       [0.80, 0.66, 0.60, 0.22 , 0.16],\n",
    "       [0.91, 0.73, 0.69, 0.19, 0.12]])\n",
    "\n",
    "cr12 = np.array([[0.60, 0.51, 0.38, 0.33, 0.29],\n",
    "       [0.92, 0.80 , 0.65, 0.50, 0.45],\n",
    "       [0.80, 0.66, 0.60, 0.42 , 0.37],\n",
    "       [0.91, 0.73, 0.69, 0.49, 0.45]])\n",
    "\n",
    "cr13 = np.array([[0.90, 0.81, 0.68, 0.53, 0.49],\n",
    "       [0.82, 0.65 , 0.40, 0.30, 0.21],\n",
    "       [0.70, 0.56, 0.40, 0.16 , 0.10],\n",
    "       [0.91, 0.73, 0.69, 0.19, 0.12]])\n",
    "\n",
    "cr14 = np.array([[0.70, 0.51, 0.28, 0.23, 0.19],\n",
    "       [0.92, 0.65 , 0.40, 0.30, 0.21],\n",
    "       [0.90, 0.66, 0.60, 0.22 , 0.16],\n",
    "       [0.98, 0.83, 0.79, 0.59, 0.32]])\n",
    "\n",
    "env.true_conv1[0] = cr11\n",
    "env.true_conv1[1] = 1-cr12 # This introduces an abrupt change\n",
    "env.true_conv1[2] = cr13\n",
    "env.true_conv1[3] = 1-cr14 # This introduces an abrupt change\n",
    "\n",
    "cr22 = np.array([[[0.65, 0.58, 0.48, 0.43, 0.29],\n",
    "                [0.70, 0.68, 0.55, 0.50, 0.55],\n",
    "                [0.75, 0.70, 0.60, 0.59, 0.40],\n",
    "                [0.95, 0.88, 0.85, 0.80, 0.58]],\n",
    "\n",
    "       [[0.72, 0.55 , 0.30, 0.28, 0.11],\n",
    "        [0.75, 0.60 , 0.35, 0.33, 0.16],\n",
    "        [0.82, 0.65 , 0.40, 0.38, 0.21],\n",
    "        [0.85, 0.75 , 0.55, 0.52, 0.25]],\n",
    "\n",
    "       [[0.80, 0.66, 0.60, 0.55 , 0.16],\n",
    "        [0.84, 0.72, 0.66, 0.62 , 0.18],\n",
    "        [0.89, 0.78, 0.70, 0.67 , 0.20],\n",
    "        [0.95, 0.85, 0.79, 0.73 , 0.25]],\n",
    "\n",
    "       [[0.91, 0.73, 0.69, 0.53, 0.12],\n",
    "        [0.93, 0.76, 0.74, 0.64, 0.17],\n",
    "        [0.96, 0.79, 0.78, 0.70, 0.25],\n",
    "        [0.97, 0.83, 0.81, 0.77, 0.45]]])\n",
    "\n",
    "cr21 = np.array([[[0.60, 0.51, 0.28, 0.23, 0.19],\n",
    "                [0.65, 0.55, 0.35, 0.30, 0.25],\n",
    "                [0.70, 0.60, 0.40, 0.35, 0.30],\n",
    "                [0.90, 0.80, 0.75, 0.50, 0.38]],\n",
    "\n",
    "       [[0.72, 0.55 , 0.30, 0.20, 0.11],\n",
    "        [0.75, 0.60 , 0.35, 0.25, 0.16],\n",
    "        [0.82, 0.65 , 0.40, 0.30, 0.21],\n",
    "        [0.85, 0.75 , 0.55, 0.40, 0.25]],\n",
    "\n",
    "       [[0.80, 0.66, 0.60, 0.22 , 0.16],\n",
    "        [0.84, 0.72, 0.66, 0.28 , 0.18],\n",
    "        [0.89, 0.78, 0.70, 0.38 , 0.20],\n",
    "        [0.95, 0.85, 0.79, 0.58 , 0.25]],\n",
    "\n",
    "       [[0.91, 0.73, 0.69, 0.19, 0.12],\n",
    "        [0.93, 0.76, 0.74, 0.25, 0.17],\n",
    "        [0.96, 0.79, 0.78, 0.40, 0.25],\n",
    "        [0.97, 0.83, 0.81, 0.50, 0.45]]])\n",
    "\n",
    "cr23 = np.array([[[0.60, 0.51, 0.48, 0.23, 0.19],\n",
    "                [0.65, 0.55, 0.50, 0.30, 0.25],\n",
    "                [0.70, 0.60, 0.55, 0.35, 0.30],\n",
    "                [0.90, 0.80, 0.78, 0.50, 0.38]],\n",
    "\n",
    "       [[0.72, 0.55 , 0.50, 0.20, 0.11],\n",
    "        [0.75, 0.60 , 0.55, 0.25, 0.16],\n",
    "        [0.82, 0.65 , 0.61, 0.30, 0.21],\n",
    "        [0.85, 0.75 , 0.72, 0.40, 0.25]],\n",
    "\n",
    "       [[0.80, 0.66, 0.64, 0.22 , 0.16],\n",
    "        [0.84, 0.72, 0.69, 0.28 , 0.18],\n",
    "        [0.89, 0.78, 0.75, 0.38 , 0.20],\n",
    "        [0.95, 0.85, 0.83, 0.58 , 0.25]],\n",
    "\n",
    "       [[0.91, 0.78, 0.75, 0.19, 0.12],\n",
    "        [0.93, 0.82, 0.77, 0.25, 0.17],\n",
    "        [0.96, 0.89, 0.84, 0.40, 0.25],\n",
    "        [0.97, 0.93, 0.88, 0.50, 0.45]]])\n",
    "\n",
    "cr24 = np.array([[[0.65, 0.58, 0.48, 0.33, 0.29],\n",
    "                [0.70, 0.68, 0.55, 0.40, 0.55],\n",
    "                [0.75, 0.70, 0.60, 0.55, 0.40],\n",
    "                [0.95, 0.88, 0.85, 0.70, 0.58]],\n",
    "\n",
    "       [[0.72, 0.55 , 0.30, 0.20, 0.11],\n",
    "        [0.75, 0.60 , 0.35, 0.25, 0.16],\n",
    "        [0.82, 0.65 , 0.40, 0.30, 0.21],\n",
    "        [0.85, 0.75 , 0.55, 0.40, 0.25]],\n",
    "\n",
    "       [[0.80, 0.66, 0.60, 0.22 , 0.16],\n",
    "        [0.84, 0.72, 0.66, 0.28 , 0.18],\n",
    "        [0.89, 0.78, 0.70, 0.38 , 0.20],\n",
    "        [0.95, 0.85, 0.79, 0.58 , 0.25]],\n",
    "\n",
    "       [[0.71, 0.53, 0.49, 0.10, 0.05],\n",
    "        [0.73, 0.56, 0.54, 0.15, 0.10],\n",
    "        [0.76, 0.59, 0.58, 0.22, 0.15],\n",
    "        [0.77, 0.63, 0.61, 0.28, 0.17]]])\n",
    "\n",
    "env.true_conv2[0] = cr21\n",
    "env.true_conv2[1] = 1-cr22 # This introduces an abrupt change\n",
    "env.true_conv2[2] = cr23\n",
    "env.true_conv2[3] = 1-cr24 # This introduces an abrupt change"
   ],
   "outputs": [],
   "metadata": {}
  },
  {
   "cell_type": "code",
   "execution_count": 5,
   "source": [
    "shop_c.set_expected_customers(np.array([25, 25, 25, 25]))\n",
    "cec = shop_c.get_customer_list()\n",
    "cep = shop_c.get_promo_list(generated_promo_ratios)\n",
    "\n",
    "clairvoyant_promo_fractions = []\n",
    "clairvoyant_p1s = []\n",
    "clairvoyant_p2s = []\n",
    "clairvoyant_p1_idxs = []\n",
    "clairvoyant_p2_idxs = []\n",
    "for i in range(env.n_phases):\n",
    "    shop_c.set_conv_rate(env.true_conv1[i], env.true_conv2[i])\n",
    "\n",
    "    cmt, cpa, cer, ers  = shop_c.get_clairvoyant_prices_and_matching(cec, cep, 5, 5)\n",
    "    cp1idx = price_arms[cpa][0]\n",
    "    cp2idx = price_arms[cpa][1]\n",
    "    cp1 = env.prices1[cp1idx]\n",
    "    cp2 = env.prices2[cp2idx]\n",
    "\n",
    "    cpf = shop_c.get_promo_fractions_from_tuples(cmt)\n",
    "\n",
    "    clairvoyant_promo_fractions.append(cpf)\n",
    "    clairvoyant_p1s.append(cp1)\n",
    "    clairvoyant_p2s.append(cp2)\n",
    "    clairvoyant_p1_idxs.append(cp1idx)\n",
    "    clairvoyant_p2_idxs.append(cp2idx)\n",
    "\n"
   ],
   "outputs": [],
   "metadata": {}
  },
  {
   "cell_type": "code",
   "execution_count": 6,
   "source": [
    "clairvoyant_promo_fractions"
   ],
   "outputs": [
    {
     "output_type": "execute_result",
     "data": {
      "text/plain": [
       "[array([[0. , 1. , 0. , 0. ],\n",
       "        [0. , 0. , 0.4, 0.6],\n",
       "        [0.6, 0. , 0.4, 0. ],\n",
       "        [1. , 0. , 0. , 0. ]]),\n",
       " array([[1. , 0. , 0. , 0. ],\n",
       "        [0. , 0.4, 0. , 0.6],\n",
       "        [0.6, 0. , 0.4, 0. ],\n",
       "        [0. , 0.6, 0.4, 0. ]]),\n",
       " array([[0.4, 0. , 0. , 0.6],\n",
       "        [0.2, 0. , 0.8, 0. ],\n",
       "        [0. , 1. , 0. , 0. ],\n",
       "        [1. , 0. , 0. , 0. ]]),\n",
       " array([[1. , 0. , 0. , 0. ],\n",
       "        [0. , 1. , 0. , 0. ],\n",
       "        [0.6, 0. , 0.4, 0. ],\n",
       "        [0. , 0. , 0.4, 0.6]])]"
      ]
     },
     "metadata": {},
     "execution_count": 6
    }
   ],
   "metadata": {}
  },
  {
   "cell_type": "code",
   "execution_count": 7,
   "source": [
    "days = 365\n",
    "\n",
    "u_rewards_per_class_per_day = []\n",
    "detection_ts_rewards_per_class_per_day = []\n",
    "\n",
    "ts_rewards_per_class_per_day = []\n",
    "#big_ts_rewards_per_class_per_day = []\n",
    "c_rewards_per_class_per_day = []\n",
    "\n",
    "customers_em = np.array([0, 0, 0, 0])\n",
    "customers_ie = np.array([25, 25, 25, 25])\n",
    "\n",
    "for day in range(days):\n",
    "    if day == 0:\n",
    "        shop_ts.set_expected_customers(customers_ie)\n",
    "        #shop_big_ts.set_expected_customers(customers_ie)\n",
    "        shop_ucb.set_expected_customers(customers_ie)\n",
    "        shop_detection_ts.set_expected_customers(customers_ie)\n",
    "    else:\n",
    "        customers_em = (customers_em*(day-1) + env.customers) / day\n",
    "        shop_ucb.set_expected_customers((customers_em + 0.99).astype(int))\n",
    "        shop_detection_ts.set_expected_customers((customers_em + 0.99).astype(int))\n",
    "        shop_ts.set_expected_customers((customers_em + 0.99).astype(int))\n",
    "        #shop_big_ts.set_expected_customers((customers_em + 0.99).astype(int))\n",
    "    \n",
    "    # select the price for 2 step learner\n",
    "    chosen_price_tuple_idx_ts = shop_ts.price_learner.pull_arm()\n",
    "    chosen_price_tuple_idx_detection_ts = shop_detection_ts.price_learner.pull_arm()\n",
    "\n",
    "    price1idx_ts = price_arms[chosen_price_tuple_idx_ts][0]\n",
    "    price2idx_ts = price_arms[chosen_price_tuple_idx_ts][1]\n",
    "    price1_ts = env.prices1[price_arms[chosen_price_tuple_idx_ts][0]]\n",
    "    price2_ts = env.prices2[price_arms[chosen_price_tuple_idx_ts][1]]\n",
    "\n",
    "    price1idx_detection_ts = price_arms[chosen_price_tuple_idx_detection_ts][0]\n",
    "    price2idx_detection_ts = price_arms[chosen_price_tuple_idx_detection_ts][1]\n",
    "    price1_detection_ts = env.prices1[price_arms[chosen_price_tuple_idx_detection_ts][0]]\n",
    "    price2_detection_ts = env.prices2[price_arms[chosen_price_tuple_idx_detection_ts][1]]\n",
    "\n",
    "    # perform matching and get promo fractions for 2 step learner\n",
    "    expected_customers_ts = shop_ts.get_customer_list()\n",
    "    expected_promos_ts = shop_ts.get_promo_list(generated_promo_ratios)\n",
    "\n",
    "    expected_customers_detection_ts = shop_detection_ts.get_customer_list()\n",
    "    expected_promos_detection_ts = shop_detection_ts.get_promo_list(generated_promo_ratios)\n",
    "\n",
    "    matched_tuples_ts = shop_ts.assignment_learner.pull_arm_matching(expected_customers_ts, expected_promos_ts, matching_arms, price1idx_ts, price2idx_ts)\n",
    "    matched_tuples_detection_ts = shop_detection_ts.assignment_learner.pull_arm_matching(expected_customers_detection_ts, expected_promos_detection_ts, detection_matching_arms, price1idx_detection_ts, price2idx_detection_ts)\n",
    "    \n",
    "    promo_fractions_ts = shop_ts.get_promo_fractions_from_tuples(matched_tuples_ts)\n",
    "    promo_fractions_detection_ts = shop_detection_ts.get_promo_fractions_from_tuples(matched_tuples_detection_ts)\n",
    "\n",
    "    # get promo fractions and prices for big learner\n",
    "    # expected_customers_big_ts = shop_big_ts.get_customer_list()\n",
    "    # expected_promos_big_ts = shop_big_ts.get_promo_list(generated_promo_ratios)\n",
    "    # matched_tuples_big_ts, price_arm_index_big_ts = shop_big_ts.assignment_learner.pull_arm_all(expected_customers_big_ts, expected_promos_big_ts, matching_arms, len(env.prices1), len(env.prices2))\n",
    "    # promo_fractions_big_ts = shop_big_ts.get_promo_fractions_from_tuples(matched_tuples_big_ts)\n",
    "\n",
    "    # price1idx_big_ts = price_arms[price_arm_index_big_ts][0]\n",
    "    # price2idx_big_ts = price_arms[price_arm_index_big_ts][1]\n",
    "    # price1_big_ts = env.prices1[price1idx_big_ts]\n",
    "    # price2_big_ts = env.prices2[price2idx_big_ts]\n",
    "\n",
    "    # get expected list of customers\n",
    "    expected_customers_u = shop_ucb.get_customer_list()\n",
    "    #expected_customers_detection_ts = shop_detection_ts.get_customer_list()\n",
    "\n",
    "    # get expected list of promos\n",
    "    expected_promos_u = shop_ucb.get_promo_list(generated_promo_ratios) \n",
    "    #expected_promos_detection_ts = shop_detection_ts.get_promo_list(generated_promo_ratios) \n",
    "\n",
    "    #Pull arm price1 from learners \n",
    "    #chosen_price1_detection_ts = env.prices1[shop_detection_ts.price_learner.pull_arm()]\n",
    "    chosen_price1_ucb = env.prices1[shop_ucb.price_learner.pull_arm()] \n",
    "\n",
    "    #Pull arm price2 from learners \n",
    "    #chosen_price2_detection_ts = env.prices2[shop_detection_ts.price2_learner.pull_arm()]\n",
    "    chosen_price2_ucb = env.prices2[shop_ucb.price2_learner.pull_arm()] \n",
    "    \n",
    "\n",
    "    # generate the connections and their expected weights\n",
    "    matched_tuples_u = shop_ucb.assignment_learner.pull_arm_matching(expected_customers_u, expected_promos_u, small_matching_arms)\n",
    "    #matched_tuples_detection_ts = shop_detection_ts.assignment_learner.pull_arm_matching(expected_customers_detection_ts, expected_promos_detection_ts, small_matching_arms)\n",
    " \n",
    "    promo_fractions_u = shop_ucb.get_promo_fractions_from_tuples(matched_tuples_u)\n",
    "    #promo_fractions_detection_ts = shop_detection_ts.get_promo_fractions_from_tuples(matched_tuples_detection_ts)\n",
    "\n",
    "    # simulate the day\n",
    "    env.generate_next_day_customers()\n",
    "\n",
    "    enum_customers = list(enumerate(env.customers))\n",
    "    customers = np.concatenate([np.ones(c).astype(int)*p for p,c in enum_customers])\n",
    "    np.random.shuffle(customers)\n",
    "\n",
    "    revenue_detection_ts = []\n",
    "    revenue_ucb = []\n",
    "    revenue_ts = []\n",
    "    #revenue_big_ts = []\n",
    "    revenue_c = []\n",
    "\n",
    "    detection_ts_total_reward = 0\n",
    "    ucb_total_reward = 0\n",
    "    #big_ts_total_reward = 0\n",
    "    ts_total_reward = 0\n",
    "    c_total_reward = 0\n",
    "\n",
    "    c_count = 0\n",
    "\n",
    "    phase = env.get_phase(days) % env.n_phases\n",
    "\n",
    "    for cust in customers:\n",
    "        ts_ind_reward = 0\n",
    "\n",
    "        selected_promo_detection_ts = np.random.choice([0, 1, 2, 3], 1, p=promo_fractions_detection_ts[cust])\n",
    "        selected_promo_u = np.random.choice([0, 1, 2, 3], 1, p=promo_fractions_u[cust])\n",
    "        selected_promo_ts = np.random.choice([0, 1, 2, 3], 1, p=promo_fractions_ts[cust])\n",
    "        #selected_promo_big_ts = np.random.choice([0, 1, 2, 3], 1, p=promo_fractions_big_ts[cust])\n",
    "        selected_promo_c = np.random.choice([0, 1, 2, 3], 1, p=clairvoyant_promo_fractions[phase][cust])\n",
    "\n",
    "        detection_ts_buy1 = env.round1(cust, price1_detection_ts)\n",
    "        detection_ts_buy2 = 0\n",
    "        if detection_ts_buy1:\n",
    "            detection_ts_buy2 = env.round2(cust, selected_promo_detection_ts, price2_detection_ts)\n",
    "        \n",
    "        u_buy1 = env.round1(cust, chosen_price1_ucb)\n",
    "        u_buy2 = 0\n",
    "        if u_buy1:\n",
    "            u_buy2 = env.round2(cust, selected_promo_u, chosen_price2_ucb)\n",
    "\n",
    "        ts_buy1 = env.round1(cust, price1_ts)\n",
    "        ts_buy2 = 0\n",
    "        if ts_buy1:\n",
    "            ts_buy2 = env.round2(cust, selected_promo_ts, price2_ts)\n",
    "\n",
    "        # big_ts_buy1 = env.round1(cust, price1_big_ts)\n",
    "        # big_ts_buy2 = 0\n",
    "        # if big_ts_buy1:\n",
    "        #     big_ts_buy2 = env.round2(cust, selected_promo_big_ts, price2_big_ts)\n",
    "\n",
    "\n",
    "        c_buy1 = env.round1(cust, clairvoyant_p1s[phase], days)\n",
    "        c_buy2 = 0\n",
    "        if c_buy1:\n",
    "            c_buy2 = env.round2(cust, selected_promo_c, clairvoyant_p2s[phase], days)\n",
    "        \n",
    "        detection_ts_ind_reward= detection_ts_buy1*price1_detection_ts + detection_ts_buy2*price2_detection_ts*(1-shop_detection_ts.discounts[selected_promo_detection_ts])\n",
    "        u_ind_reward = u_buy1*chosen_price1_ucb + u_buy2*chosen_price2_ucb*(1-shop_ucb.discounts[selected_promo_u])\n",
    "        ts_ind_reward = ts_buy1*price1_ts + ts_buy2*price2_ts*(1-shop_ts.discounts[selected_promo_ts])\n",
    "        # big_ts_ind_reward = big_ts_buy1*price1_big_ts + big_ts_buy2*price2_big_ts*(1-shop_big_ts.discounts[selected_promo_big_ts])\n",
    "        c_ind_reward = clairvoyant_p1s[phase]*env.true_conv1[phase, cust, clairvoyant_p1_idxs[phase]] + env.true_conv1[phase, cust, clairvoyant_p1_idxs[phase]]*env.true_conv2[phase, selected_promo_c, cust, clairvoyant_p2_idxs[phase]]*clairvoyant_p2s[phase]*(1-shop_c.discounts[selected_promo_c])\n",
    "        \n",
    "        norm_detection_ts_ind_reward = detection_ts_ind_reward / max_ind_reward\n",
    "        norm_u_ind_reward = u_ind_reward / max_ind_reward\n",
    "        norm_ts_ind_reward = ts_ind_reward / max_ind_reward\n",
    "        # norm_big_ts_ind_reward = big_ts_ind_reward / max_ind_reward\n",
    "        norm_c_ind_reward = c_ind_reward / max_ind_reward\n",
    "\n",
    "        # update price learner and assignment learner\n",
    "        shop_ucb.assignment_learner.update(small_matching_arms.index((cust, selected_promo_u)), norm_u_ind_reward)\n",
    "        \n",
    "        shop_ts.price_learner.update(chosen_price_tuple_idx_ts, norm_ts_ind_reward)\n",
    "        matching_arm_index_ts = matching_arms.index((price1idx_ts, price2idx_ts, cust, selected_promo_ts))\n",
    "        shop_ts.assignment_learner.update(matching_arm_index_ts, norm_ts_ind_reward)\n",
    "\n",
    "        shop_detection_ts.price_learner.update(chosen_price_tuple_idx_detection_ts, norm_detection_ts_ind_reward)\n",
    "        matching_arm_index_detection_ts = detection_matching_arms.index((price1idx_detection_ts, price2idx_detection_ts, cust, selected_promo_detection_ts))\n",
    "        shop_detection_ts.assignment_learner.update(matching_arm_index_detection_ts, norm_detection_ts_ind_reward)\n",
    "\n",
    "        # buradaki matching arm index sadece price ikilisini veriyor\n",
    "        # matching_arm_index_big_ts = matching_arms.index((price1idx_big_ts, price2idx_big_ts, cust, selected_promo_big_ts))\n",
    "        # shop_big_ts.assignment_learner.update(matching_arm_index_big_ts, norm_big_ts_ind_reward)\n",
    "\n",
    "        revenue_ucb.append(u_ind_reward)\n",
    "        revenue_detection_ts.append(detection_ts_ind_reward)\n",
    "        revenue_ts.append(ts_ind_reward)\n",
    "        #revenue_big_ts.append(big_ts_ind_reward)\n",
    "        revenue_c.append(c_ind_reward)\n",
    "\n",
    "    detection_ts_rewards_per_class_per_day.append(np.mean(revenue_detection_ts))\n",
    "    u_rewards_per_class_per_day.append(np.mean(revenue_ucb))\n",
    "    ts_rewards_per_class_per_day.append(np.mean(revenue_ts))\n",
    "    # big_ts_rewards_per_class_per_day.append(np.mean(revenue_big_ts))\n",
    "    c_rewards_per_class_per_day.append(np.mean(revenue_c))\n",
    "    \n",
    "    shop_detection_ts.detect_phase_change(ts_rewards_per_class_per_day[-1])"
   ],
   "outputs": [
    {
     "output_type": "stream",
     "name": "stdout",
     "text": [
      "CHANGE DETECTED! day:99\n",
      "CHANGE DETECTED! day:151\n",
      "CHANGE DETECTED! day:283\n"
     ]
    }
   ],
   "metadata": {}
  },
  {
   "cell_type": "code",
   "execution_count": 8,
   "source": [
    "import matplotlib.pyplot as plt\n",
    "from scipy.signal import savgol_filter\n",
    "\n",
    "#plt.plot(u_rewards_per_class_per_day, color='green', alpha=0.2)\n",
    "#plt.plot(savgol_filter(u_rewards_per_class_per_day, 41, 3), color='green',label='UCB')\n",
    "plt.plot(c_rewards_per_class_per_day, color='orange',label='Clairvoyant Alt')\n",
    "#plt.plot(savgol_filter(c_rewards_per_class_per_day, 41, 3))\n",
    "plt.plot(detection_ts_rewards_per_class_per_day, color='purple', alpha=0.2)\n",
    "plt.plot(savgol_filter(detection_ts_rewards_per_class_per_day, 41, 3), color='purple',label='Detection TS')\n",
    "plt.plot(ts_rewards_per_class_per_day, color='red', alpha=0.2)\n",
    "plt.plot(savgol_filter(ts_rewards_per_class_per_day, 41, 3), color='red', label='2-step TS')\n",
    "#plt.plot(big_ts_rewards_per_class_per_day, color='blue', alpha=0.2)\n",
    "#plt.plot(savgol_filter(big_ts_rewards_per_class_per_day, 41, 3), color='blue', label='Big TS')\n",
    "\n",
    "plt.legend()\n",
    "plt.xlabel('Time')\n",
    "plt.ylabel('Revenue')"
   ],
   "outputs": [
    {
     "output_type": "execute_result",
     "data": {
      "text/plain": [
       "Text(0, 0.5, 'Revenue')"
      ]
     },
     "metadata": {},
     "execution_count": 8
    },
    {
     "output_type": "display_data",
     "data": {
      "image/png": "[encoded data removed]",
      "text/plain": [
       "<Figure size 432x288 with 1 Axes>"
      ]
     },
     "metadata": {
      "needs_background": "light"
     }
    }
   ],
   "metadata": {}
  },
  {
   "cell_type": "code",
   "execution_count": 9,
   "source": [
    "#plt.plot(np.cumsum(u_rewards_per_class_per_day), color='green', label='UCB')\n",
    "plt.plot(np.cumsum(detection_ts_rewards_per_class_per_day), color='purple', label='Detection TS')\n",
    "plt.plot(np.cumsum(c_rewards_per_class_per_day), color='orange', label='Clairvoyant')\n",
    "plt.plot(np.cumsum(ts_rewards_per_class_per_day), color='red', label='2-step TS')\n",
    "#plt.plot(np.cumsum(big_ts_rewards_per_class_per_day), color='blue', label='Big TS')\n",
    "\n",
    "plt.legend()\n",
    "plt.xlabel('Time')\n",
    "plt.ylabel('Cumulative Revenue')"
   ],
   "outputs": [
    {
     "output_type": "execute_result",
     "data": {
      "text/plain": [
       "Text(0, 0.5, 'Cumulative Revenue')"
      ]
     },
     "metadata": {},
     "execution_count": 9
    },
    {
     "output_type": "display_data",
     "data": {
      "image/png": "[encoded data removed]",
      "text/plain": [
       "<Figure size 432x288 with 1 Axes>"
      ]
     },
     "metadata": {
      "needs_background": "light"
     }
    }
   ],
   "metadata": {}
  },
  {
   "cell_type": "code",
   "execution_count": 10,
   "source": [
    "plt.plot(np.cumsum(np.array(c_rewards_per_class_per_day) - np.array(ts_rewards_per_class_per_day)), color='red', label='2-step TS')\n",
    "#plt.plot(np.cumsum(np.array(c_rewards_per_class_per_day) - np.array(big_ts_rewards_per_class_per_day)), color='blue', label='Big TS')\n",
    "plt.plot(np.cumsum(np.array(c_rewards_per_class_per_day) - np.array(detection_ts_rewards_per_class_per_day)), color='purple', label='Detection TS')\n",
    "plt.plot(np.cumsum(np.array(c_rewards_per_class_per_day) - np.array(u_rewards_per_class_per_day)), color='green', label='UCB')\n",
    "\n",
    "plt.legend()\n",
    "plt.xlabel('Days')\n",
    "plt.ylabel('Regret')"
   ],
   "outputs": [
    {
     "output_type": "execute_result",
     "data": {
      "text/plain": [
       "Text(0, 0.5, 'Regret')"
      ]
     },
     "metadata": {},
     "execution_count": 10
    },
    {
     "output_type": "display_data",
     "data": {
      "image/png": "[encoded data removed]",
      "text/plain": [
       "<Figure size 432x288 with 1 Axes>"
      ]
     },
     "metadata": {
      "needs_background": "light"
     }
    }
   ],
   "metadata": {}
  },
  {
   "cell_type": "code",
   "execution_count": 11,
   "source": [
    "price_arms[14]\n"
   ],
   "outputs": [
    {
     "output_type": "execute_result",
     "data": {
      "text/plain": [
       "(2, 4)"
      ]
     },
     "metadata": {},
     "execution_count": 11
    }
   ],
   "metadata": {}
  },
  {
   "cell_type": "code",
   "execution_count": 12,
   "source": [
    "clairvoyant_p1_idxs"
   ],
   "outputs": [
    {
     "output_type": "execute_result",
     "data": {
      "text/plain": [
       "[0, 4, 0, 4]"
      ]
     },
     "metadata": {},
     "execution_count": 12
    }
   ],
   "metadata": {}
  },
  {
   "cell_type": "code",
   "execution_count": 13,
   "source": [
    "clairvoyant_p2_idxs"
   ],
   "outputs": [
    {
     "output_type": "execute_result",
     "data": {
      "text/plain": [
       "[2, 4, 2, 4]"
      ]
     },
     "metadata": {},
     "execution_count": 13
    }
   ],
   "metadata": {}
  },
  {
   "cell_type": "code",
   "execution_count": 14,
   "source": [
    "price_arms[24]"
   ],
   "outputs": [
    {
     "output_type": "execute_result",
     "data": {
      "text/plain": [
       "(4, 4)"
      ]
     },
     "metadata": {},
     "execution_count": 14
    }
   ],
   "metadata": {}
  },
  {
   "cell_type": "code",
   "execution_count": 15,
   "source": [
    "c_buy1 = env.round2(cust, selected_promo_c, clairvoyant_p2s[phase], days)\n",
    "if c_buy1:\n",
    "    print(\"Oh no\")"
   ],
   "outputs": [
    {
     "output_type": "stream",
     "name": "stdout",
     "text": [
      "Oh no\n"
     ]
    }
   ],
   "metadata": {}
  },
  {
   "cell_type": "code",
   "execution_count": 16,
   "source": [
    "c_buy1"
   ],
   "outputs": [
    {
     "output_type": "execute_result",
     "data": {
      "text/plain": [
       "array([1])"
      ]
     },
     "metadata": {},
     "execution_count": 16
    }
   ],
   "metadata": {}
  },
  {
   "cell_type": "code",
   "execution_count": null,
   "source": [],
   "outputs": [],
   "metadata": {}
  }
 ],
 "metadata": {
  "orig_nbformat": 4,
  "language_info": {
   "name": "python",
   "version": "3.8.10",
   "mimetype": "text/x-python",
   "codemirror_mode": {
    "name": "ipython",
    "version": 3
   },
   "pygments_lexer": "ipython3",
   "nbconvert_exporter": "python",
   "file_extension": ".py"
  },
  "kernelspec": {
   "name": "python3",
   "display_name": "Python 3.8.10 64-bit"
  },
  "interpreter": {
   "hash": "31f2aee4e71d21fbe5cf8b01ff0e069b9275f58929596ceb00d14d90e3e16cd6"
  }
 },
 "nbformat": 4,
 "nbformat_minor": 2
}