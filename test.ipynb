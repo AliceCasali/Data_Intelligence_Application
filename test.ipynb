{
 "cells": [
  {
   "cell_type": "markdown",
   "source": [
    "## PARAMETERS\n",
    "* number of customers for each class (ENV)\n",
    "* conversion rate for each class (item 1) (ENV)\n",
    "* Second item can be promoted: p0,p1,p2,p3,p4\n",
    "* Conversion rate item 2 (ENV)\n",
    "* promos will affect the conversion rates\n",
    "* prices"
   ],
   "metadata": {}
  },
  {
   "cell_type": "code",
   "execution_count": 2,
   "source": [
    "import numpy as np\n",
    "import statistics\n",
    "from scipy.stats import truncnorm\n",
    "from scipy.optimize import linear_sum_assignment\n",
    "import random\n",
    "import itertools\n",
    "import matplotlib.pyplot as plt\n",
    "\n",
    "def clamp(num, min_val, max_val):\n",
    "\treturn max(min(num, max_val), min_val)\n",
    "\n",
    "def generate_conversion_rate(prices):\n",
    "\tval = np.random.rand(len(prices))\n",
    "\tconversion_rates = np.sort(val)[::-1]\n",
    "\treturn conversion_rates\n",
    "\n",
    "def index(array, value):\n",
    "\treturn np.where(array == value)[0][0]"
   ],
   "outputs": [],
   "metadata": {}
  },
  {
   "cell_type": "code",
   "execution_count": 3,
   "source": [
    "class Environment():\n",
    "    def __init__(self, prices1, prices2, discounts):\n",
    "        #Shop related data\n",
    "        self.prices1, self.prices2, self.discounts = prices1, prices2, discounts\n",
    "\n",
    "        #Customers that will visit the shop during the day\n",
    "        self.generate_next_day_customers()\n",
    "        self.n_classes = len(self.customers)\n",
    "        \n",
    "        #Conversion rates\n",
    "        self.true_conv1 = np.array([generate_conversion_rate(prices1) for x in range(self.n_classes)]) # [class x price]\n",
    "        self.true_conv2 = np.array([[generate_conversion_rate(prices2) for x in range(self.n_classes)] for y in range(len(discounts))]) # [class x promo x price]      \n",
    "    \n",
    "    def round1(self, cust_class, price):\n",
    "        return np.random.binomial(1, self.true_conv1[cust_class, index(self.prices1, price)])\n",
    "    \n",
    "    def round2(self, cust_class, promo, price):\n",
    "        return np.random.binomial(1, self.true_conv2[cust_class, promo, index(self.prices2, price)])\n",
    "\n",
    "    #Adjust \"means\" and \"variances\" in order to test different distributions of customers \n",
    "    def generate_next_day_customers(self, means = ([25, 25, 25, 25]), variances =  ([10,10,10,10])):\n",
    "        means = np.array(means)\n",
    "        variances = np.array(variances)\n",
    "        self.customers = np.array([clamp(int(np.random.normal(m, v)), int(m/2), int(3*m/2)) for m,v in zip(means, variances)])\n"
   ],
   "outputs": [],
   "metadata": {}
  },
  {
   "cell_type": "code",
   "execution_count": 4,
   "source": [
    "class Shop():\n",
    "    def __init__(self):\n",
    "        self.n_classes = 4\n",
    "        self.prices1 = np.cumsum(np.linspace(80,240, num=5))\n",
    "        self.prices2 = np.cumsum(np.linspace(100,300, num=5))\n",
    "        self.discounts = np.array([0.0, 0.05, 0.10, 0.25])\n",
    "        self.conv1 = np.array([generate_conversion_rate(self.prices1) for x in range(self.n_classes)]) # [class x price]\n",
    "        self.conv2 = np.array([[generate_conversion_rate(self.prices2) for x in range(self.n_classes)] for y in range(len(self.discounts))]) # [class x promo x price]      \n",
    "    \n",
    "    def set_expected_customers(self, customers):\n",
    "        self.customers = customers\n",
    "    \n",
    "    def set_conv_rate(self, conv1, conv2):\n",
    "        self.conv1 = conv1\n",
    "        self.conv2 = conv2\n",
    "    \n",
    "    def best_promo_per_class(self):\n",
    "        N = np.array([1,1,1,1])\n",
    "        weights = np.zeros((4,4))\n",
    "        perm_prices = list(itertools.product(self.prices1, self.prices2))\n",
    "\n",
    "        reward = 0\n",
    "\n",
    "        # for each price\n",
    "        for p in perm_prices:\n",
    "            # for each class \n",
    "            for c in range(self.n_classes):\n",
    "                # for each promos\n",
    "                for j in range(len(self.discounts)):\n",
    "                    weights[c,j] = p[0]*self.conv1[c, index(self.prices1, p[0])] + (1-self.discounts[j])*p[1]*self.conv2[c,j,index(self.prices2, p[1])]\n",
    "\n",
    "            col_ind = [np.argmax(row_class) for row_class in weights]\n",
    "            row_ind = list(range(self.n_classes))\n",
    "            promo_reward = weights[row_ind,col_ind]\n",
    "            total_reward = np.sum(promo_reward)\n",
    "\n",
    "            #print(weights)\n",
    "            #print(col_ind)\n",
    "            #print(promo_reward)\n",
    "            #print(total_reward)\n",
    "            if (total_reward > reward):\n",
    "                self.best_price, self.matched_promos, self.promo_rewards, reward = p, col_ind, promo_reward,  total_reward\n",
    "        #print(\"=============== \\n\")\n",
    "        #print(self.best_price)\n",
    "        #print(self.matched_promos) # Columns of the weight matrix\n",
    "    \n",
    "    def print_coupons(self):\n",
    "        enum_customers = list(enumerate(self.customers)) # [10, 23, 30, 54] --> [(0, 10), (1, 23), (2, 30), (3, 54)]\n",
    "        enum_customers = [(self.matched_promos[i], cust) for i, cust in enum_customers] # [(0, 10), (1, 23), (2, 30), (3, 54)] --> [(3, 10), (1, 23), (2, 30), (0, 54)]\n",
    "        self.coupons = np.concatenate([np.ones(c)*self.discounts[p] for p,c in enum_customers]) # [(3, 10), (1, 23), (2, 30), (0, 54)] --> [0,0,0,0, ... 0.05,0.05,0.05,0.05 ... ]\n",
    "        \n",
    "\n"
   ],
   "outputs": [],
   "metadata": {}
  },
  {
   "cell_type": "code",
   "execution_count": 5,
   "source": [
    "\n",
    "shop = Shop()\n",
    "env = Environment(shop.prices1, shop.prices2, shop.discounts)\n",
    "\n",
    "shop.set_conv_rate(env.true_conv1, env.true_conv2)\n",
    "shop.best_promo_per_class()\n",
    "\n",
    "T = 20\n",
    "total_revenue = []\n",
    "total_clairvoyant = []\n",
    "\n",
    "for t in range(T):\n",
    "    env.generate_next_day_customers()\n",
    "    shop.set_expected_customers(env.customers)\n",
    "\n",
    "    revenue = []\n",
    "    clairvoyant = []\n",
    "\n",
    "    for idx,c in enumerate(shop.customers): # [10,20,30,40] --> [(0,10), (1,20), ...]\n",
    "        for cust in range(c):\n",
    "            partial_revenue = 0\n",
    "            has_bought1 = env.round1(idx, shop.best_price[0])\n",
    "            partial_revenue = has_bought1*shop.best_price[0]\n",
    "\n",
    "            if has_bought1 == 1:\n",
    "                has_bought2 = env.round2(idx, shop.matched_promos[idx], shop.best_price[1])\n",
    "                partial_revenue += has_bought2*shop.best_price[1]\n",
    "\n",
    "            revenue.append(partial_revenue)\n",
    "            expected_revenue = shop.best_price[0]*env.true_conv1[idx, index(env.prices1, shop.best_price[0])] + env.true_conv1[idx, index(env.prices1, shop.best_price[0])]*env.true_conv2[idx, shop.matched_promos[idx], index(env.prices1, shop.best_price[0])]*shop.best_price[1]\n",
    "            clairvoyant.append(expected_revenue)          \n",
    "    total_revenue.append([np.mean(revenue)])\n",
    "    total_clairvoyant.append([np.mean(clairvoyant)])"
   ],
   "outputs": [],
   "metadata": {}
  },
  {
   "cell_type": "code",
   "execution_count": 6,
   "source": [
    "plt.plot(np.cumsum(total_revenue), color='red', label='Shop')\n",
    "plt.plot(np.cumsum(total_clairvoyant), color='green', label='Clairvoyant')\n",
    "\n",
    "plt.legend()\n",
    "plt.xlabel('Time')\n",
    "plt.ylabel('Revenue')"
   ],
   "outputs": [
    {
     "output_type": "execute_result",
     "data": {
      "text/plain": [
       "Text(0, 0.5, 'Revenue')"
      ]
     },
     "metadata": {},
     "execution_count": 6
    },
    {
     "output_type": "display_data",
     "data": {
      "text/plain": [
       "<Figure size 432x288 with 1 Axes>"
      ],
      "image/png": "[encoded data removed]"
     },
     "metadata": {
      "needs_background": "light"
     }
    }
   ],
   "metadata": {}
  },
  {
   "cell_type": "code",
   "execution_count": 9,
   "source": [
    "plt.plot(np.cumsum(revenue), color='red', label='Shop')\n",
    "plt.plot(np.cumsum(clairvoyant), color='green', label='Clairvoyant')\n",
    "\n",
    "plt.legend()\n",
    "plt.xlabel('Customers')\n",
    "plt.ylabel('Revenue')"
   ],
   "outputs": [
    {
     "output_type": "execute_result",
     "data": {
      "text/plain": [
       "Text(0, 0.5, 'Revenue')"
      ]
     },
     "metadata": {},
     "execution_count": 9
    },
    {
     "output_type": "display_data",
     "data": {
      "text/plain": [
       "<Figure size 432x288 with 1 Axes>"
      ],
      "image/png": "[encoded data removed]"
     },
     "metadata": {
      "needs_background": "light"
     }
    }
   ],
   "metadata": {}
  },
  {
   "cell_type": "code",
   "execution_count": 10,
   "source": [
    "shop.best_price"
   ],
   "outputs": [
    {
     "output_type": "execute_result",
     "data": {
      "text/plain": [
       "(560.0, 700.0)"
      ]
     },
     "metadata": {},
     "execution_count": 10
    }
   ],
   "metadata": {}
  },
  {
   "cell_type": "code",
   "execution_count": null,
   "source": [],
   "outputs": [],
   "metadata": {}
  }
 ],
 "metadata": {
  "orig_nbformat": 4,
  "language_info": {
   "name": "python",
   "version": "3.8.10",
   "mimetype": "text/x-python",
   "codemirror_mode": {
    "name": "ipython",
    "version": 3
   },
   "pygments_lexer": "ipython3",
   "nbconvert_exporter": "python",
   "file_extension": ".py"
  },
  "kernelspec": {
   "name": "python3",
   "display_name": "Python 3.8.10 64-bit"
  },
  "interpreter": {
   "hash": "31f2aee4e71d21fbe5cf8b01ff0e069b9275f58929596ceb00d14d90e3e16cd6"
  }
 },
 "nbformat": 4,
 "nbformat_minor": 2
}