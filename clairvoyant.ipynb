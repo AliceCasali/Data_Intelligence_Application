{
 "metadata": {
  "language_info": {
   "codemirror_mode": {
    "name": "ipython",
    "version": 3
   },
   "file_extension": ".py",
   "mimetype": "text/x-python",
   "name": "python",
   "nbconvert_exporter": "python",
   "pygments_lexer": "ipython3",
   "version": "3.8.5-final"
  },
  "orig_nbformat": 2,
  "kernelspec": {
   "name": "python385jvsc74a57bd031f2aee4e71d21fbe5cf8b01ff0e069b9275f58929596ceb00d14d90e3e16cd6",
   "display_name": "Python 3.8.5 64-bit"
  },
  "metadata": {
   "interpreter": {
    "hash": "31f2aee4e71d21fbe5cf8b01ff0e069b9275f58929596ceb00d14d90e3e16cd6"
   }
  }
 },
 "nbformat": 4,
 "nbformat_minor": 2,
 "cells": [
  {
   "cell_type": "code",
   "execution_count": 1,
   "metadata": {},
   "outputs": [],
   "source": [
    "from scipy.optimize import linear_sum_assignment\n",
    "import numpy as np\n",
    "customers_det = np.random.randint(250, size=4)\n",
    "prices = np.array([250, 400])\n",
    "promos = np.array([0.0, 0.5, 0.10, 0.25])\n",
    "\n",
    "conv_rate1 = [0.3, 0.4, 0.25, 0.45]\n",
    "conv_rate2 = np.array([[0.1, 0.2, 0.15, 0.2],#p0\n",
    "                    [0.15, 0.25, 0.2, 0.25],#p1\n",
    "                    [0.2, 0.35, 0.25, 0.4],#p2\n",
    "                    [0.4, 0.45, 0.35, 0.6]])#p3"
   ]
  },
  {
   "cell_type": "code",
   "execution_count": 3,
   "metadata": {},
   "outputs": [
    {
     "output_type": "execute_result",
     "data": {
      "text/plain": [
       "array([[  72.1603461 ,  276.04458429, 1698.21411923,  460.22642554],\n",
       "       [  95.90780317, 1321.42005489,  411.33532507, 2244.9654203 ],\n",
       "       [ 119.02766508, 2386.62760287,  691.48013477, 2111.56308854],\n",
       "       [  80.5717389 , 4719.57080412, 3810.38111964,  634.65366541]])"
      ]
     },
     "metadata": {},
     "execution_count": 3
    }
   ],
   "source": [
    "#https://numpy.org/doc/stable/reference/random/generated/numpy.random.dirichlet.html\n",
    "fractions = np.array([np.random.dirichlet([5,3,2,1]) for x in range(4)])\n",
    "graph = []\n",
    "\n",
    "for i, frac in enumerate(fractions):\n",
    "    discount = 1 - promos\n",
    "    graph.append((discount*conv_rate2[i]*frac*customers_det)*prices[1])\n",
    "np.array(graph)\n"
   ]
  },
  {
   "cell_type": "code",
   "execution_count": 4,
   "metadata": {},
   "outputs": [
    {
     "output_type": "execute_result",
     "data": {
      "text/plain": [
       "[(2, 0), (0, 1), (1, 2), (3, 3)]"
      ]
     },
     "metadata": {},
     "execution_count": 4
    }
   ],
   "source": [
    "row_ind, col_ind = linear_sum_assignment(graph)\n",
    "assignment = sorted(zip(row_ind, col_ind), key = lambda x: x[1])\n",
    "assignment"
   ]
  },
  {
   "cell_type": "code",
   "execution_count": 5,
   "metadata": {},
   "outputs": [
    {
     "output_type": "stream",
     "name": "stdout",
     "text": [
      "Best Fraction for Class0: [0.4959486  0.3479049  0.07113993 0.08500657]\nBest Fraction for Class1: [0.60133622 0.07041954 0.29118898 0.03705527]\nBest Fraction for Class2: [0.53282113 0.26967756 0.05289806 0.14460325]\nBest Fraction for Class3: [0.16785779 0.53509873 0.28001037 0.01703311]\nWeight sum (min): 1441.0612398524386\n"
     ]
    }
   ],
   "source": [
    "\n",
    "print('Best Fraction for Class0: ' + str(fractions[assignment[0][0]]))\n",
    "print('Best Fraction for Class1: ' + str(fractions[assignment[1][0]]))\n",
    "print('Best Fraction for Class2: ' + str(fractions[assignment[2][0]]))\n",
    "print('Best Fraction for Class3: ' + str(fractions[assignment[3][0]]))\n",
    "print('Weight sum (min): ' + str(graph[assignment[0][0]][assignment[0][1]] + graph[assignment[1][0]][assignment[1][1]] + graph[assignment[2][0]][assignment[2][1]] + graph[assignment[3][0]][assignment[3][1]]))"
   ]
  },
  {
   "cell_type": "code",
   "execution_count": 6,
   "metadata": {},
   "outputs": [
    {
     "output_type": "execute_result",
     "data": {
      "text/plain": [
       "[(2, 0), (3, 1), (0, 2), (1, 3)]"
      ]
     },
     "metadata": {},
     "execution_count": 6
    }
   ],
   "source": [
    "maxGraph = np.amax(graph)-graph\n",
    "row_ind_max, col_ind_max = linear_sum_assignment(maxGraph) \n",
    "assignment = list(sorted(zip(row_ind_max, col_ind_max), key = lambda x: x[1]))\n",
    "assignment\n"
   ]
  },
  {
   "cell_type": "code",
   "execution_count": 7,
   "metadata": {},
   "outputs": [
    {
     "output_type": "stream",
     "name": "stdout",
     "text": [
      "Best Fraction for Class0: [0.4959486  0.3479049  0.07113993 0.08500657]\nBest Fraction for Class1: [0.16785779 0.53509873 0.28001037 0.01703311]\nBest Fraction for Class2: [0.60133622 0.07041954 0.29118898 0.03705527]\nBest Fraction for Class3: [0.53282113 0.26967756 0.05289806 0.14460325]\nWeight sum (min): 8781.778008735724\n"
     ]
    }
   ],
   "source": [
    "print('Best Fraction for Class0: ' + str(fractions[assignment[0][0]]))\n",
    "print('Best Fraction for Class1: ' + str(fractions[assignment[1][0]]))\n",
    "print('Best Fraction for Class2: ' + str(fractions[assignment[2][0]]))\n",
    "print('Best Fraction for Class3: ' + str(fractions[assignment[3][0]]))\n",
    "print('Weight sum (min): ' + str(graph[assignment[0][0]][assignment[0][1]] + graph[assignment[1][0]][assignment[1][1]] + graph[assignment[2][0]][assignment[2][1]] + graph[assignment[3][0]][assignment[3][1]]))"
   ]
  },
  {
   "cell_type": "code",
   "execution_count": null,
   "metadata": {},
   "outputs": [],
   "source": []
  }
 ]
}