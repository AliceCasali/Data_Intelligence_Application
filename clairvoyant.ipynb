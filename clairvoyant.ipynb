{
 "metadata": {
  "language_info": {
   "codemirror_mode": {
    "name": "ipython",
    "version": 3
   },
   "file_extension": ".py",
   "mimetype": "text/x-python",
   "name": "python",
   "nbconvert_exporter": "python",
   "pygments_lexer": "ipython3",
   "version": "3.8.5-final"
  },
  "orig_nbformat": 2,
  "kernelspec": {
   "name": "python385jvsc74a57bd031f2aee4e71d21fbe5cf8b01ff0e069b9275f58929596ceb00d14d90e3e16cd6",
   "display_name": "Python 3.8.5 64-bit"
  },
  "metadata": {
   "interpreter": {
    "hash": "31f2aee4e71d21fbe5cf8b01ff0e069b9275f58929596ceb00d14d90e3e16cd6"
   }
  }
 },
 "nbformat": 4,
 "nbformat_minor": 2,
 "cells": [
  {
   "cell_type": "code",
   "execution_count": 5,
   "metadata": {},
   "outputs": [],
   "source": [
    "#trick to import .py in a notebook\n",
    "!python3 environment.py\n",
    "import environment\n",
    "\n",
    "gaussian_parameters = [1,2,3,4],[3,2,1,2]\n",
    "promo_codes = [0.25, 0.30, 0.50, 0.75]\n",
    "env = environment.Environment(gaussian_parameters, promo_codes)"
   ]
  },
  {
   "cell_type": "code",
   "execution_count": 6,
   "metadata": {},
   "outputs": [
    {
     "output_type": "execute_result",
     "data": {
      "text/plain": [
       "[1, 2, 3, 4]"
      ]
     },
     "metadata": {},
     "execution_count": 6
    }
   ],
   "source": [
    "from scipy.optimize import linear_sum_assignment\n",
    "import numpy as np\n",
    "\n",
    "\n",
    "customers_det = np.random.randint(250, size=4)\n",
    "prices = np.array([250, 400])\n",
    "promos = np.array([0.0, 0.5, 0.10, 0.25])\n",
    "\n",
    "conv_rate1 = [0.3, 0.4, 0.25, 0.45]\n",
    "conv_rate2 = np.array([[0.1, 0.2, 0.15, 0.2],#p0\n",
    "                    [0.15, 0.25, 0.2, 0.25],#p1\n",
    "                    [0.2, 0.35, 0.25, 0.4],#p2\n",
    "                    [0.4, 0.45, 0.35, 0.6]])#p3"
   ]
  },
  {
   "cell_type": "code",
   "execution_count": 7,
   "metadata": {},
   "outputs": [
    {
     "output_type": "execute_result",
     "data": {
      "text/plain": [
       "array([[1832.61072296,  559.06653928,  114.15891087,  281.56248964],\n",
       "       [1815.50359036, 3257.50155987,  198.72252033,  147.88696117],\n",
       "       [2810.19293096, 1761.75824503,  453.69010561,  388.70779559],\n",
       "       [4157.4792173 , 3397.68713586,  948.90272367,   38.27725408]])"
      ]
     },
     "metadata": {},
     "execution_count": 7
    }
   ],
   "source": [
    "#https://numpy.org/doc/stable/reference/random/generated/numpy.random.dirichlet.html\n",
    "fractions = np.array([np.random.dirichlet([5,3,2,1]) for x in range(4)])\n",
    "graph = []\n",
    "\n",
    "for i, frac in enumerate(fractions):\n",
    "    discount = 1 - promos\n",
    "    graph.append((discount*conv_rate2[i]*frac*customers_det)*prices[1])\n",
    "np.array(graph)\n"
   ]
  },
  {
   "cell_type": "code",
   "execution_count": 8,
   "metadata": {},
   "outputs": [
    {
     "output_type": "execute_result",
     "data": {
      "text/plain": [
       "[(1, 0), (0, 1), (2, 2), (3, 3)]"
      ]
     },
     "metadata": {},
     "execution_count": 8
    }
   ],
   "source": [
    "row_ind, col_ind = linear_sum_assignment(graph)\n",
    "assignment = sorted(zip(row_ind, col_ind), key = lambda x: x[1])\n",
    "assignment"
   ]
  },
  {
   "cell_type": "code",
   "execution_count": 9,
   "metadata": {},
   "outputs": [
    {
     "output_type": "stream",
     "name": "stdout",
     "text": [
      "Best Fraction for Class0: [0.52169643 0.33071082 0.13143024 0.01616251]\nBest Fraction for Class1: [0.78991842 0.07094753 0.10066923 0.03846482]\nBest Fraction for Class2: [0.60564503 0.12775622 0.24004767 0.02655108]\nBest Fraction for Class3: [0.44800423 0.19163492 0.35861781 0.00174304]\nWeight sum (min): 2866.5374893329304\n"
     ]
    }
   ],
   "source": [
    "\n",
    "print('Best Fraction for Class0: ' + str(fractions[assignment[0][0]]))\n",
    "print('Best Fraction for Class1: ' + str(fractions[assignment[1][0]]))\n",
    "print('Best Fraction for Class2: ' + str(fractions[assignment[2][0]]))\n",
    "print('Best Fraction for Class3: ' + str(fractions[assignment[3][0]]))\n",
    "print('Weight sum (min): ' + str(graph[assignment[0][0]][assignment[0][1]] + graph[assignment[1][0]][assignment[1][1]] + graph[assignment[2][0]][assignment[2][1]] + graph[assignment[3][0]][assignment[3][1]]))"
   ]
  },
  {
   "cell_type": "code",
   "execution_count": 10,
   "metadata": {},
   "outputs": [
    {
     "output_type": "execute_result",
     "data": {
      "text/plain": [
       "[(3, 0), (1, 1), (2, 2), (0, 3)]"
      ]
     },
     "metadata": {},
     "execution_count": 10
    }
   ],
   "source": [
    "maxGraph = np.amax(graph)-graph\n",
    "row_ind_max, col_ind_max = linear_sum_assignment(maxGraph) \n",
    "assignment = list(sorted(zip(row_ind_max, col_ind_max), key = lambda x: x[1]))\n",
    "assignment\n"
   ]
  },
  {
   "cell_type": "code",
   "execution_count": 13,
   "metadata": {},
   "outputs": [
    {
     "output_type": "stream",
     "name": "stdout",
     "text": [
      "Best Fraction for Class0: [0.44800423 0.19163492 0.35861781 0.00174304]\nBest Fraction for Class1: [0.52169643 0.33071082 0.13143024 0.01616251]\nBest Fraction for Class2: [0.60564503 0.12775622 0.24004767 0.02655108]\nBest Fraction for Class3: [0.78991842 0.07094753 0.10066923 0.03846482]\nWeight sum (min): 8150.233372426513\n"
     ]
    }
   ],
   "source": [
    "print('Best Fraction for Class0: ' + str(fractions[assignment[0][0]]))\n",
    "print('Best Fraction for Class1: ' + str(fractions[assignment[1][0]]))\n",
    "print('Best Fraction for Class2: ' + str(fractions[assignment[2][0]]))\n",
    "print('Best Fraction for Class3: ' + str(fractions[assignment[3][0]]))\n",
    "print('Weight sum (min): ' + str(graph[assignment[0][0]][assignment[0][1]] + graph[assignment[1][0]][assignment[1][1]] + graph[assignment[2][0]][assignment[2][1]] + graph[assignment[3][0]][assignment[3][1]]))"
   ]
  },
  {
   "cell_type": "code",
   "execution_count": null,
   "metadata": {},
   "outputs": [],
   "source": []
  }
 ]
}