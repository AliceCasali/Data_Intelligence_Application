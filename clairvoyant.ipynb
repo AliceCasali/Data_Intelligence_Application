{
 "metadata": {
  "language_info": {
   "codemirror_mode": {
    "name": "ipython",
    "version": 3
   },
   "file_extension": ".py",
   "mimetype": "text/x-python",
   "name": "python",
   "nbconvert_exporter": "python",
   "pygments_lexer": "ipython3",
   "version": "3.8.5-final"
  },
  "orig_nbformat": 2,
  "kernelspec": {
   "name": "python385jvsc74a57bd031f2aee4e71d21fbe5cf8b01ff0e069b9275f58929596ceb00d14d90e3e16cd6",
   "display_name": "Python 3.8.5 64-bit"
  },
  "metadata": {
   "interpreter": {
    "hash": "31f2aee4e71d21fbe5cf8b01ff0e069b9275f58929596ceb00d14d90e3e16cd6"
   }
  }
 },
 "nbformat": 4,
 "nbformat_minor": 2,
 "cells": [
  {
   "cell_type": "code",
   "execution_count": 6,
   "metadata": {},
   "outputs": [],
   "source": [
    "from hungarian_algorithm import algorithm as km\n",
    "import numpy as np\n",
    "customers_det = [250, 250, 250, 250]\n",
    "prices = [250, 400]\n",
    "promos = [0.0, 0.5, 0.10, 0.25]\n",
    "\n",
    "conv_rate1 = [0.3, 0.4, 0.25, 0.45]\n",
    "conv_rate2 = [[0.1, 0.2, 0.15, 0.2],#p0\n",
    "              [0.15, 0.25, 0.2, 0.25],#p1\n",
    "              [0.2, 0.35, 0.25, 0.4],#p2\n",
    "              [0.4, 0.45, 0.35, 0.6]]#p3"
   ]
  },
  {
   "cell_type": "code",
   "execution_count": 43,
   "metadata": {},
   "outputs": [
    {
     "output_type": "execute_result",
     "data": {
      "text/plain": [
       "{'[0.27151799 0.36419147 0.19400061 0.17028993]': {'Class0': 63,\n",
       "  'Class1': 29,\n",
       "  'Class2': 78,\n",
       "  'Class3': 72},\n",
       " '[0.63987408 0.01914529 0.1123398  0.22864083]': {'Class0': 55,\n",
       "  'Class1': 98,\n",
       "  'Class2': 84,\n",
       "  'Class3': 23},\n",
       " '[0.10400866 0.18496193 0.05568831 0.6553411 ]': {'Class0': 1,\n",
       "  'Class1': 42,\n",
       "  'Class2': 72,\n",
       "  'Class3': 28},\n",
       " '[0.43521121 0.17790379 0.12784744 0.25903757]': {'Class0': 37,\n",
       "  'Class1': 33,\n",
       "  'Class2': 38,\n",
       "  'Class3': 14}}"
      ]
     },
     "metadata": {},
     "execution_count": 43
    }
   ],
   "source": [
    "#https://numpy.org/doc/stable/reference/random/generated/numpy.random.dirichlet.html\n",
    "fractions = np.array([np.random.dirichlet(np.ones(4)) for x in range(4)])\n",
    "#fractions\n",
    "graph = {}\n",
    "\n",
    "for dist in fractions:\n",
    "    graph[str(dist)] = {'Class0': np.random.randint(100), 'Class1': np.random.randint(100), 'Class2': np.random.randint(100), 'Class3': np.random.randint(100)}\n",
    "graph"
   ]
  },
  {
   "cell_type": "code",
   "execution_count": 44,
   "metadata": {},
   "outputs": [
    {
     "output_type": "execute_result",
     "data": {
      "text/plain": [
       "[(('[0.43521121 0.17790379 0.12784744 0.25903757]', 'Class0'), 37),\n",
       " (('[0.63987408 0.01914529 0.1123398  0.22864083]', 'Class1'), 98),\n",
       " (('[0.27151799 0.36419147 0.19400061 0.17028993]', 'Class3'), 72),\n",
       " (('[0.10400866 0.18496193 0.05568831 0.6553411 ]', 'Class2'), 72)]"
      ]
     },
     "metadata": {},
     "execution_count": 44
    }
   ],
   "source": [
    "km.find_matching(graph, matching_type = 'max', return_type = 'list' )"
   ]
  },
  {
   "cell_type": "code",
   "execution_count": 47,
   "metadata": {},
   "outputs": [
    {
     "output_type": "execute_result",
     "data": {
      "text/plain": [
       "279"
      ]
     },
     "metadata": {},
     "execution_count": 47
    }
   ],
   "source": [
    "km.find_matching(graph, matching_type = 'max', return_type = 'total' )"
   ]
  },
  {
   "cell_type": "code",
   "execution_count": null,
   "metadata": {},
   "outputs": [],
   "source": []
  }
 ]
}