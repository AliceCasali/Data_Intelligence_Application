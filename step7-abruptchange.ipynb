{
 "cells": [
  {
   "cell_type": "code",
   "execution_count": 29,
   "source": [
    "import Environment_non_stationary\r\n",
    "import Shop\r\n",
    "from utilities import *\r\n",
    "from mab.ucb_learner import *"
   ],
   "outputs": [],
   "metadata": {}
  },
  {
   "cell_type": "code",
   "execution_count": 30,
   "source": [
    "shop_ts = Shop.Shop()\r\n",
    "shop_c = Shop.Shop()\r\n",
    "\r\n",
    "n_phases = 4\r\n",
    "env = Environment_non_stationary.Environment(shop_ts.prices1, shop_ts.prices2, shop_ts.discounts, n_phases)\r\n",
    "\r\n",
    "shop_ts.set_conv_rate(env.true_conv1, env.true_conv2)\r\n",
    "shop_c.set_conv_rate(env.true_conv1, env.true_conv2)\r\n",
    "\r\n",
    "price_arms = [(i, j) for i in range(len(shop_ts.prices1)) for j in range(len(shop_ts.prices2))]\r\n",
    "n_price_arms = len(price_arms)\r\n",
    "\r\n",
    "matching_arms = [(i, j, k, l) for i in range(len(shop_ts.prices1)) for j in range(len(shop_ts.prices2)) for k in range(shop_ts.n_classes) for l in range(len(shop_ts.discounts))]\r\n",
    "n_matching_arms = len(matching_arms)\r\n",
    "\r\n",
    "shop_ts.set_price_learner('TS', n_price_arms)\r\n",
    "shop_ts.set_assignment_learner('TS', n_matching_arms)\r\n",
    "\r\n",
    "\r\n",
    "days=365\r\n",
    "frame_size = int(days / env.n_phases)\r\n",
    "shop_ts.set_price_learner_sw('TS', n_price_arms, frame_size=frame_size, days=days)\r\n",
    "shop_ts.set_assignment_learner_sw('TS', n_matching_arms, frame_size=frame_size, days=days)\r\n"
   ],
   "outputs": [],
   "metadata": {}
  },
  {
   "cell_type": "code",
   "execution_count": 31,
   "source": [
    "generated_promo_ratios = np.array([0.4, 0.25, 0.2, 0.15])\r\n",
    "max_ind_reward = max(env.prices1) + max(env.prices2)"
   ],
   "outputs": [],
   "metadata": {}
  },
  {
   "cell_type": "code",
   "execution_count": 32,
   "source": [
    "env.true_conv1\r\n"
   ],
   "outputs": [
    {
     "output_type": "execute_result",
     "data": {
      "text/plain": [
       "array([[[0.6620964 , 0.49873383, 0.68567501, 0.02037327, 0.88953831],\n",
       "        [0.02152026, 0.72076899, 0.94591646, 0.08434392, 0.10921053],\n",
       "        [0.78049475, 0.41882082, 0.14253597, 0.14024696, 0.28776264],\n",
       "        [0.99833081, 0.70907112, 0.62953791, 0.92869655, 0.38622797]],\n",
       "\n",
       "       [[0.47760332, 0.97110286, 0.57316409, 0.12101882, 0.126069  ],\n",
       "        [0.60360236, 0.94786223, 0.53981823, 0.24840876, 0.26496007],\n",
       "        [0.69475107, 0.71296601, 0.6351105 , 0.24940412, 0.35492102],\n",
       "        [0.88855868, 0.36445668, 0.6691788 , 0.40874715, 0.07858261]],\n",
       "\n",
       "       [[0.15675506, 0.03444499, 0.22187032, 0.19833602, 0.90915668],\n",
       "        [0.53173691, 0.49854898, 0.92896354, 0.6684    , 0.58830084],\n",
       "        [0.44669744, 0.86369193, 0.75699162, 0.06521037, 0.23526123],\n",
       "        [0.20383898, 0.46868763, 0.2446509 , 0.23386929, 0.80133544]],\n",
       "\n",
       "       [[0.09645944, 0.01928567, 0.44981696, 0.39433199, 0.07714445],\n",
       "        [0.21521003, 0.341226  , 0.56437812, 0.79185712, 0.99604385],\n",
       "        [0.08892815, 0.2673194 , 0.93203754, 0.71158923, 0.75478379],\n",
       "        [0.1531273 , 0.53290875, 0.18806059, 0.90328412, 0.79570711]]])"
      ]
     },
     "metadata": {},
     "execution_count": 32
    }
   ],
   "metadata": {}
  },
  {
   "cell_type": "code",
   "execution_count": 33,
   "source": [
    "env.true_conv1[0]\r\n",
    "# [phase x class x price]"
   ],
   "outputs": [
    {
     "output_type": "execute_result",
     "data": {
      "text/plain": [
       "array([[0.6620964 , 0.49873383, 0.68567501, 0.02037327, 0.88953831],\n",
       "       [0.02152026, 0.72076899, 0.94591646, 0.08434392, 0.10921053],\n",
       "       [0.78049475, 0.41882082, 0.14253597, 0.14024696, 0.28776264],\n",
       "       [0.99833081, 0.70907112, 0.62953791, 0.92869655, 0.38622797]])"
      ]
     },
     "metadata": {},
     "execution_count": 33
    }
   ],
   "metadata": {}
  },
  {
   "cell_type": "code",
   "execution_count": 34,
   "source": [
    "cr11 = np.array([[0.60, 0.51, 0.28, 0.23, 0.19],\r\n",
    "       [0.82, 0.65 , 0.40, 0.30, 0.21],\r\n",
    "       [0.80, 0.66, 0.60, 0.22 , 0.16],\r\n",
    "       [0.91, 0.73, 0.69, 0.19, 0.12]])"
   ],
   "outputs": [],
   "metadata": {}
  },
  {
   "cell_type": "code",
   "execution_count": 35,
   "source": [
    "cr12 = np.array([[0.60, 0.51, 0.38, 0.33, 0.29],\r\n",
    "       [0.92, 0.80 , 0.65, 0.50, 0.45],\r\n",
    "       [0.80, 0.66, 0.60, 0.42 , 0.37],\r\n",
    "       [0.91, 0.73, 0.69, 0.49, 0.45]])"
   ],
   "outputs": [],
   "metadata": {}
  },
  {
   "cell_type": "code",
   "execution_count": 36,
   "source": [
    "cr13 = np.array([[0.90, 0.81, 0.68, 0.53, 0.49],\r\n",
    "       [0.82, 0.65 , 0.40, 0.30, 0.21],\r\n",
    "       [0.70, 0.56, 0.40, 0.16 , 0.10],\r\n",
    "       [0.91, 0.73, 0.69, 0.19, 0.12]])"
   ],
   "outputs": [],
   "metadata": {}
  },
  {
   "cell_type": "code",
   "execution_count": 37,
   "source": [
    "cr14 = np.array([[0.70, 0.51, 0.28, 0.23, 0.19],\r\n",
    "       [0.92, 0.65 , 0.40, 0.30, 0.21],\r\n",
    "       [0.90, 0.66, 0.60, 0.22 , 0.16],\r\n",
    "       [0.98, 0.83, 0.79, 0.59, 0.32]])"
   ],
   "outputs": [],
   "metadata": {}
  },
  {
   "cell_type": "code",
   "execution_count": 38,
   "source": [
    "env.true_conv1[0] = cr11\r\n",
    "env.true_conv1[1] = 1-cr11\r\n",
    "env.true_conv1[2] = cr13\r\n",
    "env.true_conv1[3] = 1-cr13"
   ],
   "outputs": [],
   "metadata": {}
  },
  {
   "cell_type": "code",
   "execution_count": 39,
   "source": [
    "cr22 = np.array([[[0.65, 0.58, 0.48, 0.43, 0.29],\r\n",
    "                [0.70, 0.68, 0.55, 0.50, 0.55],\r\n",
    "                [0.75, 0.70, 0.60, 0.59, 0.40],\r\n",
    "                [0.95, 0.88, 0.85, 0.80, 0.58]],\r\n",
    "\r\n",
    "       [[0.72, 0.55 , 0.30, 0.28, 0.11],\r\n",
    "        [0.75, 0.60 , 0.35, 0.33, 0.16],\r\n",
    "        [0.82, 0.65 , 0.40, 0.38, 0.21],\r\n",
    "        [0.85, 0.75 , 0.55, 0.52, 0.25]],\r\n",
    "\r\n",
    "       [[0.80, 0.66, 0.60, 0.55 , 0.16],\r\n",
    "        [0.84, 0.72, 0.66, 0.62 , 0.18],\r\n",
    "        [0.89, 0.78, 0.70, 0.67 , 0.20],\r\n",
    "        [0.95, 0.85, 0.79, 0.73 , 0.25]],\r\n",
    "\r\n",
    "       [[0.91, 0.73, 0.69, 0.53, 0.12],\r\n",
    "        [0.93, 0.76, 0.74, 0.64, 0.17],\r\n",
    "        [0.96, 0.79, 0.78, 0.70, 0.25],\r\n",
    "        [0.97, 0.83, 0.81, 0.77, 0.45]]])"
   ],
   "outputs": [],
   "metadata": {}
  },
  {
   "cell_type": "code",
   "execution_count": 40,
   "source": [
    "cr21 = np.array([[[0.60, 0.51, 0.28, 0.23, 0.19],\r\n",
    "                [0.65, 0.55, 0.35, 0.30, 0.25],\r\n",
    "                [0.70, 0.60, 0.40, 0.35, 0.30],\r\n",
    "                [0.90, 0.80, 0.75, 0.50, 0.38]],\r\n",
    "\r\n",
    "       [[0.72, 0.55 , 0.30, 0.20, 0.11],\r\n",
    "        [0.75, 0.60 , 0.35, 0.25, 0.16],\r\n",
    "        [0.82, 0.65 , 0.40, 0.30, 0.21],\r\n",
    "        [0.85, 0.75 , 0.55, 0.40, 0.25]],\r\n",
    "\r\n",
    "       [[0.80, 0.66, 0.60, 0.22 , 0.16],\r\n",
    "        [0.84, 0.72, 0.66, 0.28 , 0.18],\r\n",
    "        [0.89, 0.78, 0.70, 0.38 , 0.20],\r\n",
    "        [0.95, 0.85, 0.79, 0.58 , 0.25]],\r\n",
    "\r\n",
    "       [[0.91, 0.73, 0.69, 0.19, 0.12],\r\n",
    "        [0.93, 0.76, 0.74, 0.25, 0.17],\r\n",
    "        [0.96, 0.79, 0.78, 0.40, 0.25],\r\n",
    "        [0.97, 0.83, 0.81, 0.50, 0.45]]])"
   ],
   "outputs": [],
   "metadata": {}
  },
  {
   "cell_type": "code",
   "execution_count": 41,
   "source": [
    "cr23 = np.array([[[0.60, 0.51, 0.48, 0.23, 0.19],\r\n",
    "                [0.65, 0.55, 0.50, 0.30, 0.25],\r\n",
    "                [0.70, 0.60, 0.55, 0.35, 0.30],\r\n",
    "                [0.90, 0.80, 0.78, 0.50, 0.38]],\r\n",
    "\r\n",
    "       [[0.72, 0.55 , 0.50, 0.20, 0.11],\r\n",
    "        [0.75, 0.60 , 0.55, 0.25, 0.16],\r\n",
    "        [0.82, 0.65 , 0.61, 0.30, 0.21],\r\n",
    "        [0.85, 0.75 , 0.72, 0.40, 0.25]],\r\n",
    "\r\n",
    "       [[0.80, 0.66, 0.64, 0.22 , 0.16],\r\n",
    "        [0.84, 0.72, 0.69, 0.28 , 0.18],\r\n",
    "        [0.89, 0.78, 0.75, 0.38 , 0.20],\r\n",
    "        [0.95, 0.85, 0.83, 0.58 , 0.25]],\r\n",
    "\r\n",
    "       [[0.91, 0.78, 0.75, 0.19, 0.12],\r\n",
    "        [0.93, 0.82, 0.77, 0.25, 0.17],\r\n",
    "        [0.96, 0.89, 0.84, 0.40, 0.25],\r\n",
    "        [0.97, 0.93, 0.88, 0.50, 0.45]]])"
   ],
   "outputs": [],
   "metadata": {}
  },
  {
   "cell_type": "code",
   "execution_count": 42,
   "source": [
    "cr24 = np.array([[[0.65, 0.58, 0.48, 0.33, 0.29],\r\n",
    "                [0.70, 0.68, 0.55, 0.40, 0.55],\r\n",
    "                [0.75, 0.70, 0.60, 0.55, 0.40],\r\n",
    "                [0.95, 0.88, 0.85, 0.70, 0.58]],\r\n",
    "\r\n",
    "       [[0.72, 0.55 , 0.30, 0.20, 0.11],\r\n",
    "        [0.75, 0.60 , 0.35, 0.25, 0.16],\r\n",
    "        [0.82, 0.65 , 0.40, 0.30, 0.21],\r\n",
    "        [0.85, 0.75 , 0.55, 0.40, 0.25]],\r\n",
    "\r\n",
    "       [[0.80, 0.66, 0.60, 0.22 , 0.16],\r\n",
    "        [0.84, 0.72, 0.66, 0.28 , 0.18],\r\n",
    "        [0.89, 0.78, 0.70, 0.38 , 0.20],\r\n",
    "        [0.95, 0.85, 0.79, 0.58 , 0.25]],\r\n",
    "\r\n",
    "       [[0.71, 0.53, 0.49, 0.10, 0.05],\r\n",
    "        [0.73, 0.56, 0.54, 0.15, 0.10],\r\n",
    "        [0.76, 0.59, 0.58, 0.22, 0.15],\r\n",
    "        [0.77, 0.63, 0.61, 0.28, 0.17]]])"
   ],
   "outputs": [],
   "metadata": {}
  },
  {
   "cell_type": "code",
   "execution_count": 43,
   "source": [
    "env.true_conv2[0] = cr21\r\n",
    "env.true_conv2[1] = 1-cr21\r\n",
    "env.true_conv2[2] = cr23\r\n",
    "env.true_conv2[3] = 1-cr23"
   ],
   "outputs": [],
   "metadata": {}
  },
  {
   "cell_type": "code",
   "execution_count": 44,
   "source": [
    "shop_c.set_expected_customers(np.array([25, 25, 25, 25]))\r\n",
    "cec = shop_c.get_customer_list()\r\n",
    "cep = shop_c.get_promo_list(generated_promo_ratios)\r\n",
    "\r\n",
    "clairvoyant_promo_fractions = []\r\n",
    "clairvoyant_p1s = []\r\n",
    "clairvoyant_p2s = []\r\n",
    "clairvoyant_p1_idxs = []\r\n",
    "clairvoyant_p2_idxs = []\r\n",
    "for i in range(env.n_phases):\r\n",
    "    shop_c.set_conv_rate(env.true_conv1[i], env.true_conv2[i])\r\n",
    "\r\n",
    "    cmt, cpa, cer, ers  = shop_c.get_clairvoyant_prices_and_matching(cec, cep, 5, 5)\r\n",
    "    cp1idx = price_arms[cpa][0]\r\n",
    "    cp2idx = price_arms[cpa][1]\r\n",
    "    cp1 = env.prices1[cp1idx]\r\n",
    "    cp2 = env.prices2[cp2idx]\r\n",
    "\r\n",
    "    cpf = shop_c.get_promo_fractions_from_tuples(cmt)\r\n",
    "\r\n",
    "    clairvoyant_promo_fractions.append(cpf)\r\n",
    "    clairvoyant_p1s.append(cp1)\r\n",
    "    clairvoyant_p2s.append(cp2)\r\n",
    "    clairvoyant_p1_idxs.append(cp1idx)\r\n",
    "    clairvoyant_p2_idxs.append(cp2idx)\r\n"
   ],
   "outputs": [],
   "metadata": {}
  },
  {
   "cell_type": "code",
   "execution_count": 45,
   "source": [
    "clairvoyant_promo_fractions"
   ],
   "outputs": [
    {
     "output_type": "execute_result",
     "data": {
      "text/plain": [
       "[array([[0. , 1. , 0. , 0. ],\n",
       "        [0. , 0. , 0.4, 0.6],\n",
       "        [0.6, 0. , 0.4, 0. ],\n",
       "        [1. , 0. , 0. , 0. ]]),\n",
       " array([[1. , 0. , 0. , 0. ],\n",
       "        [0.4, 0. , 0. , 0.6],\n",
       "        [0.2, 0. , 0.8, 0. ],\n",
       "        [0. , 1. , 0. , 0. ]]),\n",
       " array([[0.4, 0. , 0. , 0.6],\n",
       "        [0.2, 0. , 0.8, 0. ],\n",
       "        [0. , 1. , 0. , 0. ],\n",
       "        [1. , 0. , 0. , 0. ]]),\n",
       " array([[0.4, 0. , 0. , 0.6],\n",
       "        [1. , 0. , 0. , 0. ],\n",
       "        [0.2, 0. , 0.8, 0. ],\n",
       "        [0. , 1. , 0. , 0. ]])]"
      ]
     },
     "metadata": {},
     "execution_count": 45
    }
   ],
   "metadata": {}
  },
  {
   "cell_type": "code",
   "execution_count": 46,
   "source": [
    "ts_rewards_per_day = []\r\n",
    "ts_sw_rewards_per_day = []\r\n",
    "c_rewards_per_day = []\r\n",
    "\r\n",
    "customers_em = np.array([0, 0, 0, 0])\r\n",
    "customers_ie = np.array([25, 25, 25, 25])\r\n",
    "\r\n",
    "for day in range(days):\r\n",
    "    if day == 0:\r\n",
    "        shop_ts.set_expected_customers(customers_ie)\r\n",
    "    else:\r\n",
    "        customers_em = (customers_em*(day-1) + env.customers) / day\r\n",
    "        shop_ts.set_expected_customers((customers_em + 0.99).astype(int))\r\n",
    "\r\n",
    "    # 2-step learner with no sliding window\r\n",
    "    price_arm_idx_ts = shop_ts.price_learner.pull_arm()\r\n",
    "\r\n",
    "    price1idx_ts = price_arms[price_arm_idx_ts][0]\r\n",
    "    price2idx_ts = price_arms[price_arm_idx_ts][1]\r\n",
    "    price1_ts = env.prices1[price_arms[price_arm_idx_ts][0]]\r\n",
    "    price2_ts = env.prices2[price_arms[price_arm_idx_ts][1]]\r\n",
    "\r\n",
    "    expected_customers_ts = shop_ts.get_customer_list()\r\n",
    "    expected_promos_ts = shop_ts.get_promo_list(generated_promo_ratios)\r\n",
    "    matched_tuples_ts = shop_ts.assignment_learner.pull_arm_matching(expected_customers_ts, expected_promos_ts, matching_arms, price1idx_ts, price2idx_ts)\r\n",
    "    promo_fractions_ts = shop_ts.get_promo_fractions_from_tuples(matched_tuples_ts)\r\n",
    "\r\n",
    "    # 2-step learner with sliding window\r\n",
    "    price_arm_idx_ts_sw = shop_ts.price_learner_sw.pull_arm(day)\r\n",
    "\r\n",
    "    price1idx_ts_sw = price_arms[price_arm_idx_ts_sw][0]\r\n",
    "    price2idx_ts_sw = price_arms[price_arm_idx_ts_sw][1]\r\n",
    "    price1_ts_sw = env.prices1[price_arms[price_arm_idx_ts_sw][0]]\r\n",
    "    price2_ts_sw = env.prices2[price_arms[price_arm_idx_ts_sw][1]]\r\n",
    "\r\n",
    "    expected_customers_ts_sw = shop_ts.get_customer_list()\r\n",
    "    expected_promos_ts_sw = shop_ts.get_promo_list(generated_promo_ratios)\r\n",
    "    matched_tuples_ts_sw = shop_ts.assignment_learner_sw.pull_arm_matching(expected_customers_ts_sw, expected_promos_ts_sw, matching_arms, day, price1idx_ts_sw, price2idx_ts_sw)\r\n",
    "    promo_fractions_ts_sw = shop_ts.get_promo_fractions_from_tuples(matched_tuples_ts_sw)\r\n",
    "\r\n",
    "    # simulate the day\r\n",
    "    env.generate_next_day_customers()\r\n",
    "\r\n",
    "    enum_customers = list(enumerate(env.customers))\r\n",
    "    customers = np.concatenate([np.ones(c).astype(int)*p for p,c in enum_customers])\r\n",
    "    np.random.shuffle(customers)\r\n",
    "\r\n",
    "    revenue_ts = []\r\n",
    "    revenue_ts_sw = []\r\n",
    "    revenue_c = []\r\n",
    "\r\n",
    "    ts_total_reward = 0\r\n",
    "    ts_sw_total_reward = 0\r\n",
    "\r\n",
    "    c_count = 0\r\n",
    "\r\n",
    "    phase = env.get_phase(days) % env.n_phases\r\n",
    "    \r\n",
    "    for cust in customers:\r\n",
    "\r\n",
    "        selected_promo_ts = np.random.choice([0, 1, 2, 3], 1, p=promo_fractions_ts[cust])\r\n",
    "        selected_promo_ts_sw = np.random.choice([0, 1, 2, 3], 1, p=promo_fractions_ts_sw[cust])\r\n",
    "        selected_promo_c = np.random.choice([0, 1, 2, 3], 1, p=clairvoyant_promo_fractions[phase][cust])\r\n",
    "\r\n",
    "        ts_buy1 = env.round1(cust, price1_ts, days)\r\n",
    "        ts_buy2 = 0\r\n",
    "        if ts_buy1:\r\n",
    "            ts_buy2 = env.round2(cust, selected_promo_ts, price2_ts, days)\r\n",
    "\r\n",
    "        c_buy1 = env.round1(cust, clairvoyant_p1s[phase], days)\r\n",
    "        c_buy2 = 0\r\n",
    "        if c_buy1:\r\n",
    "            c_buy2 = env.round2(cust, selected_promo_c, clairvoyant_p2s[phase], days)\r\n",
    "\r\n",
    "        ts_sw_buy1 = env.round1(cust, price1_ts_sw, days)\r\n",
    "        ts_sw_buy2 = 0\r\n",
    "        if ts_sw_buy1:\r\n",
    "            ts_sw_buy2 = env.round2(cust, selected_promo_ts_sw, price2_ts_sw, days)\r\n",
    "\r\n",
    "        ts_ind_reward = ts_buy1*price1_ts + ts_buy2*price2_ts*(1-shop_ts.discounts[selected_promo_ts])\r\n",
    "        ts_sw_ind_reward = ts_sw_buy1*price1_ts_sw + ts_sw_buy2*price2_ts_sw*(1-shop_ts.discounts[selected_promo_ts_sw])\r\n",
    "        c_ind_reward = c_buy1*clairvoyant_p1s[phase] + c_buy2*clairvoyant_p2s[phase]*(1-shop_c.discounts[selected_promo_c])\r\n",
    "\r\n",
    "        norm_ts_ind_reward = ts_ind_reward / max_ind_reward\r\n",
    "        norm_ts_sw_ind_reward = ts_sw_ind_reward / max_ind_reward\r\n",
    "\r\n",
    "        # update 2-step learner with no sliding window\r\n",
    "        shop_ts.price_learner.update(price_arm_idx_ts, norm_ts_ind_reward)\r\n",
    "\r\n",
    "        matching_arm_index_ts = matching_arms.index((price1idx_ts, price2idx_ts, cust, selected_promo_ts))\r\n",
    "        shop_ts.assignment_learner.update(matching_arm_index_ts, norm_ts_ind_reward)\r\n",
    "\r\n",
    "        # update 2-step learner with sliding window\r\n",
    "        shop_ts.price_learner_sw.update(price_arm_idx_ts_sw, norm_ts_sw_ind_reward, day)\r\n",
    "\r\n",
    "        matching_arm_index_ts_sw = matching_arms.index((price1idx_ts_sw, price2idx_ts_sw, cust, selected_promo_ts_sw))\r\n",
    "        shop_ts.assignment_learner_sw.update(matching_arm_index_ts_sw, norm_ts_sw_ind_reward, day)\r\n",
    "\r\n",
    "        revenue_ts.append(ts_ind_reward)\r\n",
    "        revenue_ts_sw.append(ts_sw_ind_reward)\r\n",
    "        revenue_c.append(c_ind_reward)\r\n",
    "    \r\n",
    "    shop_ts.price_learner_sw.end_of_day(day)\r\n",
    "    shop_ts.assignment_learner_sw.end_of_day(day)\r\n",
    "\r\n",
    "    \"\"\"print(\"DAY:\", day)\r\n",
    "    print(\"SW Pulled Arm:\", )\r\n",
    "    print(\"***********NO SW*****************\")\r\n",
    "    print(shop_ts.price_learner.beta_parameters)\r\n",
    "    print(\"**************SW*****************\")\r\n",
    "    print(shop_ts.price_learner_sw.beta_parameters)\r\n",
    "    print()\"\"\"\r\n",
    "\r\n",
    "    ts_rewards_per_day.append(np.mean(revenue_ts))\r\n",
    "    ts_sw_rewards_per_day.append(np.mean(revenue_ts_sw))\r\n",
    "    c_rewards_per_day.append(np.mean(revenue_c))\r\n",
    "    \r\n",
    "\r\n"
   ],
   "outputs": [],
   "metadata": {}
  },
  {
   "cell_type": "code",
   "execution_count": 47,
   "source": [
    "import matplotlib.pyplot as plt\r\n",
    "plt.plot(np.cumsum(ts_sw_rewards_per_day), color='green', label='2-Step TS-SW')\r\n",
    "plt.plot(np.cumsum(ts_rewards_per_day), color='orange', label='2-Step TS')\r\n",
    "plt.plot(np.cumsum(c_rewards_per_day), color='purple', label='Clairvoyant')\r\n",
    "#plt.plot(np.cumsum(ts_rewards_per_class_per_day), color='red', label='2-step TS')\r\n",
    "#plt.plot(np.cumsum(big_ts_rewards_per_class_per_day), color='blue', label='Big TS')\r\n",
    "\r\n",
    "plt.legend()\r\n",
    "plt.xlabel('Time')\r\n",
    "plt.ylabel('Revenue')"
   ],
   "outputs": [
    {
     "output_type": "execute_result",
     "data": {
      "text/plain": [
       "Text(0, 0.5, 'Revenue')"
      ]
     },
     "metadata": {},
     "execution_count": 47
    },
    {
     "output_type": "display_data",
     "data": {
      "image/png": "[encoded data removed]",
      "text/plain": [
       "<Figure size 432x288 with 1 Axes>"
      ]
     },
     "metadata": {
      "needs_background": "light"
     }
    }
   ],
   "metadata": {}
  },
  {
   "cell_type": "code",
   "execution_count": 48,
   "source": [
    "plt.plot(np.cumsum(np.array(c_rewards_per_day) - np.array(ts_rewards_per_day)), color='red', label='2-step TS')\r\n",
    "plt.plot(np.cumsum(np.array(c_rewards_per_day) - np.array(ts_sw_rewards_per_day)), color='blue', label='2-step TS-SW')\r\n",
    "#plt.plot(np.cumsum(np.array(calt_rewards_per_class_per_day) - np.array(small_ts_rewards_per_class_per_day)), color='purple', label='2-step TS')\r\n",
    "#plt.plot(np.cumsum(np.array(calt_rewards_per_class_per_day) - np.array(u_rewards_per_class_per_day)), color='green', label='Big TS')\r\n",
    "\r\n",
    "plt.legend()\r\n",
    "plt.xlabel('Days')\r\n",
    "plt.ylabel('Regret')"
   ],
   "outputs": [
    {
     "output_type": "execute_result",
     "data": {
      "text/plain": [
       "Text(0, 0.5, 'Regret')"
      ]
     },
     "metadata": {},
     "execution_count": 48
    },
    {
     "output_type": "display_data",
     "data": {
      "image/png": "[encoded data removed]",
      "text/plain": [
       "<Figure size 432x288 with 1 Axes>"
      ]
     },
     "metadata": {
      "needs_background": "light"
     }
    }
   ],
   "metadata": {}
  },
  {
   "cell_type": "code",
   "execution_count": 19,
   "source": [
    "n_matching_arms"
   ],
   "outputs": [
    {
     "output_type": "execute_result",
     "data": {
      "text/plain": [
       "400"
      ]
     },
     "metadata": {},
     "execution_count": 19
    }
   ],
   "metadata": {}
  },
  {
   "cell_type": "code",
   "execution_count": 34,
   "source": [
    "env.true_conv1"
   ],
   "outputs": [
    {
     "output_type": "execute_result",
     "data": {
      "text/plain": [
       "array([[[0.19606042, 0.3100063 , 0.46036076, 0.37415018, 0.95044869],\n",
       "        [0.19903579, 0.73274992, 0.06723265, 0.50658375, 0.52928321],\n",
       "        [0.44593867, 0.96512953, 0.13178814, 0.48679432, 0.79298463],\n",
       "        [0.06032619, 0.34690037, 0.59989951, 0.40608334, 0.9303367 ]],\n",
       "\n",
       "       [[0.86114131, 0.51686439, 0.17821929, 0.56348818, 0.90651157],\n",
       "        [0.47535154, 0.32014764, 0.01931189, 0.68386713, 0.72780363],\n",
       "        [0.55559167, 0.89736261, 0.61626043, 0.37671711, 0.41272453],\n",
       "        [0.22522836, 0.38246496, 0.89011743, 0.73485606, 0.17291941]],\n",
       "\n",
       "       [[0.44968627, 0.70651718, 0.32132595, 0.78166298, 0.69931253],\n",
       "        [0.44017025, 0.94361671, 0.40397476, 0.90820594, 0.96629764],\n",
       "        [0.03449903, 0.68163441, 0.46698768, 0.57580324, 0.22719535],\n",
       "        [0.88394887, 0.0298646 , 0.99680638, 0.40665125, 0.72913718]],\n",
       "\n",
       "       [[0.84434553, 0.17003467, 0.53103698, 0.29313487, 0.74725969],\n",
       "        [0.7901446 , 0.32852785, 0.63712467, 0.32886732, 0.16991268],\n",
       "        [0.31235963, 0.8754701 , 0.30672601, 0.97995657, 0.19994042],\n",
       "        [0.82067655, 0.90460458, 0.32128379, 0.79401184, 0.23198333]]])"
      ]
     },
     "metadata": {},
     "execution_count": 34
    }
   ],
   "metadata": {}
  },
  {
   "cell_type": "code",
   "execution_count": null,
   "source": [],
   "outputs": [],
   "metadata": {}
  }
 ],
 "metadata": {
  "orig_nbformat": 4,
  "language_info": {
   "name": "python",
   "version": "3.8.3",
   "mimetype": "text/x-python",
   "codemirror_mode": {
    "name": "ipython",
    "version": 3
   },
   "pygments_lexer": "ipython3",
   "nbconvert_exporter": "python",
   "file_extension": ".py"
  },
  "kernelspec": {
   "name": "python3",
   "display_name": "Python 3.8.3 32-bit"
  },
  "interpreter": {
   "hash": "228e651cc4a48423604d0443f50a86427611fe0978b12785d27282ccd6ac66f5"
  }
 },
 "nbformat": 4,
 "nbformat_minor": 2
}