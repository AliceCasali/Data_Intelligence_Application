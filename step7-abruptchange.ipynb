{
 "cells": [
  {
   "cell_type": "code",
   "execution_count": 1,
   "source": [
    "import Environment_non_stationary\r\n",
    "import Shop\r\n",
    "from utilities import *\r\n",
    "from mab.ucb_learner import *"
   ],
   "outputs": [],
   "metadata": {}
  },
  {
   "cell_type": "code",
   "execution_count": 2,
   "source": [
    "shop_ts = Shop.Shop()\r\n",
    "shop_c = Shop.Shop()\r\n",
    "\r\n",
    "n_phases = 4\r\n",
    "env = Environment_non_stationary.Environment(shop_ts.prices1, shop_ts.prices2, shop_ts.discounts, n_phases)\r\n",
    "\r\n",
    "shop_ts.set_conv_rate(env.true_conv1, env.true_conv2)\r\n",
    "shop_c.set_conv_rate(env.true_conv1, env.true_conv2)\r\n",
    "\r\n",
    "price_arms = [(i, j) for i in range(len(shop_ts.prices1)) for j in range(len(shop_ts.prices2))]\r\n",
    "n_price_arms = len(price_arms)\r\n",
    "\r\n",
    "matching_arms = [(i, j, k, l) for i in range(len(shop_ts.prices1)) for j in range(len(shop_ts.prices2)) for k in range(shop_ts.n_classes) for l in range(len(shop_ts.discounts))]\r\n",
    "n_matching_arms = len(matching_arms)\r\n",
    "\r\n",
    "shop_ts.set_price_learner('TS', n_price_arms)\r\n",
    "shop_ts.set_assignment_learner('TS', n_matching_arms)\r\n",
    "\r\n",
    "\r\n",
    "days=365\r\n",
    "frame_size = int(days / env.n_phases)\r\n",
    "shop_ts.set_price_learner_sw('TS', n_price_arms, frame_size=frame_size, days=days)\r\n",
    "shop_ts.set_assignment_learner_sw('TS', n_matching_arms, frame_size=frame_size, days=days)\r\n"
   ],
   "outputs": [],
   "metadata": {}
  },
  {
   "cell_type": "code",
   "execution_count": 3,
   "source": [
    "generated_promo_ratios = np.array([0.4, 0.25, 0.2, 0.15])\r\n",
    "max_ind_reward = max(env.prices1) + max(env.prices2)"
   ],
   "outputs": [],
   "metadata": {}
  },
  {
   "cell_type": "code",
   "execution_count": 4,
   "source": [
    "env.true_conv1\r\n"
   ],
   "outputs": [
    {
     "output_type": "execute_result",
     "data": {
      "text/plain": [
       "array([[[0.39584137, 0.73992988, 0.28770046, 0.42148935, 0.50652776],\n",
       "        [0.413027  , 0.78207082, 0.92673085, 0.38607899, 0.38607215],\n",
       "        [0.19849446, 0.88462451, 0.19264156, 0.94524706, 0.63066632],\n",
       "        [0.37453682, 0.60475862, 0.66647016, 0.58534576, 0.82542091]],\n",
       "\n",
       "       [[0.33513821, 0.1095751 , 0.29079221, 0.61693333, 0.9702328 ],\n",
       "        [0.73129147, 0.78556426, 0.13647202, 0.58826111, 0.749472  ],\n",
       "        [0.36402025, 0.95019737, 0.45786939, 0.32200806, 0.54172898],\n",
       "        [0.38338326, 0.83290911, 0.67874032, 0.5853027 , 0.2936004 ]],\n",
       "\n",
       "       [[0.4211383 , 0.38625944, 0.95955742, 0.65905755, 0.76909333],\n",
       "        [0.99238623, 0.26814795, 0.01179103, 0.62233173, 0.11857917],\n",
       "        [0.99120216, 0.37074914, 0.33797829, 0.07917671, 0.50394007],\n",
       "        [0.87075435, 0.65603707, 0.9993871 , 0.24562321, 0.59887362]],\n",
       "\n",
       "       [[0.45657581, 0.44582782, 0.12461282, 0.1428598 , 0.33591438],\n",
       "        [0.96491543, 0.49585582, 0.18836051, 0.43114317, 0.4671415 ],\n",
       "        [0.8195454 , 0.88246408, 0.81971182, 0.77676144, 0.00610194],\n",
       "        [0.44108947, 0.8022492 , 0.15140596, 0.16043448, 0.14648834]]])"
      ]
     },
     "metadata": {},
     "execution_count": 4
    }
   ],
   "metadata": {}
  },
  {
   "cell_type": "code",
   "execution_count": 5,
   "source": [
    "env.true_conv1[0]\r\n",
    "# [phase x class x price]"
   ],
   "outputs": [
    {
     "output_type": "execute_result",
     "data": {
      "text/plain": [
       "array([[0.39584137, 0.73992988, 0.28770046, 0.42148935, 0.50652776],\n",
       "       [0.413027  , 0.78207082, 0.92673085, 0.38607899, 0.38607215],\n",
       "       [0.19849446, 0.88462451, 0.19264156, 0.94524706, 0.63066632],\n",
       "       [0.37453682, 0.60475862, 0.66647016, 0.58534576, 0.82542091]])"
      ]
     },
     "metadata": {},
     "execution_count": 5
    }
   ],
   "metadata": {}
  },
  {
   "cell_type": "code",
   "execution_count": 6,
   "source": [
    "cr11 = np.array([[0.60, 0.51, 0.28, 0.23, 0.19],\r\n",
    "       [0.82, 0.65 , 0.40, 0.30, 0.21],\r\n",
    "       [0.80, 0.66, 0.60, 0.22 , 0.16],\r\n",
    "       [0.91, 0.73, 0.69, 0.19, 0.12]])"
   ],
   "outputs": [],
   "metadata": {}
  },
  {
   "cell_type": "code",
   "execution_count": 7,
   "source": [
    "cr12 = np.array([[0.60, 0.51, 0.38, 0.33, 0.29],\r\n",
    "       [0.92, 0.80 , 0.65, 0.50, 0.45],\r\n",
    "       [0.80, 0.66, 0.60, 0.42 , 0.37],\r\n",
    "       [0.91, 0.73, 0.69, 0.49, 0.45]])"
   ],
   "outputs": [],
   "metadata": {}
  },
  {
   "cell_type": "code",
   "execution_count": 8,
   "source": [
    "cr13 = np.array([[0.90, 0.81, 0.68, 0.53, 0.49],\r\n",
    "       [0.82, 0.65 , 0.40, 0.30, 0.21],\r\n",
    "       [0.70, 0.56, 0.40, 0.16 , 0.10],\r\n",
    "       [0.91, 0.73, 0.69, 0.19, 0.12]])"
   ],
   "outputs": [],
   "metadata": {}
  },
  {
   "cell_type": "code",
   "execution_count": 9,
   "source": [
    "cr14 = np.array([[0.70, 0.51, 0.28, 0.23, 0.19],\r\n",
    "       [0.92, 0.65 , 0.40, 0.30, 0.21],\r\n",
    "       [0.90, 0.66, 0.60, 0.22 , 0.16],\r\n",
    "       [0.98, 0.83, 0.79, 0.59, 0.32]])"
   ],
   "outputs": [],
   "metadata": {}
  },
  {
   "cell_type": "code",
   "execution_count": 10,
   "source": [
    "env.true_conv1[0] = cr11\r\n",
    "env.true_conv1[1] = 1-cr11\r\n",
    "env.true_conv1[2] = cr13\r\n",
    "env.true_conv1[3] = 1-cr13"
   ],
   "outputs": [],
   "metadata": {}
  },
  {
   "cell_type": "code",
   "execution_count": 11,
   "source": [
    "cr22 = np.array([[[0.65, 0.58, 0.48, 0.43, 0.29],\r\n",
    "                [0.70, 0.68, 0.55, 0.50, 0.55],\r\n",
    "                [0.75, 0.70, 0.60, 0.59, 0.40],\r\n",
    "                [0.95, 0.88, 0.85, 0.80, 0.58]],\r\n",
    "\r\n",
    "       [[0.72, 0.55 , 0.30, 0.28, 0.11],\r\n",
    "        [0.75, 0.60 , 0.35, 0.33, 0.16],\r\n",
    "        [0.82, 0.65 , 0.40, 0.38, 0.21],\r\n",
    "        [0.85, 0.75 , 0.55, 0.52, 0.25]],\r\n",
    "\r\n",
    "       [[0.80, 0.66, 0.60, 0.55 , 0.16],\r\n",
    "        [0.84, 0.72, 0.66, 0.62 , 0.18],\r\n",
    "        [0.89, 0.78, 0.70, 0.67 , 0.20],\r\n",
    "        [0.95, 0.85, 0.79, 0.73 , 0.25]],\r\n",
    "\r\n",
    "       [[0.91, 0.73, 0.69, 0.53, 0.12],\r\n",
    "        [0.93, 0.76, 0.74, 0.64, 0.17],\r\n",
    "        [0.96, 0.79, 0.78, 0.70, 0.25],\r\n",
    "        [0.97, 0.83, 0.81, 0.77, 0.45]]])"
   ],
   "outputs": [],
   "metadata": {}
  },
  {
   "cell_type": "code",
   "execution_count": 12,
   "source": [
    "cr21 = np.array([[[0.60, 0.51, 0.28, 0.23, 0.19],\r\n",
    "                [0.65, 0.55, 0.35, 0.30, 0.25],\r\n",
    "                [0.70, 0.60, 0.40, 0.35, 0.30],\r\n",
    "                [0.90, 0.80, 0.75, 0.50, 0.38]],\r\n",
    "\r\n",
    "       [[0.72, 0.55 , 0.30, 0.20, 0.11],\r\n",
    "        [0.75, 0.60 , 0.35, 0.25, 0.16],\r\n",
    "        [0.82, 0.65 , 0.40, 0.30, 0.21],\r\n",
    "        [0.85, 0.75 , 0.55, 0.40, 0.25]],\r\n",
    "\r\n",
    "       [[0.80, 0.66, 0.60, 0.22 , 0.16],\r\n",
    "        [0.84, 0.72, 0.66, 0.28 , 0.18],\r\n",
    "        [0.89, 0.78, 0.70, 0.38 , 0.20],\r\n",
    "        [0.95, 0.85, 0.79, 0.58 , 0.25]],\r\n",
    "\r\n",
    "       [[0.91, 0.73, 0.69, 0.19, 0.12],\r\n",
    "        [0.93, 0.76, 0.74, 0.25, 0.17],\r\n",
    "        [0.96, 0.79, 0.78, 0.40, 0.25],\r\n",
    "        [0.97, 0.83, 0.81, 0.50, 0.45]]])"
   ],
   "outputs": [],
   "metadata": {}
  },
  {
   "cell_type": "code",
   "execution_count": 13,
   "source": [
    "cr23 = np.array([[[0.60, 0.51, 0.48, 0.23, 0.19],\r\n",
    "                [0.65, 0.55, 0.50, 0.30, 0.25],\r\n",
    "                [0.70, 0.60, 0.55, 0.35, 0.30],\r\n",
    "                [0.90, 0.80, 0.78, 0.50, 0.38]],\r\n",
    "\r\n",
    "       [[0.72, 0.55 , 0.50, 0.20, 0.11],\r\n",
    "        [0.75, 0.60 , 0.55, 0.25, 0.16],\r\n",
    "        [0.82, 0.65 , 0.61, 0.30, 0.21],\r\n",
    "        [0.85, 0.75 , 0.72, 0.40, 0.25]],\r\n",
    "\r\n",
    "       [[0.80, 0.66, 0.64, 0.22 , 0.16],\r\n",
    "        [0.84, 0.72, 0.69, 0.28 , 0.18],\r\n",
    "        [0.89, 0.78, 0.75, 0.38 , 0.20],\r\n",
    "        [0.95, 0.85, 0.83, 0.58 , 0.25]],\r\n",
    "\r\n",
    "       [[0.91, 0.78, 0.75, 0.19, 0.12],\r\n",
    "        [0.93, 0.82, 0.77, 0.25, 0.17],\r\n",
    "        [0.96, 0.89, 0.84, 0.40, 0.25],\r\n",
    "        [0.97, 0.93, 0.88, 0.50, 0.45]]])"
   ],
   "outputs": [],
   "metadata": {}
  },
  {
   "cell_type": "code",
   "execution_count": 14,
   "source": [
    "cr24 = np.array([[[0.65, 0.58, 0.48, 0.33, 0.29],\r\n",
    "                [0.70, 0.68, 0.55, 0.40, 0.55],\r\n",
    "                [0.75, 0.70, 0.60, 0.55, 0.40],\r\n",
    "                [0.95, 0.88, 0.85, 0.70, 0.58]],\r\n",
    "\r\n",
    "       [[0.72, 0.55 , 0.30, 0.20, 0.11],\r\n",
    "        [0.75, 0.60 , 0.35, 0.25, 0.16],\r\n",
    "        [0.82, 0.65 , 0.40, 0.30, 0.21],\r\n",
    "        [0.85, 0.75 , 0.55, 0.40, 0.25]],\r\n",
    "\r\n",
    "       [[0.80, 0.66, 0.60, 0.22 , 0.16],\r\n",
    "        [0.84, 0.72, 0.66, 0.28 , 0.18],\r\n",
    "        [0.89, 0.78, 0.70, 0.38 , 0.20],\r\n",
    "        [0.95, 0.85, 0.79, 0.58 , 0.25]],\r\n",
    "\r\n",
    "       [[0.71, 0.53, 0.49, 0.10, 0.05],\r\n",
    "        [0.73, 0.56, 0.54, 0.15, 0.10],\r\n",
    "        [0.76, 0.59, 0.58, 0.22, 0.15],\r\n",
    "        [0.77, 0.63, 0.61, 0.28, 0.17]]])"
   ],
   "outputs": [],
   "metadata": {}
  },
  {
   "cell_type": "code",
   "execution_count": 15,
   "source": [
    "env.true_conv2[0] = cr21\r\n",
    "env.true_conv2[1] = 1-cr21\r\n",
    "env.true_conv2[2] = cr23\r\n",
    "env.true_conv2[3] = 1-cr23"
   ],
   "outputs": [],
   "metadata": {}
  },
  {
   "cell_type": "code",
   "execution_count": 16,
   "source": [
    "shop_c.set_expected_customers(np.array([25, 25, 25, 25]))\r\n",
    "cec = shop_c.get_customer_list()\r\n",
    "cep = shop_c.get_promo_list(generated_promo_ratios)\r\n",
    "\r\n",
    "clairvoyant_promo_fractions = []\r\n",
    "clairvoyant_p1s = []\r\n",
    "clairvoyant_p2s = []\r\n",
    "clairvoyant_p1_idxs = []\r\n",
    "clairvoyant_p2_idxs = []\r\n",
    "for i in range(env.n_phases):\r\n",
    "    shop_c.set_conv_rate(env.true_conv1[i], env.true_conv2[i])\r\n",
    "\r\n",
    "    cmt, cpa, cer, ers  = shop_c.get_clairvoyant_prices_and_matching(cec, cep, 5, 5)\r\n",
    "    cp1idx = price_arms[cpa][0]\r\n",
    "    cp2idx = price_arms[cpa][1]\r\n",
    "    cp1 = env.prices1[cp1idx]\r\n",
    "    cp2 = env.prices2[cp2idx]\r\n",
    "\r\n",
    "    cpf = shop_c.get_promo_fractions_from_tuples(cmt)\r\n",
    "\r\n",
    "    clairvoyant_promo_fractions.append(cpf)\r\n",
    "    clairvoyant_p1s.append(cp1)\r\n",
    "    clairvoyant_p2s.append(cp2)\r\n",
    "    clairvoyant_p1_idxs.append(cp1idx)\r\n",
    "    clairvoyant_p2_idxs.append(cp2idx)\r\n"
   ],
   "outputs": [],
   "metadata": {}
  },
  {
   "cell_type": "code",
   "execution_count": 17,
   "source": [
    "clairvoyant_promo_fractions"
   ],
   "outputs": [
    {
     "output_type": "execute_result",
     "data": {
      "text/plain": [
       "[array([[0. , 1. , 0. , 0. ],\n",
       "        [0. , 0. , 0.4, 0.6],\n",
       "        [0.6, 0. , 0.4, 0. ],\n",
       "        [1. , 0. , 0. , 0. ]]),\n",
       " array([[1. , 0. , 0. , 0. ],\n",
       "        [0.4, 0. , 0. , 0.6],\n",
       "        [0.2, 0. , 0.8, 0. ],\n",
       "        [0. , 1. , 0. , 0. ]]),\n",
       " array([[0.4, 0. , 0. , 0.6],\n",
       "        [0.2, 0. , 0.8, 0. ],\n",
       "        [0. , 1. , 0. , 0. ],\n",
       "        [1. , 0. , 0. , 0. ]]),\n",
       " array([[0.4, 0. , 0. , 0.6],\n",
       "        [1. , 0. , 0. , 0. ],\n",
       "        [0.2, 0. , 0.8, 0. ],\n",
       "        [0. , 1. , 0. , 0. ]])]"
      ]
     },
     "metadata": {},
     "execution_count": 17
    }
   ],
   "metadata": {}
  },
  {
   "cell_type": "code",
   "execution_count": 18,
   "source": [
    "ts_rewards_per_day = []\r\n",
    "ts_sw_rewards_per_day = []\r\n",
    "c_rewards_per_day = []\r\n",
    "\r\n",
    "customers_em = np.array([0, 0, 0, 0])\r\n",
    "customers_ie = np.array([25, 25, 25, 25])\r\n",
    "\r\n",
    "for day in range(days):\r\n",
    "    if day == 0:\r\n",
    "        shop_ts.set_expected_customers(customers_ie)\r\n",
    "    else:\r\n",
    "        customers_em = (customers_em*(day-1) + env.customers) / day\r\n",
    "        shop_ts.set_expected_customers((customers_em + 0.99).astype(int))\r\n",
    "\r\n",
    "    # 2-step learner with no sliding window\r\n",
    "    price_arm_idx_ts = shop_ts.price_learner.pull_arm()\r\n",
    "\r\n",
    "    price1idx_ts = price_arms[price_arm_idx_ts][0]\r\n",
    "    price2idx_ts = price_arms[price_arm_idx_ts][1]\r\n",
    "    price1_ts = env.prices1[price_arms[price_arm_idx_ts][0]]\r\n",
    "    price2_ts = env.prices2[price_arms[price_arm_idx_ts][1]]\r\n",
    "\r\n",
    "    expected_customers_ts = shop_ts.get_customer_list()\r\n",
    "    expected_promos_ts = shop_ts.get_promo_list(generated_promo_ratios)\r\n",
    "    matched_tuples_ts = shop_ts.assignment_learner.pull_arm_matching(expected_customers_ts, expected_promos_ts, matching_arms, price1idx_ts, price2idx_ts)\r\n",
    "    promo_fractions_ts = shop_ts.get_promo_fractions_from_tuples(matched_tuples_ts)\r\n",
    "\r\n",
    "    # 2-step learner with sliding window\r\n",
    "    price_arm_idx_ts_sw = shop_ts.price_learner_sw.pull_arm(day)\r\n",
    "\r\n",
    "    price1idx_ts_sw = price_arms[price_arm_idx_ts_sw][0]\r\n",
    "    price2idx_ts_sw = price_arms[price_arm_idx_ts_sw][1]\r\n",
    "    price1_ts_sw = env.prices1[price_arms[price_arm_idx_ts_sw][0]]\r\n",
    "    price2_ts_sw = env.prices2[price_arms[price_arm_idx_ts_sw][1]]\r\n",
    "\r\n",
    "    expected_customers_ts_sw = shop_ts.get_customer_list()\r\n",
    "    expected_promos_ts_sw = shop_ts.get_promo_list(generated_promo_ratios)\r\n",
    "    matched_tuples_ts_sw = shop_ts.assignment_learner_sw.pull_arm_matching(expected_customers_ts_sw, expected_promos_ts_sw, matching_arms, day, price1idx_ts_sw, price2idx_ts_sw)\r\n",
    "    promo_fractions_ts_sw = shop_ts.get_promo_fractions_from_tuples(matched_tuples_ts_sw)\r\n",
    "\r\n",
    "    # simulate the day\r\n",
    "    env.generate_next_day_customers()\r\n",
    "\r\n",
    "    enum_customers = list(enumerate(env.customers))\r\n",
    "    customers = np.concatenate([np.ones(c).astype(int)*p for p,c in enum_customers])\r\n",
    "    np.random.shuffle(customers)\r\n",
    "\r\n",
    "    revenue_ts = []\r\n",
    "    revenue_ts_sw = []\r\n",
    "    revenue_c = []\r\n",
    "\r\n",
    "    ts_total_reward = 0\r\n",
    "    ts_sw_total_reward = 0\r\n",
    "\r\n",
    "    c_count = 0\r\n",
    "\r\n",
    "    phase = env.get_phase(days) % env.n_phases\r\n",
    "    \r\n",
    "    for cust in customers:\r\n",
    "\r\n",
    "        selected_promo_ts = np.random.choice([0, 1, 2, 3], 1, p=promo_fractions_ts[cust])\r\n",
    "        selected_promo_ts_sw = np.random.choice([0, 1, 2, 3], 1, p=promo_fractions_ts_sw[cust])\r\n",
    "        selected_promo_c = np.random.choice([0, 1, 2, 3], 1, p=clairvoyant_promo_fractions[phase][cust])\r\n",
    "\r\n",
    "        ts_buy1 = env.round1(cust, price1_ts, days)\r\n",
    "        ts_buy2 = 0\r\n",
    "        if ts_buy1:\r\n",
    "            ts_buy2 = env.round2(cust, selected_promo_ts, price2_ts, days)\r\n",
    "\r\n",
    "        # c_buy1 = env.round1(cust, clairvoyant_p1s[phase], days)\r\n",
    "        # c_buy2 = 0\r\n",
    "        # if c_buy1:\r\n",
    "        #     c_buy2 = env.round2(cust, selected_promo_c, clairvoyant_p2s[phase], days)\r\n",
    "\r\n",
    "        ts_sw_buy1 = env.round1(cust, price1_ts_sw, days)\r\n",
    "        ts_sw_buy2 = 0\r\n",
    "        if ts_sw_buy1:\r\n",
    "            ts_sw_buy2 = env.round2(cust, selected_promo_ts_sw, price2_ts_sw, days)\r\n",
    "\r\n",
    "        ts_ind_reward = ts_buy1*price1_ts + ts_buy2*price2_ts*(1-shop_ts.discounts[selected_promo_ts])\r\n",
    "        ts_sw_ind_reward = ts_sw_buy1*price1_ts_sw + ts_sw_buy2*price2_ts_sw*(1-shop_ts.discounts[selected_promo_ts_sw])\r\n",
    "                \r\n",
    "        c_ind_reward = clairvoyant_p1s[phase]*env.true_conv1[phase, cust, clairvoyant_p1_idxs[phase]] + env.true_conv1[phase, cust, clairvoyant_p1_idxs[phase]]*env.true_conv2[phase, selected_promo_c, cust, clairvoyant_p2_idxs[phase]]*clairvoyant_p2s[phase]*(1-shop_c.discounts[selected_promo_c])\r\n",
    "\r\n",
    "        norm_ts_ind_reward = ts_ind_reward / max_ind_reward\r\n",
    "        norm_ts_sw_ind_reward = ts_sw_ind_reward / max_ind_reward\r\n",
    "\r\n",
    "        # update 2-step learner with no sliding window\r\n",
    "        shop_ts.price_learner.update(price_arm_idx_ts, norm_ts_ind_reward)\r\n",
    "\r\n",
    "        matching_arm_index_ts = matching_arms.index((price1idx_ts, price2idx_ts, cust, selected_promo_ts))\r\n",
    "        shop_ts.assignment_learner.update(matching_arm_index_ts, norm_ts_ind_reward)\r\n",
    "\r\n",
    "        # update 2-step learner with sliding window\r\n",
    "        shop_ts.price_learner_sw.update(price_arm_idx_ts_sw, norm_ts_sw_ind_reward, day)\r\n",
    "\r\n",
    "        matching_arm_index_ts_sw = matching_arms.index((price1idx_ts_sw, price2idx_ts_sw, cust, selected_promo_ts_sw))\r\n",
    "        shop_ts.assignment_learner_sw.update(matching_arm_index_ts_sw, norm_ts_sw_ind_reward, day)\r\n",
    "\r\n",
    "        revenue_ts.append(ts_ind_reward)\r\n",
    "        revenue_ts_sw.append(ts_sw_ind_reward)\r\n",
    "        revenue_c.append(c_ind_reward)\r\n",
    "    \r\n",
    "    shop_ts.price_learner_sw.end_of_day(day)\r\n",
    "    shop_ts.assignment_learner_sw.end_of_day(day)\r\n",
    "\r\n",
    "    \"\"\"print(\"DAY:\", day)\r\n",
    "    print(\"SW Pulled Arm:\", )\r\n",
    "    print(\"***********NO SW*****************\")\r\n",
    "    print(shop_ts.price_learner.beta_parameters)\r\n",
    "    print(\"**************SW*****************\")\r\n",
    "    print(shop_ts.price_learner_sw.beta_parameters)\r\n",
    "    print()\"\"\"\r\n",
    "\r\n",
    "    ts_rewards_per_day.append(np.mean(revenue_ts))\r\n",
    "    ts_sw_rewards_per_day.append(np.mean(revenue_ts_sw))\r\n",
    "    c_rewards_per_day.append(np.mean(revenue_c))\r\n",
    "    \r\n",
    "\r\n"
   ],
   "outputs": [],
   "metadata": {}
  },
  {
   "cell_type": "code",
   "execution_count": 19,
   "source": [
    "import matplotlib.pyplot as plt\r\n",
    "plt.plot(np.cumsum(ts_sw_rewards_per_day), color='green', label='2-Step TS-SW')\r\n",
    "plt.plot(np.cumsum(ts_rewards_per_day), color='orange', label='2-Step TS')\r\n",
    "plt.plot(np.cumsum(c_rewards_per_day), color='purple', label='Clairvoyant')\r\n",
    "#plt.plot(np.cumsum(ts_rewards_per_class_per_day), color='red', label='2-step TS')\r\n",
    "#plt.plot(np.cumsum(big_ts_rewards_per_class_per_day), color='blue', label='Big TS')\r\n",
    "\r\n",
    "plt.legend()\r\n",
    "plt.xlabel('Time')\r\n",
    "plt.ylabel('Revenue')"
   ],
   "outputs": [
    {
     "output_type": "execute_result",
     "data": {
      "text/plain": [
       "Text(0, 0.5, 'Revenue')"
      ]
     },
     "metadata": {},
     "execution_count": 19
    },
    {
     "output_type": "display_data",
     "data": {
      "image/png": "[encoded data removed]",
      "text/plain": [
       "<Figure size 432x288 with 1 Axes>"
      ]
     },
     "metadata": {
      "needs_background": "light"
     }
    }
   ],
   "metadata": {}
  },
  {
   "cell_type": "code",
   "execution_count": 20,
   "source": [
    "plt.plot(np.cumsum(np.array(c_rewards_per_day) - np.array(ts_rewards_per_day)), color='red', label='2-step TS')\r\n",
    "plt.plot(np.cumsum(np.array(c_rewards_per_day) - np.array(ts_sw_rewards_per_day)), color='blue', label='2-step TS-SW')\r\n",
    "#plt.plot(np.cumsum(np.array(calt_rewards_per_class_per_day) - np.array(small_ts_rewards_per_class_per_day)), color='purple', label='2-step TS')\r\n",
    "#plt.plot(np.cumsum(np.array(calt_rewards_per_class_per_day) - np.array(u_rewards_per_class_per_day)), color='green', label='Big TS')\r\n",
    "\r\n",
    "plt.legend()\r\n",
    "plt.xlabel('Days')\r\n",
    "plt.ylabel('Regret')"
   ],
   "outputs": [
    {
     "output_type": "execute_result",
     "data": {
      "text/plain": [
       "Text(0, 0.5, 'Regret')"
      ]
     },
     "metadata": {},
     "execution_count": 20
    },
    {
     "output_type": "display_data",
     "data": {
      "image/png": "[encoded data removed]",
      "text/plain": [
       "<Figure size 432x288 with 1 Axes>"
      ]
     },
     "metadata": {
      "needs_background": "light"
     }
    }
   ],
   "metadata": {}
  },
  {
   "cell_type": "code",
   "execution_count": 21,
   "source": [
    "n_matching_arms"
   ],
   "outputs": [
    {
     "output_type": "execute_result",
     "data": {
      "text/plain": [
       "400"
      ]
     },
     "metadata": {},
     "execution_count": 21
    }
   ],
   "metadata": {}
  },
  {
   "cell_type": "code",
   "execution_count": 22,
   "source": [
    "env.true_conv1"
   ],
   "outputs": [
    {
     "output_type": "execute_result",
     "data": {
      "text/plain": [
       "array([[[0.6 , 0.51, 0.28, 0.23, 0.19],\n",
       "        [0.82, 0.65, 0.4 , 0.3 , 0.21],\n",
       "        [0.8 , 0.66, 0.6 , 0.22, 0.16],\n",
       "        [0.91, 0.73, 0.69, 0.19, 0.12]],\n",
       "\n",
       "       [[0.4 , 0.49, 0.72, 0.77, 0.81],\n",
       "        [0.18, 0.35, 0.6 , 0.7 , 0.79],\n",
       "        [0.2 , 0.34, 0.4 , 0.78, 0.84],\n",
       "        [0.09, 0.27, 0.31, 0.81, 0.88]],\n",
       "\n",
       "       [[0.9 , 0.81, 0.68, 0.53, 0.49],\n",
       "        [0.82, 0.65, 0.4 , 0.3 , 0.21],\n",
       "        [0.7 , 0.56, 0.4 , 0.16, 0.1 ],\n",
       "        [0.91, 0.73, 0.69, 0.19, 0.12]],\n",
       "\n",
       "       [[0.1 , 0.19, 0.32, 0.47, 0.51],\n",
       "        [0.18, 0.35, 0.6 , 0.7 , 0.79],\n",
       "        [0.3 , 0.44, 0.6 , 0.84, 0.9 ],\n",
       "        [0.09, 0.27, 0.31, 0.81, 0.88]]])"
      ]
     },
     "metadata": {},
     "execution_count": 22
    }
   ],
   "metadata": {}
  },
  {
   "cell_type": "code",
   "execution_count": null,
   "source": [],
   "outputs": [],
   "metadata": {}
  }
 ],
 "metadata": {
  "orig_nbformat": 4,
  "language_info": {
   "name": "python",
   "version": "3.9.6",
   "mimetype": "text/x-python",
   "codemirror_mode": {
    "name": "ipython",
    "version": 3
   },
   "pygments_lexer": "ipython3",
   "nbconvert_exporter": "python",
   "file_extension": ".py"
  },
  "kernelspec": {
   "name": "python3",
   "display_name": "Python 3.9.6 64-bit"
  },
  "interpreter": {
   "hash": "8dc9504be67acba47bacf60bff7f553f62706ea7a10aa24f4f54855ef6b1dd44"
  }
 },
 "nbformat": 4,
 "nbformat_minor": 2
}