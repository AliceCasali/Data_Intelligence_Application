{
 "cells": [
  {
   "cell_type": "code",
   "execution_count": 26,
   "source": [
    "import Environment_non_stationary\r\n",
    "import Shop\r\n",
    "from utilities import *\r\n",
    "from mab.ucb_learner import *"
   ],
   "outputs": [],
   "metadata": {}
  },
  {
   "cell_type": "code",
   "execution_count": 27,
   "source": [
    "shop_ts = Shop.Shop()\r\n",
    "shop_c = Shop.Shop()\r\n",
    "\r\n",
    "n_phases = 4\r\n",
    "env = Environment_non_stationary.Environment(shop_ts.prices1, shop_ts.prices2, shop_ts.discounts, n_phases)\r\n",
    "\r\n",
    "shop_ts.set_conv_rate(env.true_conv1, env.true_conv2)\r\n",
    "shop_c.set_conv_rate(env.true_conv1, env.true_conv2)\r\n",
    "\r\n",
    "price_arms = [(i, j) for i in range(len(shop_ts.prices1)) for j in range(len(shop_ts.prices2))]\r\n",
    "n_price_arms = len(price_arms)\r\n",
    "\r\n",
    "matching_arms = [(i, j, k, l) for i in range(len(shop_ts.prices1)) for j in range(len(shop_ts.prices2)) for k in range(shop_ts.n_classes) for l in range(len(shop_ts.discounts))]\r\n",
    "n_matching_arms = len(matching_arms)\r\n",
    "\r\n",
    "shop_ts.set_price_learner('TS', n_price_arms)\r\n",
    "shop_ts.set_assignment_learner('TS', n_matching_arms)\r\n",
    "\r\n",
    "\r\n",
    "days=365\r\n",
    "frame_size = int(days / env.n_phases)\r\n",
    "shop_ts.set_price_learner_sw('TS', n_price_arms, frame_size=frame_size, days=days)\r\n",
    "shop_ts.set_assignment_learner_sw('TS', n_matching_arms, frame_size=frame_size, days=days)\r\n"
   ],
   "outputs": [],
   "metadata": {}
  },
  {
   "cell_type": "code",
   "execution_count": 28,
   "source": [
    "generated_promo_ratios = np.array([0.4, 0.25, 0.2, 0.15])\r\n",
    "max_ind_reward = max(env.prices1) + max(env.prices2)"
   ],
   "outputs": [],
   "metadata": {}
  },
  {
   "cell_type": "code",
   "execution_count": 29,
   "source": [
    "\"\"\"#get clairvoyants for each phase\r\n",
    "shop_c.set_expected_customers(np.array([25, 25, 25, 25]))\r\n",
    "cec = shop_c.get_customer_list()\r\n",
    "cep = shop_c.get_promo_list(generated_promo_ratios)\r\n",
    "\r\n",
    "c_prices, cpf = shop_c.get_clairvoyants_by_phase(cec, cep, len(env.prices1), len(env.prices2), env.n_phases, price_arms)\r\n",
    "\r\n",
    "\"\"\"\r\n"
   ],
   "outputs": [
    {
     "output_type": "execute_result",
     "data": {
      "text/plain": [
       "'#get clairvoyants for each phase\\nshop_c.set_expected_customers(np.array([25, 25, 25, 25]))\\ncec = shop_c.get_customer_list()\\ncep = shop_c.get_promo_list(generated_promo_ratios)\\n\\nc_prices, cpf = shop_c.get_clairvoyants_by_phase(cec, cep, len(env.prices1), len(env.prices2), env.n_phases, price_arms)\\n\\n'"
      ]
     },
     "metadata": {},
     "execution_count": 29
    }
   ],
   "metadata": {}
  },
  {
   "cell_type": "code",
   "execution_count": 30,
   "source": [
    "shop_c.set_expected_customers(np.array([25, 25, 25, 25]))\r\n",
    "cec = shop_c.get_customer_list()\r\n",
    "cep = shop_c.get_promo_list(generated_promo_ratios)\r\n",
    "\r\n",
    "clairvoyant_promo_fractions = []\r\n",
    "clairvoyant_p1s = []\r\n",
    "clairvoyant_p2s = []\r\n",
    "clairvoyant_p1_idxs = []\r\n",
    "clairvoyant_p2_idxs = []\r\n",
    "for i in range(env.n_phases):\r\n",
    "    shop_c.set_conv_rate(env.true_conv1[i], env.true_conv2[i])\r\n",
    "\r\n",
    "    cmt, cpa, cer, ers  = shop_c.get_clairvoyant_prices_and_matching(cec, cep, 5, 5)\r\n",
    "    cp1idx = price_arms[cpa][0]\r\n",
    "    cp2idx = price_arms[cpa][1]\r\n",
    "    cp1 = env.prices1[cp1idx]\r\n",
    "    cp2 = env.prices2[cp2idx]\r\n",
    "\r\n",
    "    cpf = shop_c.get_promo_fractions_from_tuples(cmt)\r\n",
    "\r\n",
    "    clairvoyant_promo_fractions.append(cpf)\r\n",
    "    clairvoyant_p1s.append(cp1)\r\n",
    "    clairvoyant_p2s.append(cp2)\r\n",
    "    clairvoyant_p1_idxs.append(cp1idx)\r\n",
    "    clairvoyant_p2_idxs.append(cp2idx)\r\n"
   ],
   "outputs": [],
   "metadata": {}
  },
  {
   "cell_type": "code",
   "execution_count": 31,
   "source": [
    "clairvoyant_promo_fractions"
   ],
   "outputs": [
    {
     "output_type": "execute_result",
     "data": {
      "text/plain": [
       "[array([[1. , 0. , 0. , 0. ],\n",
       "        [0.6, 0. , 0. , 0.4],\n",
       "        [0. , 0. , 0.8, 0.2],\n",
       "        [0. , 1. , 0. , 0. ]]),\n",
       " array([[0. , 0.2, 0.8, 0. ],\n",
       "        [0.6, 0. , 0. , 0.4],\n",
       "        [1. , 0. , 0. , 0. ],\n",
       "        [0. , 0.8, 0. , 0.2]]),\n",
       " array([[0.2, 0. , 0.8, 0. ],\n",
       "        [0.4, 0. , 0. , 0.6],\n",
       "        [0. , 1. , 0. , 0. ],\n",
       "        [1. , 0. , 0. , 0. ]]),\n",
       " array([[0. , 0.2, 0.8, 0. ],\n",
       "        [0.2, 0.8, 0. , 0. ],\n",
       "        [1. , 0. , 0. , 0. ],\n",
       "        [0.4, 0. , 0. , 0.6]])]"
      ]
     },
     "metadata": {},
     "execution_count": 31
    }
   ],
   "metadata": {}
  },
  {
   "cell_type": "code",
   "execution_count": 32,
   "source": [
    "ts_rewards_per_day = []\r\n",
    "ts_sw_rewards_per_day = []\r\n",
    "c_rewards_per_day = []\r\n",
    "\r\n",
    "customers_em = np.array([0, 0, 0, 0])\r\n",
    "customers_ie = np.array([25, 25, 25, 25])\r\n",
    "\r\n",
    "for day in range(days):\r\n",
    "    if day == 0:\r\n",
    "        shop_ts.set_expected_customers(customers_ie)\r\n",
    "    else:\r\n",
    "        customers_em = (customers_em*(day-1) + env.customers) / day\r\n",
    "        shop_ts.set_expected_customers((customers_em + 0.99).astype(int))\r\n",
    "\r\n",
    "    # 2-step learner with no sliding window\r\n",
    "    price_arm_idx_ts = shop_ts.price_learner.pull_arm()\r\n",
    "\r\n",
    "    price1idx_ts = price_arms[price_arm_idx_ts][0]\r\n",
    "    price2idx_ts = price_arms[price_arm_idx_ts][1]\r\n",
    "    price1_ts = env.prices1[price_arms[price_arm_idx_ts][0]]\r\n",
    "    price2_ts = env.prices2[price_arms[price_arm_idx_ts][1]]\r\n",
    "\r\n",
    "    expected_customers_ts = shop_ts.get_customer_list()\r\n",
    "    expected_promos_ts = shop_ts.get_promo_list(generated_promo_ratios)\r\n",
    "    matched_tuples_ts = shop_ts.assignment_learner.pull_arm_matching(expected_customers_ts, expected_promos_ts, matching_arms, price1idx_ts, price2idx_ts)\r\n",
    "    promo_fractions_ts = shop_ts.get_promo_fractions_from_tuples(matched_tuples_ts)\r\n",
    "\r\n",
    "    # 2-step learner with sliding window\r\n",
    "    price_arm_idx_ts_sw = shop_ts.price_learner_sw.pull_arm(day)\r\n",
    "\r\n",
    "    price1idx_ts_sw = price_arms[price_arm_idx_ts_sw][0]\r\n",
    "    price2idx_ts_sw = price_arms[price_arm_idx_ts_sw][1]\r\n",
    "    price1_ts_sw = env.prices1[price_arms[price_arm_idx_ts_sw][0]]\r\n",
    "    price2_ts_sw = env.prices2[price_arms[price_arm_idx_ts_sw][1]]\r\n",
    "\r\n",
    "    expected_customers_ts_sw = shop_ts.get_customer_list()\r\n",
    "    expected_promos_ts_sw = shop_ts.get_promo_list(generated_promo_ratios)\r\n",
    "    matched_tuples_ts_sw = shop_ts.assignment_learner_sw.pull_arm_matching(expected_customers_ts_sw, expected_promos_ts_sw, matching_arms, day, price1idx_ts_sw, price2idx_ts_sw)\r\n",
    "    promo_fractions_ts_sw = shop_ts.get_promo_fractions_from_tuples(matched_tuples_ts_sw)\r\n",
    "\r\n",
    "    # simulate the day\r\n",
    "    env.generate_next_day_customers()\r\n",
    "\r\n",
    "    enum_customers = list(enumerate(env.customers))\r\n",
    "    customers = np.concatenate([np.ones(c).astype(int)*p for p,c in enum_customers])\r\n",
    "    np.random.shuffle(customers)\r\n",
    "\r\n",
    "    revenue_ts = []\r\n",
    "    revenue_ts_sw = []\r\n",
    "    revenue_c = []\r\n",
    "\r\n",
    "    ts_total_reward = 0\r\n",
    "    ts_sw_total_reward = 0\r\n",
    "\r\n",
    "    c_count = 0\r\n",
    "\r\n",
    "    phase = env.get_phase(days) % env.n_phases\r\n",
    "    \r\n",
    "    for cust in customers:\r\n",
    "\r\n",
    "        selected_promo_ts = np.random.choice([0, 1, 2, 3], 1, p=promo_fractions_ts[cust])\r\n",
    "        selected_promo_ts_sw = np.random.choice([0, 1, 2, 3], 1, p=promo_fractions_ts_sw[cust])\r\n",
    "        selected_promo_c = np.random.choice([0, 1, 2, 3], 1, p=clairvoyant_promo_fractions[phase][cust])\r\n",
    "\r\n",
    "        ts_buy1 = env.round1(cust, price1_ts, days)\r\n",
    "        ts_buy2 = 0\r\n",
    "        if ts_buy1:\r\n",
    "            ts_buy2 = env.round2(cust, selected_promo_ts, price2_ts, days)\r\n",
    "\r\n",
    "        c_buy1 = env.round1(cust, clairvoyant_p1s[phase], days)\r\n",
    "        c_buy2 = 0\r\n",
    "        if c_buy1:\r\n",
    "            c_buy2 = env.round2(cust, selected_promo_c, clairvoyant_p2s[phase], days)\r\n",
    "\r\n",
    "        ts_sw_buy1 = env.round1(cust, price1_ts_sw, days)\r\n",
    "        ts_sw_buy2 = 0\r\n",
    "        if ts_sw_buy1:\r\n",
    "            ts_sw_buy2 = env.round2(cust, selected_promo_ts_sw, price2_ts_sw, days)\r\n",
    "\r\n",
    "        ts_ind_reward = ts_buy1*price1_ts + ts_buy2*price2_ts*(1-shop_ts.discounts[selected_promo_ts])\r\n",
    "        ts_sw_ind_reward = ts_sw_buy1*price1_ts_sw + ts_sw_buy2*price2_ts_sw*(1-shop_ts.discounts[selected_promo_ts_sw])\r\n",
    "        c_ind_reward = c_buy1*clairvoyant_p1s[phase] + c_buy2*clairvoyant_p2s[phase]*(1-shop_c.discounts[selected_promo_c])\r\n",
    "\r\n",
    "        norm_ts_ind_reward = ts_ind_reward / max_ind_reward\r\n",
    "        norm_ts_sw_ind_reward = ts_sw_ind_reward / max_ind_reward\r\n",
    "\r\n",
    "        # update 2-step learner with no sliding window\r\n",
    "        shop_ts.price_learner.update(price_arm_idx_ts, norm_ts_ind_reward)\r\n",
    "\r\n",
    "        matching_arm_index_ts = matching_arms.index((price1idx_ts, price2idx_ts, cust, selected_promo_ts))\r\n",
    "        shop_ts.assignment_learner.update(matching_arm_index_ts, norm_ts_ind_reward)\r\n",
    "\r\n",
    "        # update 2-step learner with sliding window\r\n",
    "        shop_ts.price_learner_sw.update(price_arm_idx_ts_sw, norm_ts_sw_ind_reward, day)\r\n",
    "\r\n",
    "        matching_arm_index_ts_sw = matching_arms.index((price1idx_ts_sw, price2idx_ts_sw, cust, selected_promo_ts_sw))\r\n",
    "        shop_ts.assignment_learner_sw.update(matching_arm_index_ts_sw, norm_ts_sw_ind_reward, day)\r\n",
    "\r\n",
    "        revenue_ts.append(ts_ind_reward)\r\n",
    "        revenue_ts_sw.append(ts_sw_ind_reward)\r\n",
    "        revenue_c.append(c_ind_reward)\r\n",
    "    \r\n",
    "    pl_day_to_del, pl_rew_dl, pl_n_del, pl_bp0, pl_bp1 = shop_ts.price_learner_sw.end_of_day(day)\r\n",
    "    al_day_to_del, al_rew_dl, al_n_del, al_bp0, al_bp1 = shop_ts.assignment_learner_sw.end_of_day(day)\r\n",
    "\r\n",
    "    \"\"\"print(\"DAY:\", day)\r\n",
    "    print(\"SW Pulled Arm:\", )\r\n",
    "    print(\"***********NO SW*****************\")\r\n",
    "    print(shop_ts.price_learner.beta_parameters)\r\n",
    "    print(\"**************SW*****************\")\r\n",
    "    print(shop_ts.price_learner_sw.beta_parameters)\r\n",
    "    print()\"\"\"\r\n",
    "\r\n",
    "    ts_rewards_per_day.append(np.mean(revenue_ts))\r\n",
    "    ts_sw_rewards_per_day.append(np.mean(revenue_ts_sw))\r\n",
    "    c_rewards_per_day.append(np.mean(revenue_c))\r\n",
    "    \r\n",
    "\r\n"
   ],
   "outputs": [],
   "metadata": {}
  },
  {
   "cell_type": "code",
   "execution_count": 33,
   "source": [
    "import matplotlib.pyplot as plt\r\n",
    "plt.plot(np.cumsum(ts_sw_rewards_per_day), color='green', label='2-Step TS-SW')\r\n",
    "plt.plot(np.cumsum(ts_rewards_per_day), color='orange', label='2-Step TS')\r\n",
    "plt.plot(np.cumsum(c_rewards_per_day), color='purple', label='Clairvoyant')\r\n",
    "#plt.plot(np.cumsum(ts_rewards_per_class_per_day), color='red', label='2-step TS')\r\n",
    "#plt.plot(np.cumsum(big_ts_rewards_per_class_per_day), color='blue', label='Big TS')\r\n",
    "\r\n",
    "plt.legend()\r\n",
    "plt.xlabel('Time')\r\n",
    "plt.ylabel('Revenue')"
   ],
   "outputs": [
    {
     "output_type": "execute_result",
     "data": {
      "text/plain": [
       "Text(0, 0.5, 'Revenue')"
      ]
     },
     "metadata": {},
     "execution_count": 33
    },
    {
     "output_type": "display_data",
     "data": {
      "image/png": "[encoded data removed]",
      "text/plain": [
       "<Figure size 432x288 with 1 Axes>"
      ]
     },
     "metadata": {
      "needs_background": "light"
     }
    }
   ],
   "metadata": {}
  },
  {
   "cell_type": "code",
   "execution_count": 18,
   "source": [
    "len(shop_ts.assignment_learner_sw.collected_rewards[40])"
   ],
   "outputs": [
    {
     "output_type": "execute_result",
     "data": {
      "text/plain": [
       "365"
      ]
     },
     "metadata": {},
     "execution_count": 18
    }
   ],
   "metadata": {}
  },
  {
   "cell_type": "code",
   "execution_count": 19,
   "source": [
    "n_matching_arms"
   ],
   "outputs": [
    {
     "output_type": "execute_result",
     "data": {
      "text/plain": [
       "400"
      ]
     },
     "metadata": {},
     "execution_count": 19
    }
   ],
   "metadata": {}
  },
  {
   "cell_type": "code",
   "execution_count": null,
   "source": [],
   "outputs": [],
   "metadata": {}
  }
 ],
 "metadata": {
  "orig_nbformat": 4,
  "language_info": {
   "name": "python",
   "version": "3.8.3",
   "mimetype": "text/x-python",
   "codemirror_mode": {
    "name": "ipython",
    "version": 3
   },
   "pygments_lexer": "ipython3",
   "nbconvert_exporter": "python",
   "file_extension": ".py"
  },
  "kernelspec": {
   "name": "python3",
   "display_name": "Python 3.8.3 32-bit"
  },
  "interpreter": {
   "hash": "228e651cc4a48423604d0443f50a86427611fe0978b12785d27282ccd6ac66f5"
  }
 },
 "nbformat": 4,
 "nbformat_minor": 2
}