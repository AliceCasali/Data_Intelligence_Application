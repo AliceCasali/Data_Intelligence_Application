{
 "metadata": {
  "language_info": {
   "codemirror_mode": {
    "name": "ipython",
    "version": 3
   },
   "file_extension": ".py",
   "mimetype": "text/x-python",
   "name": "python",
   "nbconvert_exporter": "python",
   "pygments_lexer": "ipython3",
   "version": "3.8.5"
  },
  "orig_nbformat": 2,
  "kernelspec": {
   "name": "python3",
   "display_name": "Python 3.8.5 64-bit"
  },
  "metadata": {
   "interpreter": {
    "hash": "916dbcbb3f70747c44a77c7bcd40155683ae19c65e1c03b4aa3499c5328201f1"
   }
  },
  "interpreter": {
   "hash": "916dbcbb3f70747c44a77c7bcd40155683ae19c65e1c03b4aa3499c5328201f1"
  }
 },
 "nbformat": 4,
 "nbformat_minor": 2,
 "cells": [
  {
   "cell_type": "code",
   "execution_count": 1,
   "source": [
    "import Environment\n",
    "import Shop\n",
    "from mab.ts_learner import *\n",
    "from mab.ucb_learner import *\n",
    "from utilities import *"
   ],
   "outputs": [],
   "metadata": {}
  },
  {
   "cell_type": "markdown",
   "source": [
    "In this setting we have three shops:\n",
    "1. **Clairvoyant**: which just naively tests all permutations of possible prices and picks the best one\n",
    "2. **TS**: which learns the best possible price using Thompson Sampling.\n",
    "3. **UCB**: which learns the best possible price using Upper Confidence Bound.\n",
    "\n",
    "The shops are assumed to know everything except for the price of the first item."
   ],
   "metadata": {}
  },
  {
   "cell_type": "code",
   "execution_count": 2,
   "source": [
    "shop_ts = Shop.Shop()\n",
    "shop_ucb = Shop.Shop()\n",
    "shop_clairvoyant = Shop.Shop()\n",
    "\n",
    "print(shop_ts.prices1)\n",
    "print(shop_ts.prices2)\n",
    "\n",
    "env = Environment.Environment(shop_clairvoyant.prices1,shop_clairvoyant.prices2,shop_clairvoyant.discounts)\n",
    "\n",
    "# The environment decides the conversion rates, which are shared among all the shops.\n",
    "shop_clairvoyant.set_conv_rate(env.true_conv1, env.true_conv2)\n",
    "shop_ts.set_conv_rate(env.true_conv1,env.true_conv2)\n",
    "shop_ucb.set_conv_rate(env.true_conv1, env.true_conv2)\n",
    "\n",
    "#Initialize learners\n",
    "n_arms = len(env.prices1)\n",
    "shop_ts.set_price_learner('TS', n_arms)\n",
    "shop_ucb.set_price_learner('UCB', n_arms)\n"
   ],
   "outputs": [
    {
     "output_type": "stream",
     "name": "stdout",
     "text": [
      "[ 80. 120. 160. 200. 240.]\n",
      "[100. 150. 200. 250. 300.]\n"
     ]
    }
   ],
   "metadata": {}
  },
  {
   "cell_type": "code",
   "execution_count": 3,
   "source": [
    "# we have fixed promo fractions\n",
    "promo_fractions = np.array([[0.3, 0.2, 0.25, 0.25],     # every row is a customer class\n",
    "                            [0.2, 0.25, 0.30, 0.25],     # every column is a promo type   \n",
    "                            [0.1, 0.2, 0.3, 0.4],\n",
    "                            [0.15, 0.15, 0.45, 0.25]])\n",
    "\n",
    "# we have a fixed price for item 2\n",
    "price2_index = 2\n",
    "price2 = env.prices2[price2_index]\n",
    "max_ind_reward = price2 + max(env.prices1)"
   ],
   "outputs": [],
   "metadata": {}
  },
  {
   "cell_type": "code",
   "execution_count": 4,
   "source": [
    "#### get clairvoyant price\n",
    "expected_rewards = np.array([0.0, 0.0, 0.0, 0.0, 0.0])\n",
    "customers_mean = np.array([25, 25, 25, 25])\n",
    "\n",
    "for i in range(len(env.prices1)):\n",
    "    for j in range(env.n_classes):\n",
    "        expected_reward_from_class = customers_mean[j]*env.prices1[i]*env.true_conv1[j, i]\n",
    "        print(\"Expected reward from item 1 for price-class\", i, \"-\", j, \"----->\", expected_reward_from_class)\n",
    "        for k in range(len(env.discounts)):\n",
    "            expected_reward_from_class += promo_fractions[j,k]*customers_mean[j]*env.true_conv1[j, i]*price2*env.true_conv2[k, j, price2_index]*(1 - env.discounts[k])\n",
    "        expected_rewards[i] += expected_reward_from_class\n",
    "\n",
    "        print(\"Expected Reward for Price\", i, \"from class\", j, \"--->\", expected_reward_from_class)\n",
    "        print(\"************\")\n",
    "\n",
    "print(env.prices1)\n",
    "print(expected_rewards)\n",
    "\n",
    "clairvoyant_price_index = np.argmax(expected_rewards)\n",
    "clairvoyant_price = env.prices1[clairvoyant_price_index]"
   ],
   "outputs": [
    {
     "output_type": "stream",
     "name": "stdout",
     "text": [
      "Expected reward from item 1 for price-class 0 - 0 -----> 1680.4925139936338\n",
      "Expected Reward for Price 0 from class 0 ---> 3423.819324222636\n",
      "************\n",
      "Expected reward from item 1 for price-class 0 - 1 -----> 1858.2717742045359\n",
      "Expected Reward for Price 0 from class 1 ---> 3753.690448343903\n",
      "************\n",
      "Expected reward from item 1 for price-class 0 - 2 -----> 1528.3436525579004\n",
      "Expected Reward for Price 0 from class 2 ---> 2795.979235108565\n",
      "************\n",
      "Expected reward from item 1 for price-class 0 - 3 -----> 1230.4829116820995\n",
      "Expected Reward for Price 0 from class 3 ---> 2815.901629871052\n",
      "************\n",
      "Expected reward from item 1 for price-class 1 - 0 -----> 1373.3028568534385\n",
      "Expected Reward for Price 1 from class 0 ---> 2323.070328385597\n",
      "************\n",
      "Expected reward from item 1 for price-class 1 - 1 -----> 2583.350675987235\n",
      "Expected Reward for Price 1 from class 1 ---> 4340.011957036148\n",
      "************\n",
      "Expected reward from item 1 for price-class 1 - 2 -----> 1922.1584345019953\n",
      "Expected Reward for Price 1 from class 2 ---> 2985.0068424485635\n",
      "************\n",
      "Expected reward from item 1 for price-class 1 - 3 -----> 1826.7951922761372\n",
      "Expected Reward for Price 1 from class 3 ---> 3395.9543490243077\n",
      "************\n",
      "Expected reward from item 1 for price-class 2 - 0 -----> 1772.5052770560378\n",
      "Expected Reward for Price 2 from class 0 ---> 2691.895260954497\n",
      "************\n",
      "Expected reward from item 1 for price-class 2 - 1 -----> 3372.9490866858787\n",
      "Expected Reward for Price 2 from class 1 ---> 5093.136298958\n",
      "************\n",
      "Expected reward from item 1 for price-class 2 - 2 -----> 2373.889612274993\n",
      "Expected Reward for Price 2 from class 2 ---> 3358.362880617101\n",
      "************\n",
      "Expected reward from item 1 for price-class 2 - 3 -----> 1582.9697995449696\n",
      "Expected Reward for Price 2 from class 3 ---> 2602.7604551891145\n",
      "************\n",
      "Expected reward from item 1 for price-class 3 - 0 -----> 2080.088110195985\n",
      "Expected Reward for Price 3 from class 0 ---> 2943.2334892909557\n",
      "************\n",
      "Expected reward from item 1 for price-class 3 - 1 -----> 3554.892097682904\n",
      "Expected Reward for Price 3 from class 1 ---> 5005.2738900626455\n",
      "************\n",
      "Expected reward from item 1 for price-class 3 - 2 -----> 764.7759565131818\n",
      "Expected Reward for Price 3 from class 2 ---> 1018.5035035953591\n",
      "************\n",
      "Expected reward from item 1 for price-class 3 - 3 -----> 1496.1712574475355\n",
      "Expected Reward for Price 3 from class 3 ---> 2267.269464388407\n",
      "************\n",
      "Expected reward from item 1 for price-class 4 - 0 -----> 848.1255475178251\n",
      "Expected Reward for Price 4 from class 0 ---> 1141.4046493517328\n",
      "************\n",
      "Expected reward from item 1 for price-class 4 - 1 -----> 693.3594609263589\n",
      "Expected Reward for Price 4 from class 1 ---> 929.0993723096287\n",
      "************\n",
      "Expected reward from item 1 for price-class 4 - 2 -----> 579.5168134836861\n",
      "Expected Reward for Price 4 from class 2 ---> 739.7373529391094\n",
      "************\n",
      "Expected reward from item 1 for price-class 4 - 3 -----> 492.3259555221799\n",
      "Expected Reward for Price 4 from class 3 ---> 703.7721495122845\n",
      "************\n",
      "[ 80. 120. 160. 200. 240.]\n",
      "[12789.39063755 13044.04347689 13746.15489572 11234.28034734\n",
      "  3514.01352411]\n"
     ]
    }
   ],
   "metadata": {}
  },
  {
   "cell_type": "code",
   "execution_count": 5,
   "source": [
    "print(max_ind_reward)\n",
    "print(clairvoyant_price)"
   ],
   "outputs": [
    {
     "output_type": "stream",
     "name": "stdout",
     "text": [
      "440.0\n",
      "160.0\n"
     ]
    }
   ],
   "metadata": {}
  },
  {
   "cell_type": "code",
   "execution_count": 11,
   "source": [
    "days = 365\n",
    "\n",
    "ts_rewards_per_class_per_day = []\n",
    "u_rewards_per_class_per_day = []\n",
    "clairvoyant_per_class_per_day = []\n",
    "\n",
    "for day in range(days):\n",
    "    #Generating customers for the next day\n",
    "    env.generate_next_day_customers()\n",
    "    \n",
    "    #Every shop knows how many customers are coming\n",
    "    shop_clairvoyant.set_expected_customers(env.customers)\n",
    "    shop_ts.set_expected_customers(env.customers)\n",
    "    shop_ucb.set_expected_customers(env.customers)\n",
    "\n",
    "    #Pull arm from learners \n",
    "\n",
    "    chosen_price_ts = shop_ts.price_learner.pull_arm()\n",
    "    #chosen_price_ts = shop_ts.price_learner.pull_arm()\n",
    "    chosen_price_ucb = shop_ucb.price_learner.pull_arm() \n",
    "\n",
    "    '''#Calculate the best promos for the current pulled arms\n",
    "    shop_clairvoyant.best_promo_per_class()\n",
    "    shop_ts.best_promo_per_class(chosen_price_ts)\n",
    "    shop_ucb.best_promo_per_class(chosen_price_ucb)\n",
    "    \n",
    "    #Shuffle customers and unroll customers and coupons array\n",
    "    shop_clairvoyant.print_coupons()\n",
    "    shop_ts.print_coupons()\n",
    "    shop_ucb.print_coupons()'''\n",
    "\n",
    "    ##### Will print coupons manually here\n",
    "    ##### The Ratios are fixed\n",
    "\n",
    "    #promos = shop_clairvoyant.print_coupons(shop_ts, shop_ucb, promo_fractions)\n",
    "\n",
    "    enum_customers = list(enumerate(env.customers))\n",
    "    customers = np.concatenate([np.ones(c).astype(int)*p for p,c in enum_customers])\n",
    "    np.random.shuffle(customers)\n",
    "    \n",
    "\n",
    "\n",
    "    clairvoyant_per_class = []\n",
    "    revenue_ts = []\n",
    "    revenue_ucb = []\n",
    "    revenue_c = []\n",
    "    \n",
    "    #np.random.shuffle(shop_ts.customers_random)\n",
    "\n",
    "    #print(shop_ts.prices2)\n",
    "    #print(shop_ts.best_price[1])\n",
    "\n",
    "    for cust in customers:\n",
    "        partial_revenue = 0\n",
    "        cust = int(cust)\n",
    "        #Check if first item has been bought and update the parameters\n",
    "        selected_promo = 0\n",
    "        #if len(promos[cust]) > 0:\n",
    "        selected_promo = np.random.choice([0, 1, 2, 3], 1, p=promo_fractions[cust])\n",
    "\n",
    "        cr1 = shop_clairvoyant.conv1[cust, clairvoyant_price_index]\n",
    "        cr2 = shop_clairvoyant.conv2[selected_promo, cust, price2_index]\n",
    "        ex_ind = clairvoyant_price*cr1 + price2*cr1*cr2*(1-shop_clairvoyant.discounts[selected_promo])   \n",
    "\n",
    "        '''\n",
    "        ts_has_bought1 = env.round1(cust, shop_ts.best_price[0])\n",
    "        #shop_ts.price_learner.update(chosen_price_ts, ts_has_bought1, cust)\n",
    "\n",
    "        ucb_has_bought1 = env.round1(cust, shop_ucb.best_price[0])\n",
    "        #shop_ucb.price_learner.update(chosen_price_ucb, ucb_has_bought1, cust)\n",
    "        \n",
    "        partial_revenue_ts = ts_has_bought1*shop_ts.best_price[0]\n",
    "        partial_revenue_ucb = ucb_has_bought1*shop_ucb.best_price[0]'''\n",
    "\n",
    "        ts_has_bought1 = env.round1(cust, env.prices1[chosen_price_ts])\n",
    "        ucb_has_bought1 = env.round1(cust, env.prices1[chosen_price_ucb])\n",
    "        c_has_bought1 = env.round1(cust, clairvoyant_price)\n",
    "\n",
    "        partial_revenue_ts = ts_has_bought1*shop_ts.prices1[chosen_price_ts]\n",
    "        partial_revenue_ucb = ucb_has_bought1*shop_ucb.prices1[chosen_price_ucb]\n",
    "        partial_revenue_c = c_has_bought1*clairvoyant_price\n",
    "\n",
    "        #Check if second item has been bought\n",
    "        if ts_has_bought1 == 1:\n",
    "            partial_revenue_ts += price2*shop_ts.conv2[selected_promo, cust, price2_index]*(1-shop_ts.discounts[selected_promo])\n",
    "        revenue_ts.append(partial_revenue_ts)\n",
    "\n",
    "        norm_ts = partial_revenue_ts / max_ind_reward\n",
    "        shop_ts.price_learner.update(chosen_price_ts, norm_ts)\n",
    "        \n",
    "        if ucb_has_bought1 == 1:\n",
    "            partial_revenue_ucb += price2*shop_ucb.conv2[selected_promo, cust, price2_index]*(1-shop_ucb.discounts[selected_promo])\n",
    "        revenue_ucb.append(partial_revenue_ucb)\n",
    "\n",
    "        norm_ucb = partial_revenue_ucb / max_ind_reward\n",
    "        shop_ucb.price_learner.update(chosen_price_ucb, norm_ucb)\n",
    "\n",
    "        if c_has_bought1 == 1:\n",
    "            partial_revenue_c += price2*shop_clairvoyant.conv2[selected_promo, cust, price2_index]*(1-shop_clairvoyant.discounts[selected_promo])\n",
    "        revenue_c.append(partial_revenue_c)\n",
    "        #expected_revenue = shop_clairvoyant.best_price[0]*env.true_conv1[cust, index(env.prices1, shop_clairvoyant.best_price[0])] + env.true_conv1[cust, index(env.prices1, shop_clairvoyant.best_price[0])]*env.true_conv2[shop_clairvoyant.matched_promos[cust], cust, index(env.prices2, shop_clairvoyant.best_price[1])]*shop_clairvoyant.best_price[1]*(1-shop_clairvoyant.discounts[shop_clairvoyant.matched_promos[cust]])\n",
    "        #clairvoyant_per_class.append(expected_revenue)\n",
    "    \n",
    "    ts_rewards_per_class_per_day.append(np.mean(revenue_ts))\n",
    "    u_rewards_per_class_per_day.append(np.mean(revenue_ucb))\n",
    "    clairvoyant_per_class_per_day.append(np.mean(revenue_c))\n"
   ],
   "outputs": [],
   "metadata": {}
  },
  {
   "cell_type": "code",
   "execution_count": 7,
   "source": [
    "len(ts_rewards_per_class_per_day)"
   ],
   "outputs": [
    {
     "output_type": "execute_result",
     "data": {
      "text/plain": [
       "365"
      ]
     },
     "metadata": {},
     "execution_count": 7
    }
   ],
   "metadata": {}
  },
  {
   "cell_type": "code",
   "execution_count": 8,
   "source": [
    "print(np.cumsum(clairvoyant_per_class_per_day)[-1] - np.cumsum(ts_rewards_per_class_per_day)[-1])\n",
    "print(np.cumsum(clairvoyant_per_class_per_day)[-1] - np.cumsum(u_rewards_per_class_per_day)[-1])"
   ],
   "outputs": [
    {
     "output_type": "stream",
     "name": "stdout",
     "text": [
      "549.9680309333417\n",
      "3142.127133416434\n"
     ]
    }
   ],
   "metadata": {}
  },
  {
   "cell_type": "code",
   "execution_count": 9,
   "source": [
    "import matplotlib.pyplot as plt\n",
    "\n",
    "plt.plot(np.cumsum(clairvoyant_per_class_per_day), color='green', label='Clairvoyant')\n",
    "plt.plot(np.cumsum(u_rewards_per_class_per_day),color='blue',label='UCB')\n",
    "plt.plot(np.cumsum(ts_rewards_per_class_per_day),color='red',label = 'TS')\n",
    "\n",
    "plt.legend()\n",
    "plt.xlabel('Time')\n",
    "plt.ylabel('Revenue')\n",
    "\n",
    "#plt.yscale('symlog')\n"
   ],
   "outputs": [
    {
     "output_type": "execute_result",
     "data": {
      "text/plain": [
       "Text(0, 0.5, 'Revenue')"
      ]
     },
     "metadata": {},
     "execution_count": 9
    },
    {
     "output_type": "display_data",
     "data": {
      "image/png": "[encoded data removed]",
      "text/plain": [
       "<Figure size 432x288 with 1 Axes>"
      ]
     },
     "metadata": {
      "needs_background": "light"
     }
    }
   ],
   "metadata": {}
  },
  {
   "cell_type": "code",
   "execution_count": 10,
   "source": [
    "plt.plot(np.cumsum(np.array(clairvoyant_per_class_per_day) - np.array(ts_rewards_per_class_per_day)), color='red', label='TS')\n",
    "plt.plot(np.cumsum(np.array(clairvoyant_per_class_per_day) - np.array(u_rewards_per_class_per_day)), color='blue', label='UCB')\n",
    "\n",
    "plt.legend()\n",
    "plt.xlabel('Days')\n",
    "plt.ylabel('Regret')"
   ],
   "outputs": [
    {
     "output_type": "execute_result",
     "data": {
      "text/plain": [
       "Text(0, 0.5, 'Regret')"
      ]
     },
     "metadata": {},
     "execution_count": 10
    },
    {
     "output_type": "display_data",
     "data": {
      "image/png": "[encoded data removed]",
      "text/plain": [
       "<Figure size 432x288 with 1 Axes>"
      ]
     },
     "metadata": {
      "needs_background": "light"
     }
    }
   ],
   "metadata": {}
  },
  {
   "cell_type": "code",
   "execution_count": null,
   "source": [],
   "outputs": [],
   "metadata": {}
  }
 ]
}