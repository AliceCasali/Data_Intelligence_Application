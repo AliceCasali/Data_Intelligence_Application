{
 "metadata": {
  "language_info": {
   "codemirror_mode": {
    "name": "ipython",
    "version": 3
   },
   "file_extension": ".py",
   "mimetype": "text/x-python",
   "name": "python",
   "nbconvert_exporter": "python",
   "pygments_lexer": "ipython3",
   "version": "3.9.6"
  },
  "orig_nbformat": 2,
  "kernelspec": {
   "name": "python3",
   "display_name": "Python 3.9.6 64-bit"
  },
  "metadata": {
   "interpreter": {
    "hash": "916dbcbb3f70747c44a77c7bcd40155683ae19c65e1c03b4aa3499c5328201f1"
   }
  },
  "interpreter": {
   "hash": "8dc9504be67acba47bacf60bff7f553f62706ea7a10aa24f4f54855ef6b1dd44"
  }
 },
 "nbformat": 4,
 "nbformat_minor": 2,
 "cells": [
  {
   "cell_type": "code",
   "execution_count": 40,
   "source": [
    "import Environment\r\n",
    "import Shop\r\n",
    "from mab.ts_learner import *\r\n",
    "from mab.ucb_learner import *\r\n",
    "from utilities import *"
   ],
   "outputs": [],
   "metadata": {}
  },
  {
   "cell_type": "markdown",
   "source": [
    "In this setting we have three shops:\n",
    "1. **Clairvoyant**: which just naively tests all permutations of possible prices and picks the best one\n",
    "2. **TS**: which learns the best possible price using Thompson Sampling.\n",
    "3. **UCB**: which learns the best possible price using Upper Confidence Bound.\n",
    "\n",
    "The shops are assumed to know everything except for the price of the first item."
   ],
   "metadata": {}
  },
  {
   "cell_type": "code",
   "execution_count": 41,
   "source": [
    "shop_ts = Shop.Shop()\r\n",
    "shop_ucb = Shop.Shop()\r\n",
    "shop_clairvoyant = Shop.Shop()\r\n",
    "\r\n",
    "print(shop_ts.prices1)\r\n",
    "print(shop_ts.prices2)\r\n",
    "\r\n",
    "env = Environment.Environment(shop_clairvoyant.prices1,shop_clairvoyant.prices2,shop_clairvoyant.discounts)\r\n",
    "\r\n",
    "# The environment decides the conversion rates, which are shared among all the shops.\r\n",
    "shop_clairvoyant.set_conv_rate(env.true_conv1, env.true_conv2)\r\n",
    "shop_ts.set_conv_rate(None ,env.true_conv2)\r\n",
    "shop_ucb.set_conv_rate(None, env.true_conv2)\r\n",
    "\r\n",
    "#Initialize learners\r\n",
    "n_arms = len(env.prices1)\r\n",
    "shop_ts.set_price_learner('TS', n_arms)\r\n",
    "shop_ucb.set_price_learner('UCB', n_arms)\r\n"
   ],
   "outputs": [
    {
     "output_type": "stream",
     "name": "stdout",
     "text": [
      "[ 80. 120. 160. 200. 240.]\n",
      "[100. 150. 200. 250. 300.]\n"
     ]
    }
   ],
   "metadata": {}
  },
  {
   "cell_type": "code",
   "execution_count": 42,
   "source": [
    "# we have fixed promo fractions\r\n",
    "promo_fractions = np.array([[0.3, 0.2, 0.25, 0.25],     # every row is a customer class\r\n",
    "                            [0.2, 0.25, 0.30, 0.25],     # every column is a promo type   \r\n",
    "                            [0.1, 0.2, 0.3, 0.4],\r\n",
    "                            [0.15, 0.15, 0.45, 0.25]])\r\n",
    "\r\n",
    "# we have a fixed price for item 2\r\n",
    "price2_index = 2\r\n",
    "price2 = env.prices2[price2_index]\r\n",
    "max_ind_reward = price2 + max(env.prices1)"
   ],
   "outputs": [],
   "metadata": {}
  },
  {
   "cell_type": "code",
   "execution_count": 43,
   "source": [
    "#### get clairvoyant price\r\n",
    "expected_rewards = np.array([0.0, 0.0, 0.0, 0.0, 0.0])\r\n",
    "customers_mean = np.array([25, 25, 25, 25])\r\n",
    "\r\n",
    "for i in range(len(env.prices1)):\r\n",
    "    for j in range(env.n_classes):\r\n",
    "        expected_reward_from_class = customers_mean[j]*env.prices1[i]*env.true_conv1[j, i]\r\n",
    "        for k in range(len(env.discounts)):\r\n",
    "            expected_reward_from_class += promo_fractions[j,k]*customers_mean[j]*env.true_conv1[j, i]*price2*env.true_conv2[k, j, price2_index]*(1 - env.discounts[k])\r\n",
    "        expected_rewards[i] += expected_reward_from_class\r\n",
    "\r\n",
    "\r\n",
    "print(env.prices1)\r\n",
    "print(expected_rewards)\r\n",
    "\r\n",
    "clairvoyant_price_index = np.argmax(expected_rewards)\r\n",
    "clairvoyant_price = env.prices1[clairvoyant_price_index]"
   ],
   "outputs": [
    {
     "output_type": "stream",
     "name": "stdout",
     "text": [
      "[ 80. 120. 160. 200. 240.]\n",
      "[13007.77348363  7749.6227977  13115.96804135 16979.33391655\n",
      " 17798.45996105]\n"
     ]
    }
   ],
   "metadata": {}
  },
  {
   "cell_type": "code",
   "execution_count": 44,
   "source": [
    "print(max_ind_reward)\r\n",
    "print(clairvoyant_price)"
   ],
   "outputs": [
    {
     "output_type": "stream",
     "name": "stdout",
     "text": [
      "440.0\n",
      "240.0\n"
     ]
    }
   ],
   "metadata": {}
  },
  {
   "cell_type": "code",
   "execution_count": 45,
   "source": [
    "days = 365\r\n",
    "\r\n",
    "ts_rewards_per_class_per_day = []\r\n",
    "u_rewards_per_class_per_day = []\r\n",
    "clairvoyant_per_class_per_day = []\r\n",
    "\r\n",
    "for day in range(days):\r\n",
    "    #Generating customers for the next day\r\n",
    "    env.generate_next_day_customers()\r\n",
    "    \r\n",
    "    #Every shop knows how many customers are coming\r\n",
    "    shop_clairvoyant.set_expected_customers(env.customers)\r\n",
    "    shop_ts.set_expected_customers(env.customers)\r\n",
    "    shop_ucb.set_expected_customers(env.customers)\r\n",
    "\r\n",
    "    #Pull arm from learners \r\n",
    "\r\n",
    "    chosen_price_ts = shop_ts.price_learner.pull_arm()\r\n",
    "    #chosen_price_ts = shop_ts.price_learner.pull_arm()\r\n",
    "    chosen_price_ucb = shop_ucb.price_learner.pull_arm() \r\n",
    "\r\n",
    "\r\n",
    "    enum_customers = list(enumerate(env.customers))\r\n",
    "    customers = np.concatenate([np.ones(c).astype(int)*p for p,c in enum_customers])\r\n",
    "    np.random.shuffle(customers)\r\n",
    "    \r\n",
    "\r\n",
    "\r\n",
    "    clairvoyant_per_class = []\r\n",
    "    revenue_ts = []\r\n",
    "    revenue_ucb = []\r\n",
    "    revenue_c = []\r\n",
    "\r\n",
    "\r\n",
    "    for cust in customers:\r\n",
    "        partial_revenue = 0\r\n",
    "        cust = int(cust)\r\n",
    "        #Check if first item has been bought and update the parameters\r\n",
    "        selected_promo = 0\r\n",
    "        #if len(promos[cust]) > 0:\r\n",
    "        selected_promo = np.random.choice([0, 1, 2, 3], 1, p=promo_fractions[cust])\r\n",
    "\r\n",
    "        cr1 = shop_clairvoyant.conv1[cust, clairvoyant_price_index]\r\n",
    "        cr2 = shop_clairvoyant.conv2[selected_promo, cust, price2_index]\r\n",
    "        c_ind_reward = clairvoyant_price*cr1 + price2*cr1*cr2*(1-shop_clairvoyant.discounts[selected_promo])   \r\n",
    "\r\n",
    "        ts_has_bought1 = env.round1(cust, env.prices1[chosen_price_ts])\r\n",
    "        ucb_has_bought1 = env.round1(cust, env.prices1[chosen_price_ucb])\r\n",
    "        #c_has_bought1 = env.round1(cust, clairvoyant_price)\r\n",
    "\r\n",
    "        partial_revenue_ts = ts_has_bought1*shop_ts.prices1[chosen_price_ts]\r\n",
    "        partial_revenue_ucb = ucb_has_bought1*shop_ucb.prices1[chosen_price_ucb]\r\n",
    "        # partial_revenue_c = c_has_bought1*clairvoyant_price\r\n",
    "\r\n",
    "        #Check if second item has been bought\r\n",
    "        if ts_has_bought1 == 1:\r\n",
    "            partial_revenue_ts += price2*shop_ts.conv2[selected_promo, cust, price2_index]*(1-shop_ts.discounts[selected_promo])\r\n",
    "        revenue_ts.append(partial_revenue_ts)\r\n",
    "\r\n",
    "        norm_ts = partial_revenue_ts / max_ind_reward\r\n",
    "        shop_ts.price_learner.update(chosen_price_ts, norm_ts)\r\n",
    "        \r\n",
    "        if ucb_has_bought1 == 1:\r\n",
    "            partial_revenue_ucb += price2*shop_ucb.conv2[selected_promo, cust, price2_index]*(1-shop_ucb.discounts[selected_promo])\r\n",
    "        revenue_ucb.append(partial_revenue_ucb)\r\n",
    "\r\n",
    "        norm_ucb = partial_revenue_ucb / max_ind_reward\r\n",
    "        shop_ucb.price_learner.update(chosen_price_ucb, norm_ucb)\r\n",
    "\r\n",
    "        # if c_has_bought1 == 1:\r\n",
    "        #     partial_revenue_c += price2*shop_clairvoyant.conv2[selected_promo, cust, price2_index]*(1-shop_clairvoyant.discounts[selected_promo])\r\n",
    "        revenue_c.append(c_ind_reward)\r\n",
    "        #expected_revenue = shop_clairvoyant.best_price[0]*env.true_conv1[cust, index(env.prices1, shop_clairvoyant.best_price[0])] + env.true_conv1[cust, index(env.prices1, shop_clairvoyant.best_price[0])]*env.true_conv2[shop_clairvoyant.matched_promos[cust], cust, index(env.prices2, shop_clairvoyant.best_price[1])]*shop_clairvoyant.best_price[1]*(1-shop_clairvoyant.discounts[shop_clairvoyant.matched_promos[cust]])\r\n",
    "        #clairvoyant_per_class.append(expected_revenue)\r\n",
    "    \r\n",
    "    ts_rewards_per_class_per_day.append(np.mean(revenue_ts))\r\n",
    "    u_rewards_per_class_per_day.append(np.mean(revenue_ucb))\r\n",
    "    clairvoyant_per_class_per_day.append(np.mean(revenue_c))\r\n"
   ],
   "outputs": [
    {
     "output_type": "stream",
     "name": "stderr",
     "text": [
      "C:\\Users\\alice\\AppData\\Local\\Programs\\Python\\Python39\\lib\\site-packages\\numpy\\core\\_methods.py:163: VisibleDeprecationWarning: Creating an ndarray from ragged nested sequences (which is a list-or-tuple of lists-or-tuples-or ndarrays with different lengths or shapes) is deprecated. If you meant to do this, you must specify 'dtype=object' when creating the ndarray.\n",
      "  arr = asanyarray(a)\n"
     ]
    }
   ],
   "metadata": {}
  },
  {
   "cell_type": "code",
   "execution_count": 46,
   "source": [
    "print(np.cumsum(clairvoyant_per_class_per_day)[-1] - np.cumsum(ts_rewards_per_class_per_day)[-1])\r\n",
    "print(np.cumsum(clairvoyant_per_class_per_day)[-1] - np.cumsum(u_rewards_per_class_per_day)[-1])"
   ],
   "outputs": [
    {
     "output_type": "stream",
     "name": "stdout",
     "text": [
      "1771.4569294291286\n",
      "2948.8885058411834\n"
     ]
    }
   ],
   "metadata": {}
  },
  {
   "cell_type": "code",
   "execution_count": 47,
   "source": [
    "import matplotlib.pyplot as plt\r\n",
    "\r\n",
    "plt.plot(np.cumsum(clairvoyant_per_class_per_day), color='green', label='Clairvoyant')\r\n",
    "plt.plot(np.cumsum(u_rewards_per_class_per_day),color='blue',label='UCB')\r\n",
    "plt.plot(np.cumsum(ts_rewards_per_class_per_day),color='red',label = 'TS')\r\n",
    "\r\n",
    "plt.legend()\r\n",
    "plt.xlabel('Time')\r\n",
    "plt.ylabel('Revenue')\r\n",
    "\r\n",
    "#plt.yscale('symlog')\r\n"
   ],
   "outputs": [
    {
     "output_type": "execute_result",
     "data": {
      "text/plain": [
       "Text(0, 0.5, 'Revenue')"
      ]
     },
     "metadata": {},
     "execution_count": 47
    },
    {
     "output_type": "display_data",
     "data": {
      "image/png": "[encoded data removed]",
      "text/plain": [
       "<Figure size 432x288 with 1 Axes>"
      ]
     },
     "metadata": {
      "needs_background": "light"
     }
    }
   ],
   "metadata": {}
  },
  {
   "cell_type": "code",
   "execution_count": 48,
   "source": [
    "plt.plot(np.cumsum(np.array(clairvoyant_per_class_per_day) - np.array(ts_rewards_per_class_per_day)), color='red', label='TS')\r\n",
    "plt.plot(np.cumsum(np.array(clairvoyant_per_class_per_day) - np.array(u_rewards_per_class_per_day)), color='blue', label='UCB')\r\n",
    "\r\n",
    "plt.legend()\r\n",
    "plt.xlabel('Days')\r\n",
    "plt.ylabel('Regret')"
   ],
   "outputs": [
    {
     "output_type": "execute_result",
     "data": {
      "text/plain": [
       "Text(0, 0.5, 'Regret')"
      ]
     },
     "metadata": {},
     "execution_count": 48
    },
    {
     "output_type": "display_data",
     "data": {
      "image/png": "[encoded data removed]",
      "text/plain": [
       "<Figure size 432x288 with 1 Axes>"
      ]
     },
     "metadata": {
      "needs_background": "light"
     }
    }
   ],
   "metadata": {}
  }
 ]
}