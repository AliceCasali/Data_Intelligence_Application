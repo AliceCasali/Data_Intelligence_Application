{
 "cells": [
  {
   "cell_type": "code",
   "execution_count": 1,
   "source": [
    "import mab.Environment_non_stationary\r\n",
    "import mab.Shop\r\n",
    "from mab.utilities import *\r\n",
    "from mab.ucb_learner import *"
   ],
   "outputs": [],
   "metadata": {}
  },
  {
   "cell_type": "code",
   "execution_count": 2,
   "source": [
    "shop_ts = mab.Shop.Shop()\r\n",
    "shop_c = mab.Shop.Shop()\r\n",
    "\r\n",
    "n_phases = 4\r\n",
    "env = mab.Environment_non_stationary.Environment(shop_ts.prices1, shop_ts.prices2, shop_ts.discounts, n_phases)\r\n",
    "\r\n",
    "shop_ts.set_conv_rate(env.true_conv1, env.true_conv2)\r\n",
    "shop_c.set_conv_rate(env.true_conv1, env.true_conv2)\r\n",
    "\r\n",
    "price_arms = [(i, j) for i in range(len(shop_ts.prices1)) for j in range(len(shop_ts.prices2))]\r\n",
    "n_price_arms = len(price_arms)\r\n",
    "\r\n",
    "matching_arms = [(i, j, k, l) for i in range(len(shop_ts.prices1)) for j in range(len(shop_ts.prices2)) for k in range(shop_ts.n_classes) for l in range(len(shop_ts.discounts))]\r\n",
    "n_matching_arms = len(matching_arms)\r\n",
    "\r\n",
    "shop_ts.set_price_learner('TS', n_price_arms)\r\n",
    "shop_ts.set_assignment_learner('TS', n_matching_arms)\r\n",
    "\r\n",
    "\r\n",
    "days=365\r\n",
    "frame_size = int(days / env.n_phases)\r\n",
    "shop_ts.set_price_learner_sw('TS', n_price_arms, frame_size=frame_size, days=days)\r\n",
    "shop_ts.set_assignment_learner_sw('TS', n_matching_arms, frame_size=frame_size, days=days)\r\n"
   ],
   "outputs": [],
   "metadata": {}
  },
  {
   "cell_type": "code",
   "execution_count": 3,
   "source": [
    "generated_promo_ratios = np.array([0.4, 0.25, 0.2, 0.15])\r\n",
    "max_ind_reward = max(env.prices1) + max(env.prices2)"
   ],
   "outputs": [],
   "metadata": {}
  },
  {
   "cell_type": "code",
   "execution_count": 4,
   "source": [
    "env.true_conv1\r\n"
   ],
   "outputs": [
    {
     "output_type": "execute_result",
     "data": {
      "text/plain": [
       "array([[[5.39264073e-01, 8.30196694e-01, 1.73803695e-01, 9.69261152e-01,\n",
       "         3.56916182e-01],\n",
       "        [2.96824117e-01, 1.99459347e-01, 3.96555274e-01, 2.90977150e-02,\n",
       "         1.57894331e-01],\n",
       "        [6.69470121e-02, 7.17073331e-01, 8.46566159e-02, 7.70721316e-01,\n",
       "         5.08647698e-01],\n",
       "        [3.82540416e-01, 3.13860171e-01, 4.58685059e-01, 4.26196652e-01,\n",
       "         7.89197784e-01]],\n",
       "\n",
       "       [[7.29800659e-01, 6.82777445e-01, 9.03861372e-04, 4.78248090e-01,\n",
       "         7.53955467e-01],\n",
       "        [6.21477527e-01, 7.22989580e-01, 2.94526588e-01, 2.74424183e-01,\n",
       "         4.17826737e-01],\n",
       "        [4.16348822e-01, 7.67357778e-01, 8.28875248e-01, 5.65480496e-02,\n",
       "         3.64530316e-01],\n",
       "        [7.84578193e-02, 4.54594120e-01, 4.76336715e-01, 4.62801801e-01,\n",
       "         3.54746973e-01]],\n",
       "\n",
       "       [[6.43442185e-01, 4.91937352e-01, 5.54865157e-01, 1.02966824e-01,\n",
       "         5.89208543e-01],\n",
       "        [1.75607398e-02, 2.86029854e-01, 7.85879962e-01, 7.34666822e-01,\n",
       "         1.25824966e-01],\n",
       "        [3.74244491e-01, 6.04700402e-02, 9.63750631e-01, 3.81997324e-01,\n",
       "         7.91791664e-01],\n",
       "        [9.39821062e-01, 1.37826667e-01, 4.00545580e-02, 9.64671420e-01,\n",
       "         2.32522933e-01]],\n",
       "\n",
       "       [[8.91872498e-01, 4.02279711e-01, 5.70702565e-01, 4.37502255e-01,\n",
       "         5.43803353e-01],\n",
       "        [2.77979595e-01, 7.32789489e-01, 4.63737758e-01, 2.70123312e-01,\n",
       "         5.35301948e-01],\n",
       "        [3.79930798e-01, 9.88191595e-02, 9.09535270e-01, 4.80687614e-01,\n",
       "         1.01442283e-01],\n",
       "        [9.28362337e-01, 4.50615286e-01, 3.22567905e-01, 7.92050752e-02,\n",
       "         1.85417856e-01]]])"
      ]
     },
     "metadata": {},
     "execution_count": 4
    }
   ],
   "metadata": {}
  },
  {
   "cell_type": "code",
   "execution_count": 5,
   "source": [
    "env.true_conv1[0]\r\n",
    "# [phase x class x price]"
   ],
   "outputs": [
    {
     "output_type": "execute_result",
     "data": {
      "text/plain": [
       "array([[0.53926407, 0.83019669, 0.1738037 , 0.96926115, 0.35691618],\n",
       "       [0.29682412, 0.19945935, 0.39655527, 0.02909771, 0.15789433],\n",
       "       [0.06694701, 0.71707333, 0.08465662, 0.77072132, 0.5086477 ],\n",
       "       [0.38254042, 0.31386017, 0.45868506, 0.42619665, 0.78919778]])"
      ]
     },
     "metadata": {},
     "execution_count": 5
    }
   ],
   "metadata": {}
  },
  {
   "cell_type": "code",
   "execution_count": 6,
   "source": [
    "cr11 = np.array([[0.60, 0.51, 0.28, 0.23, 0.19],\r\n",
    "       [0.82, 0.65 , 0.40, 0.30, 0.21],\r\n",
    "       [0.80, 0.66, 0.60, 0.22 , 0.16],\r\n",
    "       [0.91, 0.73, 0.69, 0.19, 0.12]])"
   ],
   "outputs": [],
   "metadata": {}
  },
  {
   "cell_type": "code",
   "execution_count": 7,
   "source": [
    "cr12 = np.array([[0.60, 0.51, 0.38, 0.33, 0.29],\r\n",
    "       [0.92, 0.80 , 0.65, 0.50, 0.45],\r\n",
    "       [0.80, 0.66, 0.60, 0.42 , 0.37],\r\n",
    "       [0.91, 0.73, 0.69, 0.49, 0.45]])"
   ],
   "outputs": [],
   "metadata": {}
  },
  {
   "cell_type": "code",
   "execution_count": 8,
   "source": [
    "cr13 = np.array([[0.90, 0.81, 0.68, 0.53, 0.49],\r\n",
    "       [0.82, 0.65 , 0.40, 0.30, 0.21],\r\n",
    "       [0.70, 0.56, 0.40, 0.16 , 0.10],\r\n",
    "       [0.91, 0.73, 0.69, 0.19, 0.12]])"
   ],
   "outputs": [],
   "metadata": {}
  },
  {
   "cell_type": "code",
   "execution_count": 9,
   "source": [
    "cr14 = np.array([[0.70, 0.51, 0.28, 0.23, 0.19],\r\n",
    "       [0.92, 0.65 , 0.40, 0.30, 0.21],\r\n",
    "       [0.90, 0.66, 0.60, 0.22 , 0.16],\r\n",
    "       [0.98, 0.83, 0.79, 0.59, 0.32]])"
   ],
   "outputs": [],
   "metadata": {}
  },
  {
   "cell_type": "code",
   "execution_count": 10,
   "source": [
    "env.true_conv1[0] = cr11\r\n",
    "env.true_conv1[1] = 1-cr11\r\n",
    "env.true_conv1[2] = cr13\r\n",
    "env.true_conv1[3] = 1-cr13"
   ],
   "outputs": [],
   "metadata": {}
  },
  {
   "cell_type": "code",
   "execution_count": 11,
   "source": [
    "cr22 = np.array([[[0.65, 0.58, 0.48, 0.43, 0.29],\r\n",
    "                [0.70, 0.68, 0.55, 0.50, 0.55],\r\n",
    "                [0.75, 0.70, 0.60, 0.59, 0.40],\r\n",
    "                [0.95, 0.88, 0.85, 0.80, 0.58]],\r\n",
    "\r\n",
    "       [[0.72, 0.55 , 0.30, 0.28, 0.11],\r\n",
    "        [0.75, 0.60 , 0.35, 0.33, 0.16],\r\n",
    "        [0.82, 0.65 , 0.40, 0.38, 0.21],\r\n",
    "        [0.85, 0.75 , 0.55, 0.52, 0.25]],\r\n",
    "\r\n",
    "       [[0.80, 0.66, 0.60, 0.55 , 0.16],\r\n",
    "        [0.84, 0.72, 0.66, 0.62 , 0.18],\r\n",
    "        [0.89, 0.78, 0.70, 0.67 , 0.20],\r\n",
    "        [0.95, 0.85, 0.79, 0.73 , 0.25]],\r\n",
    "\r\n",
    "       [[0.91, 0.73, 0.69, 0.53, 0.12],\r\n",
    "        [0.93, 0.76, 0.74, 0.64, 0.17],\r\n",
    "        [0.96, 0.79, 0.78, 0.70, 0.25],\r\n",
    "        [0.97, 0.83, 0.81, 0.77, 0.45]]])"
   ],
   "outputs": [],
   "metadata": {}
  },
  {
   "cell_type": "code",
   "execution_count": 12,
   "source": [
    "cr21 = np.array([[[0.60, 0.51, 0.28, 0.23, 0.19],\r\n",
    "                [0.65, 0.55, 0.35, 0.30, 0.25],\r\n",
    "                [0.70, 0.60, 0.40, 0.35, 0.30],\r\n",
    "                [0.90, 0.80, 0.75, 0.50, 0.38]],\r\n",
    "\r\n",
    "       [[0.72, 0.55 , 0.30, 0.20, 0.11],\r\n",
    "        [0.75, 0.60 , 0.35, 0.25, 0.16],\r\n",
    "        [0.82, 0.65 , 0.40, 0.30, 0.21],\r\n",
    "        [0.85, 0.75 , 0.55, 0.40, 0.25]],\r\n",
    "\r\n",
    "       [[0.80, 0.66, 0.60, 0.22 , 0.16],\r\n",
    "        [0.84, 0.72, 0.66, 0.28 , 0.18],\r\n",
    "        [0.89, 0.78, 0.70, 0.38 , 0.20],\r\n",
    "        [0.95, 0.85, 0.79, 0.58 , 0.25]],\r\n",
    "\r\n",
    "       [[0.91, 0.73, 0.69, 0.19, 0.12],\r\n",
    "        [0.93, 0.76, 0.74, 0.25, 0.17],\r\n",
    "        [0.96, 0.79, 0.78, 0.40, 0.25],\r\n",
    "        [0.97, 0.83, 0.81, 0.50, 0.45]]])"
   ],
   "outputs": [],
   "metadata": {}
  },
  {
   "cell_type": "code",
   "execution_count": 13,
   "source": [
    "cr23 = np.array([[[0.60, 0.51, 0.48, 0.23, 0.19],\r\n",
    "                [0.65, 0.55, 0.50, 0.30, 0.25],\r\n",
    "                [0.70, 0.60, 0.55, 0.35, 0.30],\r\n",
    "                [0.90, 0.80, 0.78, 0.50, 0.38]],\r\n",
    "\r\n",
    "       [[0.72, 0.55 , 0.50, 0.20, 0.11],\r\n",
    "        [0.75, 0.60 , 0.55, 0.25, 0.16],\r\n",
    "        [0.82, 0.65 , 0.61, 0.30, 0.21],\r\n",
    "        [0.85, 0.75 , 0.72, 0.40, 0.25]],\r\n",
    "\r\n",
    "       [[0.80, 0.66, 0.64, 0.22 , 0.16],\r\n",
    "        [0.84, 0.72, 0.69, 0.28 , 0.18],\r\n",
    "        [0.89, 0.78, 0.75, 0.38 , 0.20],\r\n",
    "        [0.95, 0.85, 0.83, 0.58 , 0.25]],\r\n",
    "\r\n",
    "       [[0.91, 0.78, 0.75, 0.19, 0.12],\r\n",
    "        [0.93, 0.82, 0.77, 0.25, 0.17],\r\n",
    "        [0.96, 0.89, 0.84, 0.40, 0.25],\r\n",
    "        [0.97, 0.93, 0.88, 0.50, 0.45]]])"
   ],
   "outputs": [],
   "metadata": {}
  },
  {
   "cell_type": "code",
   "execution_count": 14,
   "source": [
    "cr24 = np.array([[[0.65, 0.58, 0.48, 0.33, 0.29],\r\n",
    "                [0.70, 0.68, 0.55, 0.40, 0.55],\r\n",
    "                [0.75, 0.70, 0.60, 0.55, 0.40],\r\n",
    "                [0.95, 0.88, 0.85, 0.70, 0.58]],\r\n",
    "\r\n",
    "       [[0.72, 0.55 , 0.30, 0.20, 0.11],\r\n",
    "        [0.75, 0.60 , 0.35, 0.25, 0.16],\r\n",
    "        [0.82, 0.65 , 0.40, 0.30, 0.21],\r\n",
    "        [0.85, 0.75 , 0.55, 0.40, 0.25]],\r\n",
    "\r\n",
    "       [[0.80, 0.66, 0.60, 0.22 , 0.16],\r\n",
    "        [0.84, 0.72, 0.66, 0.28 , 0.18],\r\n",
    "        [0.89, 0.78, 0.70, 0.38 , 0.20],\r\n",
    "        [0.95, 0.85, 0.79, 0.58 , 0.25]],\r\n",
    "\r\n",
    "       [[0.71, 0.53, 0.49, 0.10, 0.05],\r\n",
    "        [0.73, 0.56, 0.54, 0.15, 0.10],\r\n",
    "        [0.76, 0.59, 0.58, 0.22, 0.15],\r\n",
    "        [0.77, 0.63, 0.61, 0.28, 0.17]]])"
   ],
   "outputs": [],
   "metadata": {}
  },
  {
   "cell_type": "code",
   "execution_count": 15,
   "source": [
    "env.true_conv2[0] = cr21\r\n",
    "env.true_conv2[1] = 1-cr21\r\n",
    "env.true_conv2[2] = cr23\r\n",
    "env.true_conv2[3] = 1-cr23"
   ],
   "outputs": [],
   "metadata": {}
  },
  {
   "cell_type": "code",
   "execution_count": 16,
   "source": [
    "shop_c.set_expected_customers(np.array([25, 25, 25, 25]))\r\n",
    "cec = shop_c.get_customer_list()\r\n",
    "cep = shop_c.get_promo_list(generated_promo_ratios)\r\n",
    "\r\n",
    "clairvoyant_promo_fractions = []\r\n",
    "clairvoyant_p1s = []\r\n",
    "clairvoyant_p2s = []\r\n",
    "clairvoyant_p1_idxs = []\r\n",
    "clairvoyant_p2_idxs = []\r\n",
    "for i in range(env.n_phases):\r\n",
    "    shop_c.set_conv_rate(env.true_conv1[i], env.true_conv2[i])\r\n",
    "\r\n",
    "    cmt, cpa, cer, ers  = shop_c.get_clairvoyant_prices_and_matching(cec, cep, 5, 5)\r\n",
    "    cp1idx = price_arms[cpa][0]\r\n",
    "    cp2idx = price_arms[cpa][1]\r\n",
    "    cp1 = env.prices1[cp1idx]\r\n",
    "    cp2 = env.prices2[cp2idx]\r\n",
    "\r\n",
    "    cpf = shop_c.get_promo_fractions_from_tuples(cmt)\r\n",
    "\r\n",
    "    clairvoyant_promo_fractions.append(cpf)\r\n",
    "    clairvoyant_p1s.append(cp1)\r\n",
    "    clairvoyant_p2s.append(cp2)\r\n",
    "    clairvoyant_p1_idxs.append(cp1idx)\r\n",
    "    clairvoyant_p2_idxs.append(cp2idx)\r\n"
   ],
   "outputs": [],
   "metadata": {}
  },
  {
   "cell_type": "code",
   "execution_count": 17,
   "source": [
    "clairvoyant_promo_fractions"
   ],
   "outputs": [
    {
     "output_type": "execute_result",
     "data": {
      "text/plain": [
       "[array([[0. , 1. , 0. , 0. ],\n",
       "        [0. , 0. , 0.4, 0.6],\n",
       "        [0.6, 0. , 0.4, 0. ],\n",
       "        [1. , 0. , 0. , 0. ]]),\n",
       " array([[1. , 0. , 0. , 0. ],\n",
       "        [0.4, 0. , 0. , 0.6],\n",
       "        [0.2, 0. , 0.8, 0. ],\n",
       "        [0. , 1. , 0. , 0. ]]),\n",
       " array([[0.4, 0. , 0. , 0.6],\n",
       "        [0.2, 0. , 0.8, 0. ],\n",
       "        [0. , 1. , 0. , 0. ],\n",
       "        [1. , 0. , 0. , 0. ]]),\n",
       " array([[0.4, 0. , 0. , 0.6],\n",
       "        [1. , 0. , 0. , 0. ],\n",
       "        [0.2, 0. , 0.8, 0. ],\n",
       "        [0. , 1. , 0. , 0. ]])]"
      ]
     },
     "metadata": {},
     "execution_count": 17
    }
   ],
   "metadata": {}
  },
  {
   "cell_type": "code",
   "execution_count": 18,
   "source": [
    "ts_rewards_per_day = []\r\n",
    "ts_sw_rewards_per_day = []\r\n",
    "c_rewards_per_day = []\r\n",
    "\r\n",
    "customers_em = np.array([0, 0, 0, 0])\r\n",
    "customers_ie = np.array([25, 25, 25, 25])\r\n",
    "\r\n",
    "for day in range(days):\r\n",
    "    if day == 0:\r\n",
    "        shop_ts.set_expected_customers(customers_ie)\r\n",
    "    else:\r\n",
    "        customers_em = (customers_em*(day-1) + env.customers) / day\r\n",
    "        shop_ts.set_expected_customers((customers_em + 0.99).astype(int))\r\n",
    "\r\n",
    "    # 2-step learner with no sliding window\r\n",
    "    price_arm_idx_ts = shop_ts.price_learner.pull_arm()\r\n",
    "\r\n",
    "    price1idx_ts = price_arms[price_arm_idx_ts][0]\r\n",
    "    price2idx_ts = price_arms[price_arm_idx_ts][1]\r\n",
    "    price1_ts = env.prices1[price_arms[price_arm_idx_ts][0]]\r\n",
    "    price2_ts = env.prices2[price_arms[price_arm_idx_ts][1]]\r\n",
    "\r\n",
    "    expected_customers_ts = shop_ts.get_customer_list()\r\n",
    "    expected_promos_ts = shop_ts.get_promo_list(generated_promo_ratios)\r\n",
    "    matched_tuples_ts = shop_ts.assignment_learner.pull_arm_matching(expected_customers_ts, expected_promos_ts, matching_arms, price1idx_ts, price2idx_ts)\r\n",
    "    promo_fractions_ts = shop_ts.get_promo_fractions_from_tuples(matched_tuples_ts)\r\n",
    "\r\n",
    "    # 2-step learner with sliding window\r\n",
    "    price_arm_idx_ts_sw = shop_ts.price_learner_sw.pull_arm(day)\r\n",
    "\r\n",
    "    price1idx_ts_sw = price_arms[price_arm_idx_ts_sw][0]\r\n",
    "    price2idx_ts_sw = price_arms[price_arm_idx_ts_sw][1]\r\n",
    "    price1_ts_sw = env.prices1[price_arms[price_arm_idx_ts_sw][0]]\r\n",
    "    price2_ts_sw = env.prices2[price_arms[price_arm_idx_ts_sw][1]]\r\n",
    "\r\n",
    "    expected_customers_ts_sw = shop_ts.get_customer_list()\r\n",
    "    expected_promos_ts_sw = shop_ts.get_promo_list(generated_promo_ratios)\r\n",
    "    matched_tuples_ts_sw = shop_ts.assignment_learner_sw.pull_arm_matching(expected_customers_ts_sw, expected_promos_ts_sw, matching_arms, day, price1idx_ts_sw, price2idx_ts_sw)\r\n",
    "    promo_fractions_ts_sw = shop_ts.get_promo_fractions_from_tuples(matched_tuples_ts_sw)\r\n",
    "\r\n",
    "    # simulate the day\r\n",
    "    env.generate_next_day_customers()\r\n",
    "\r\n",
    "    enum_customers = list(enumerate(env.customers))\r\n",
    "    customers = np.concatenate([np.ones(c).astype(int)*p for p,c in enum_customers])\r\n",
    "    np.random.shuffle(customers)\r\n",
    "\r\n",
    "    revenue_ts = []\r\n",
    "    revenue_ts_sw = []\r\n",
    "    revenue_c = []\r\n",
    "\r\n",
    "    ts_total_reward = 0\r\n",
    "    ts_sw_total_reward = 0\r\n",
    "\r\n",
    "    c_count = 0\r\n",
    "\r\n",
    "    phase = env.get_phase(days) % env.n_phases\r\n",
    "    \r\n",
    "    for cust in customers:\r\n",
    "\r\n",
    "        selected_promo_ts = np.random.choice([0, 1, 2, 3], 1, p=promo_fractions_ts[cust])\r\n",
    "        selected_promo_ts_sw = np.random.choice([0, 1, 2, 3], 1, p=promo_fractions_ts_sw[cust])\r\n",
    "        selected_promo_c = np.random.choice([0, 1, 2, 3], 1, p=clairvoyant_promo_fractions[phase][cust])\r\n",
    "\r\n",
    "        ts_buy1 = env.round1(cust, price1_ts, days)\r\n",
    "        ts_buy2 = 0\r\n",
    "        if ts_buy1:\r\n",
    "            ts_buy2 = env.round2(cust, selected_promo_ts, price2_ts, days)\r\n",
    "\r\n",
    "        # c_buy1 = env.round1(cust, clairvoyant_p1s[phase], days)\r\n",
    "        # c_buy2 = 0\r\n",
    "        # if c_buy1:\r\n",
    "        #     c_buy2 = env.round2(cust, selected_promo_c, clairvoyant_p2s[phase], days)\r\n",
    "\r\n",
    "        ts_sw_buy1 = env.round1(cust, price1_ts_sw, days)\r\n",
    "        ts_sw_buy2 = 0\r\n",
    "        if ts_sw_buy1:\r\n",
    "            ts_sw_buy2 = env.round2(cust, selected_promo_ts_sw, price2_ts_sw, days)\r\n",
    "\r\n",
    "        ts_ind_reward = ts_buy1*price1_ts + ts_buy2*price2_ts*(1-shop_ts.discounts[selected_promo_ts])\r\n",
    "        ts_sw_ind_reward = ts_sw_buy1*price1_ts_sw + ts_sw_buy2*price2_ts_sw*(1-shop_ts.discounts[selected_promo_ts_sw])\r\n",
    "                \r\n",
    "        c_ind_reward = clairvoyant_p1s[phase]*env.true_conv1[phase, cust, clairvoyant_p1_idxs[phase]] + env.true_conv1[phase, cust, clairvoyant_p1_idxs[phase]]*env.true_conv2[phase, selected_promo_c, cust, clairvoyant_p2_idxs[phase]]*clairvoyant_p2s[phase]*(1-shop_c.discounts[selected_promo_c])\r\n",
    "\r\n",
    "        norm_ts_ind_reward = ts_ind_reward / max_ind_reward\r\n",
    "        norm_ts_sw_ind_reward = ts_sw_ind_reward / max_ind_reward\r\n",
    "\r\n",
    "        # update 2-step learner with no sliding window\r\n",
    "        shop_ts.price_learner.update(price_arm_idx_ts, norm_ts_ind_reward)\r\n",
    "\r\n",
    "        matching_arm_index_ts = matching_arms.index((price1idx_ts, price2idx_ts, cust, selected_promo_ts))\r\n",
    "        shop_ts.assignment_learner.update(matching_arm_index_ts, norm_ts_ind_reward)\r\n",
    "\r\n",
    "        # update 2-step learner with sliding window\r\n",
    "        shop_ts.price_learner_sw.update(price_arm_idx_ts_sw, norm_ts_sw_ind_reward, day)\r\n",
    "\r\n",
    "        matching_arm_index_ts_sw = matching_arms.index((price1idx_ts_sw, price2idx_ts_sw, cust, selected_promo_ts_sw))\r\n",
    "        shop_ts.assignment_learner_sw.update(matching_arm_index_ts_sw, norm_ts_sw_ind_reward, day)\r\n",
    "\r\n",
    "        revenue_ts.append(ts_ind_reward)\r\n",
    "        revenue_ts_sw.append(ts_sw_ind_reward)\r\n",
    "        revenue_c.append(c_ind_reward)\r\n",
    "    \r\n",
    "    shop_ts.price_learner_sw.end_of_day(day)\r\n",
    "    shop_ts.assignment_learner_sw.end_of_day(day)\r\n",
    "\r\n",
    "    \"\"\"print(\"DAY:\", day)\r\n",
    "    print(\"SW Pulled Arm:\", )\r\n",
    "    print(\"***********NO SW*****************\")\r\n",
    "    print(shop_ts.price_learner.beta_parameters)\r\n",
    "    print(\"**************SW*****************\")\r\n",
    "    print(shop_ts.price_learner_sw.beta_parameters)\r\n",
    "    print()\"\"\"\r\n",
    "\r\n",
    "    ts_rewards_per_day.append(np.mean(revenue_ts))\r\n",
    "    ts_sw_rewards_per_day.append(np.mean(revenue_ts_sw))\r\n",
    "    c_rewards_per_day.append(np.mean(revenue_c))\r\n",
    "    \r\n",
    "\r\n"
   ],
   "outputs": [],
   "metadata": {}
  },
  {
   "cell_type": "code",
   "execution_count": 23,
   "source": [
    "import matplotlib.pyplot as plt\r\n",
    "plt.figure(figsize=(10,3))\r\n",
    "plt.plot(np.cumsum(ts_sw_rewards_per_day), color='green', label='2-Step TS-SW')\r\n",
    "plt.plot(np.cumsum(ts_rewards_per_day), color='orange', label='2-Step TS')\r\n",
    "plt.plot(np.cumsum(c_rewards_per_day), color='purple', label='Clairvoyant')\r\n",
    "#plt.plot(np.cumsum(ts_rewards_per_class_per_day), color='red', label='2-step TS')\r\n",
    "#plt.plot(np.cumsum(big_ts_rewards_per_class_per_day), color='blue', label='Big TS')\r\n",
    "\r\n",
    "plt.legend()\r\n",
    "plt.xlabel('Time')\r\n",
    "plt.ylabel('Revenue')"
   ],
   "outputs": [
    {
     "output_type": "execute_result",
     "data": {
      "text/plain": [
       "Text(0, 0.5, 'Revenue')"
      ]
     },
     "metadata": {},
     "execution_count": 23
    },
    {
     "output_type": "display_data",
     "data": {
      "image/png": "[encoded data removed]",
      "text/plain": [
       "<Figure size 720x216 with 1 Axes>"
      ]
     },
     "metadata": {
      "needs_background": "light"
     }
    }
   ],
   "metadata": {}
  },
  {
   "cell_type": "code",
   "execution_count": 24,
   "source": [
    "plt.figure(figsize=(10,3))\r\n",
    "plt.plot(np.cumsum(np.array(c_rewards_per_day) - np.array(ts_rewards_per_day)), color='red', label='2-step TS')\r\n",
    "plt.plot(np.cumsum(np.array(c_rewards_per_day) - np.array(ts_sw_rewards_per_day)), color='blue', label='2-step TS-SW')\r\n",
    "#plt.plot(np.cumsum(np.array(calt_rewards_per_class_per_day) - np.array(small_ts_rewards_per_class_per_day)), color='purple', label='2-step TS')\r\n",
    "#plt.plot(np.cumsum(np.array(calt_rewards_per_class_per_day) - np.array(u_rewards_per_class_per_day)), color='green', label='Big TS')\r\n",
    "\r\n",
    "plt.legend()\r\n",
    "plt.xlabel('Days')\r\n",
    "plt.ylabel('Regret')"
   ],
   "outputs": [
    {
     "output_type": "execute_result",
     "data": {
      "text/plain": [
       "Text(0, 0.5, 'Regret')"
      ]
     },
     "metadata": {},
     "execution_count": 24
    },
    {
     "output_type": "display_data",
     "data": {
      "image/png": "[encoded data removed]",
      "text/plain": [
       "<Figure size 720x216 with 1 Axes>"
      ]
     },
     "metadata": {
      "needs_background": "light"
     }
    }
   ],
   "metadata": {}
  },
  {
   "cell_type": "code",
   "execution_count": 21,
   "source": [
    "n_matching_arms"
   ],
   "outputs": [
    {
     "output_type": "execute_result",
     "data": {
      "text/plain": [
       "400"
      ]
     },
     "metadata": {},
     "execution_count": 21
    }
   ],
   "metadata": {}
  },
  {
   "cell_type": "code",
   "execution_count": 22,
   "source": [
    "env.true_conv1"
   ],
   "outputs": [
    {
     "output_type": "execute_result",
     "data": {
      "text/plain": [
       "array([[[0.6 , 0.51, 0.28, 0.23, 0.19],\n",
       "        [0.82, 0.65, 0.4 , 0.3 , 0.21],\n",
       "        [0.8 , 0.66, 0.6 , 0.22, 0.16],\n",
       "        [0.91, 0.73, 0.69, 0.19, 0.12]],\n",
       "\n",
       "       [[0.4 , 0.49, 0.72, 0.77, 0.81],\n",
       "        [0.18, 0.35, 0.6 , 0.7 , 0.79],\n",
       "        [0.2 , 0.34, 0.4 , 0.78, 0.84],\n",
       "        [0.09, 0.27, 0.31, 0.81, 0.88]],\n",
       "\n",
       "       [[0.9 , 0.81, 0.68, 0.53, 0.49],\n",
       "        [0.82, 0.65, 0.4 , 0.3 , 0.21],\n",
       "        [0.7 , 0.56, 0.4 , 0.16, 0.1 ],\n",
       "        [0.91, 0.73, 0.69, 0.19, 0.12]],\n",
       "\n",
       "       [[0.1 , 0.19, 0.32, 0.47, 0.51],\n",
       "        [0.18, 0.35, 0.6 , 0.7 , 0.79],\n",
       "        [0.3 , 0.44, 0.6 , 0.84, 0.9 ],\n",
       "        [0.09, 0.27, 0.31, 0.81, 0.88]]])"
      ]
     },
     "metadata": {},
     "execution_count": 22
    }
   ],
   "metadata": {}
  },
  {
   "cell_type": "code",
   "execution_count": null,
   "source": [],
   "outputs": [],
   "metadata": {}
  }
 ],
 "metadata": {
  "orig_nbformat": 4,
  "language_info": {
   "name": "python",
   "version": "3.9.6",
   "mimetype": "text/x-python",
   "codemirror_mode": {
    "name": "ipython",
    "version": 3
   },
   "pygments_lexer": "ipython3",
   "nbconvert_exporter": "python",
   "file_extension": ".py"
  },
  "kernelspec": {
   "name": "python3",
   "display_name": "Python 3.9.6 64-bit"
  },
  "interpreter": {
   "hash": "8dc9504be67acba47bacf60bff7f553f62706ea7a10aa24f4f54855ef6b1dd44"
  }
 },
 "nbformat": 4,
 "nbformat_minor": 2
}