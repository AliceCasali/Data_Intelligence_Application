{
 "cells": [
  {
   "cell_type": "code",
   "execution_count": 13,
   "source": [
    "import Environment\r\n",
    "import Shop\r\n",
    "from mab.ts_learner import *\r\n",
    "from mab.ucb_learner import *\r\n",
    "from utilities import *"
   ],
   "outputs": [],
   "metadata": {}
  },
  {
   "cell_type": "code",
   "execution_count": 14,
   "source": [
    "shop_ts = Shop.Shop()\r\n",
    "shop_ucb = Shop.Shop()\r\n",
    "\r\n",
    "shop_ts_normalized = Shop.Shop()\r\n",
    "\r\n",
    "\r\n",
    "shop_clairvoyant = Shop.Shop()\r\n",
    "\r\n",
    "env = Environment.Environment(shop_clairvoyant.prices1,shop_clairvoyant.prices2,shop_clairvoyant.discounts)\r\n",
    "\r\n",
    "# The environment decides the conversion rates, which are shared among all the shops.\r\n",
    "shop_clairvoyant.set_conv_rate(env.true_conv1, env.true_conv2)\r\n",
    "shop_ts.set_conv_rate(env.true_conv1, None)\r\n",
    "shop_ucb.set_conv_rate(env.true_conv1, None)\r\n",
    "\r\n",
    "#Initialize learners\r\n",
    "n_arms = len(env.prices1)\r\n",
    "shop_ts.set_price_learner('TS', n_arms)\r\n",
    "shop_ucb.set_price_learner('UCB', n_arms)"
   ],
   "outputs": [],
   "metadata": {}
  },
  {
   "cell_type": "code",
   "execution_count": 15,
   "source": [
    "# we have fixed promo fractions\r\n",
    "promo_fractions = np.array([[0.3, 0.2, 0.25, 0.25],     # every row is a customer class\r\n",
    "                            [0.2, 0.25, 0.30, 0.25],     # every column is a promo type   \r\n",
    "                            [0.1, 0.2, 0.3, 0.4],\r\n",
    "                            [0.15, 0.15, 0.45, 0.25]])\r\n",
    "                            \r\n",
    "# we have a fixed price for item 2\r\n",
    "price2_index = 2\r\n",
    "price2 = env.prices2[price2_index]\r\n",
    "#conv2 = shop_ts.conv2[:,:,price2_index] # rows -> promo, columns -> customer class\r\n",
    "max_ind_reward = price2 + max(env.prices1)"
   ],
   "outputs": [],
   "metadata": {}
  },
  {
   "cell_type": "code",
   "execution_count": 16,
   "source": [
    "#### get clairvoyant price\r\n",
    "expected_rewards = np.array([0.0, 0.0, 0.0, 0.0, 0.0])\r\n",
    "customers_mean = np.array([25, 25, 25, 25])\r\n",
    "\r\n",
    "for i in range(len(env.prices1)):\r\n",
    "    for j in range(env.n_classes):\r\n",
    "        expected_reward_from_class = customers_mean[j]*env.prices1[i]*env.true_conv1[j, i]\r\n",
    "        for k in range(len(env.discounts)):\r\n",
    "            expected_reward_from_class += promo_fractions[j,k]*customers_mean[j]*env.true_conv1[j, i]*price2*env.true_conv2[k, j, price2_index]*(1 - env.discounts[k])\r\n",
    "        expected_rewards[i] += expected_reward_from_class\r\n",
    "\r\n",
    "\r\n",
    "print(env.prices1)\r\n",
    "print(expected_rewards)\r\n",
    "\r\n",
    "clairvoyant_price_index = np.argmax(expected_rewards)\r\n",
    "clairvoyant_price = env.prices1[clairvoyant_price_index]"
   ],
   "outputs": [
    {
     "output_type": "stream",
     "name": "stdout",
     "text": [
      "[ 80. 120. 160. 200. 240.]\n",
      "[ 9694.32669312 11629.96448077 13849.95234791  6390.66160463\n",
      " 14318.93668027]\n"
     ]
    }
   ],
   "metadata": {}
  },
  {
   "cell_type": "code",
   "execution_count": 17,
   "source": [
    "print(max_ind_reward)\r\n",
    "print(clairvoyant_price)"
   ],
   "outputs": [
    {
     "output_type": "stream",
     "name": "stdout",
     "text": [
      "440.0\n",
      "240.0\n"
     ]
    }
   ],
   "metadata": {}
  },
  {
   "cell_type": "code",
   "execution_count": 18,
   "source": [
    "days = 365\r\n",
    "\r\n",
    "ts_rewards_per_class_per_day = []\r\n",
    "u_rewards_per_class_per_day = []\r\n",
    "clairvoyant_per_class_per_day = []\r\n",
    "#c_expected_per_day = []\r\n",
    "\r\n",
    "customers_em = np.array([0, 0, 0, 0])\r\n",
    "customers_ie = np.array([25, 25, 25, 25])\r\n",
    "\r\n",
    "prices_selected_ts = []\r\n",
    "prices_selected_ucb = []\r\n",
    "for day in range(days):\r\n",
    "    #### same as step 3\r\n",
    "       \r\n",
    "    if day == 0:\r\n",
    "        shop_clairvoyant.set_expected_customers(customers_ie)\r\n",
    "        shop_ts.set_expected_customers(customers_ie)\r\n",
    "        shop_ucb.set_expected_customers(customers_ie)\r\n",
    "        shop_ts_normalized.set_expected_customers(customers_ie)\r\n",
    "        \r\n",
    "    else:\r\n",
    "        customers_em = (customers_em*(day-1) + env.customers) / day\r\n",
    "        \"\"\"print(env.customers)\r\n",
    "        print(customers_em)\r\n",
    "        print(\"***************\")\"\"\"\r\n",
    "        shop_clairvoyant.set_expected_customers((customers_em + 0.99).astype(int))\r\n",
    "        shop_ts.set_expected_customers((customers_em + 0.99).astype(int))\r\n",
    "        shop_ucb.set_expected_customers((customers_em + 0.99).astype(int))\r\n",
    "        shop_ts_normalized.set_expected_customers((customers_em + 0.99).astype(int))\r\n",
    "        \r\n",
    "    env.generate_next_day_customers()\r\n",
    "\r\n",
    "    chosen_price_ts = shop_ts.price_learner.pull_arm()\r\n",
    "    chosen_price_ucb = shop_ucb.price_learner.pull_arm()\r\n",
    "\r\n",
    "\r\n",
    "    #chosen_price_ts_normalized = shop_ts_normalized.price_learner.pull_arm_normalized()\r\n",
    "    \r\n",
    "    ### TODO ADDING NORMALIZATION\r\n",
    "\r\n",
    "    prices_selected_ts.append(env.prices1[chosen_price_ts])\r\n",
    "    prices_selected_ucb.append((env.prices1[chosen_price_ucb], env.customers.sum()))\r\n",
    "\r\n",
    "    ##### Will print coupons manually here\r\n",
    "    ##### The Ratios are fixed\r\n",
    "    #promos = shop_clairvoyant.print_coupons(shop_ts, shop_ucb, promo_fractions)\r\n",
    "\r\n",
    "\r\n",
    "    #### Will create list of customers\r\n",
    "    #### since it is normally done in print coupons I do it manually here\r\n",
    "    #### we probably need to separate printing the coupons and setting customer list\r\n",
    "\r\n",
    "\r\n",
    "    enum_customers = list(enumerate(env.customers))\r\n",
    "    customers = np.concatenate([np.ones(c).astype(int)*p for p,c in enum_customers])\r\n",
    "    np.random.shuffle(customers)\r\n",
    "\r\n",
    "\r\n",
    "    #c_expected_revenue = []\r\n",
    "    revenue_c = []\r\n",
    "    revenue_ts = [] \r\n",
    "    revenue_ucb = []    \r\n",
    "    c_count = 0\r\n",
    "    ts_total_reward = 0\r\n",
    "    ts_norm_reward = 0\r\n",
    "    ucb_total_reward = 0\r\n",
    "    ucb_norm_reward = 0\r\n",
    "    times_bought = 0\r\n",
    "    for cust in customers:\r\n",
    "        c_count += 1\r\n",
    "        ts_ind_reward = 0\r\n",
    "        ucb_ind_reward = 0\r\n",
    "        selected_promo = 0\r\n",
    "        #if len(promos[cust]) > 0:\r\n",
    "        #selected_promo = promos[cust].pop()\r\n",
    "        selected_promo = np.random.choice([0, 1, 2, 3], 1, p=promo_fractions[cust])\r\n",
    "        # customer does their shopping\r\n",
    "        cr1 = shop_clairvoyant.conv1[cust, clairvoyant_price_index]\r\n",
    "        cr2 = shop_clairvoyant.conv2[selected_promo, cust, price2_index]\r\n",
    "        #c_expected_revenue.append(ex_ind)\r\n",
    "        \r\n",
    "        #print(chosen_price_ts[0])\r\n",
    "        ts_buy1 = env.round1(cust, env.prices1[chosen_price_ts])\r\n",
    "        ts_buy2 = 0\r\n",
    "        if ts_buy1:\r\n",
    "            ts_buy2 = env.round2(cust, selected_promo, price2)\r\n",
    "        \r\n",
    "        ucb_buy1 = env.round1(cust, env.prices1[chosen_price_ucb])\r\n",
    "        ucb_buy2 = 0\r\n",
    "        if ucb_buy1:\r\n",
    "            ucb_buy2 = env.round2(cust, selected_promo, price2)\r\n",
    "\r\n",
    "        # c_buy1 = env.round1(cust, clairvoyant_price)\r\n",
    "        # c_buy2 = 0\r\n",
    "        # if c_buy1:\r\n",
    "        #     c_buy2 = env.round2(cust, selected_promo, price2)\r\n",
    "        \r\n",
    "        \r\n",
    "        # calculate individual reward\r\n",
    "        \r\n",
    "        ts_ind_reward = ts_buy1*shop_ts.prices1[chosen_price_ts] + ts_buy2*price2*(1-shop_ts.discounts[selected_promo])\r\n",
    "        ucb_ind_reward = ucb_buy1*shop_ucb.prices1[chosen_price_ucb] + ucb_buy2*price2*(1-shop_ucb.discounts[selected_promo])\r\n",
    "        #c_ind_reward = c_buy1*clairvoyant_price + c_buy2*price2*(1-shop_clairvoyant.discounts[selected_promo])\r\n",
    "        #c_ind_reward = env.true_conv1[cust, clairvoyant_price_index]*clairvoyant_price + env.true_conv1[cust, clairvoyant_price_index]*env.true_conv2[selected_promo, cust, price2_index]*price2*(1-shop_clairvoyant.discounts[selected_promo])\r\n",
    "        c_ind_reward = clairvoyant_price*cr1 + price2*cr1*cr2*(1-shop_clairvoyant.discounts[selected_promo])   \r\n",
    "\r\n",
    "        norm_ts_ind_reward = ts_ind_reward / max_ind_reward\r\n",
    "        norm_ucb_ind_reward = ucb_ind_reward / max_ind_reward\r\n",
    "\r\n",
    "        shop_ts.price_learner.update(chosen_price_ts, norm_ts_ind_reward)\r\n",
    "        val = shop_ucb.price_learner.update(chosen_price_ucb, norm_ucb_ind_reward)\r\n",
    "        #print(val)\r\n",
    "\r\n",
    "        # summing up the reward for the day\r\n",
    "        ts_total_reward += ts_ind_reward\r\n",
    "        ucb_total_reward += ucb_ind_reward\r\n",
    "\r\n",
    "        ts_norm_reward += norm_ts_ind_reward\r\n",
    "        ucb_norm_reward += norm_ucb_ind_reward\r\n",
    "\r\n",
    "        revenue_ts.append(ts_ind_reward)\r\n",
    "        revenue_ucb.append(ucb_ind_reward)\r\n",
    "        revenue_c.append(c_ind_reward)\r\n",
    "\r\n",
    "    #shop_ucb.price_learner.update(chosen_price_ucb, ucb_buy1, cust)\r\n",
    "\r\n",
    "    ts_rewards_per_class_per_day.append(np.mean(revenue_ts))\r\n",
    "    u_rewards_per_class_per_day.append(np.mean(revenue_ucb))\r\n",
    "    clairvoyant_per_class_per_day.append(np.mean(revenue_c))\r\n",
    "    #c_expected_per_day.append(np.mean(c_expected_revenue))\r\n",
    "\r\n",
    "    ts_daily_norm_reward = ts_norm_reward / len(customers)\r\n",
    "    ucb_daily_norm_reward = ucb_norm_reward / len(customers)\r\n",
    "\r\n",
    "    #shop_ts.price_learner.update(chosen_price_ts, ts_daily_norm_reward, cust)\r\n",
    "    #shop_ucb.price_learner.update(chosen_price_ucb, ucb_daily_norm_reward, cust)\r\n",
    "\r\n"
   ],
   "outputs": [],
   "metadata": {}
  },
  {
   "cell_type": "code",
   "execution_count": 19,
   "source": [
    "print(np.cumsum(clairvoyant_per_class_per_day)[-1] - np.cumsum(ts_rewards_per_class_per_day)[-1])\r\n",
    "print(np.cumsum(clairvoyant_per_class_per_day)[-1] - np.cumsum(u_rewards_per_class_per_day)[-1])"
   ],
   "outputs": [
    {
     "output_type": "stream",
     "name": "stdout",
     "text": [
      "87.78962116851471\n",
      "818.2307436762276\n"
     ]
    }
   ],
   "metadata": {}
  },
  {
   "cell_type": "code",
   "execution_count": 20,
   "source": [
    "import matplotlib.pyplot as plt\r\n",
    "plt.plot(np.cumsum(clairvoyant_per_class_per_day), color='green', label='Clairvoyant')\r\n",
    "plt.plot(np.cumsum(ts_rewards_per_class_per_day), color='red', label='TS')\r\n",
    "plt.plot(np.cumsum(u_rewards_per_class_per_day), color='blue', label='UCB')\r\n",
    "#plt.plot(np.cumsum(c_expected_per_day), color='black', label='Expected')\r\n",
    "\r\n",
    "plt.legend()\r\n",
    "plt.xlabel('Time')\r\n",
    "plt.ylabel('Revenue')"
   ],
   "outputs": [
    {
     "output_type": "execute_result",
     "data": {
      "text/plain": [
       "Text(0, 0.5, 'Revenue')"
      ]
     },
     "metadata": {},
     "execution_count": 20
    },
    {
     "output_type": "display_data",
     "data": {
      "image/png": "[encoded data removed]",
      "text/plain": [
       "<Figure size 432x288 with 1 Axes>"
      ]
     },
     "metadata": {
      "needs_background": "light"
     }
    }
   ],
   "metadata": {}
  },
  {
   "cell_type": "code",
   "execution_count": 21,
   "source": [
    "plt.plot(np.cumsum(np.array(clairvoyant_per_class_per_day) - np.array(ts_rewards_per_class_per_day)), color='red', label='TS')\r\n",
    "plt.plot(np.cumsum(np.array(clairvoyant_per_class_per_day) - np.array(u_rewards_per_class_per_day)), color='blue', label='UCB')\r\n",
    "\r\n",
    "plt.legend()\r\n",
    "plt.xlabel('Days')\r\n",
    "plt.ylabel('Regret')"
   ],
   "outputs": [
    {
     "output_type": "execute_result",
     "data": {
      "text/plain": [
       "Text(0, 0.5, 'Regret')"
      ]
     },
     "metadata": {},
     "execution_count": 21
    },
    {
     "output_type": "display_data",
     "data": {
      "image/png": "[encoded data removed]",
      "text/plain": [
       "<Figure size 432x288 with 1 Axes>"
      ]
     },
     "metadata": {
      "needs_background": "light"
     }
    }
   ],
   "metadata": {}
  }
 ],
 "metadata": {
  "orig_nbformat": 4,
  "language_info": {
   "name": "python",
   "version": "3.9.6",
   "mimetype": "text/x-python",
   "codemirror_mode": {
    "name": "ipython",
    "version": 3
   },
   "pygments_lexer": "ipython3",
   "nbconvert_exporter": "python",
   "file_extension": ".py"
  },
  "kernelspec": {
   "name": "python3",
   "display_name": "Python 3.9.6 64-bit"
  },
  "interpreter": {
   "hash": "8dc9504be67acba47bacf60bff7f553f62706ea7a10aa24f4f54855ef6b1dd44"
  }
 },
 "nbformat": 4,
 "nbformat_minor": 2
}