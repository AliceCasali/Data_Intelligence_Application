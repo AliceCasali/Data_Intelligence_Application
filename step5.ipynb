{
 "cells": [
  {
   "cell_type": "code",
   "execution_count": 1,
   "source": [
    "from scipy.optimize import linear_sum_assignment\r\n",
    "import Environment\r\n",
    "import Shop\r\n",
    "from mab.ucb_learner import *\r\n",
    "from utilities import *"
   ],
   "outputs": [],
   "metadata": {}
  },
  {
   "cell_type": "code",
   "execution_count": 2,
   "source": [
    "shop_ucb = Shop.Shop()\r\n",
    "shop_ts = Shop.Shop()\r\n",
    "shop_clairvoyant = Shop.Shop()\r\n",
    "\r\n",
    "env = Environment.Environment(shop_ucb.prices1, shop_ucb.prices2, shop_ucb.discounts)\r\n",
    "\r\n",
    "# shop_ucb.set_conv_rate(env.true_conv1, env.true_conv2)\r\n",
    "# shop_ts.set_conv_rate(env.true_conv1, env.true_conv2)\r\n",
    "shop_clairvoyant.set_conv_rate(env.true_conv1, env.true_conv2)\r\n",
    "\r\n",
    "arms = [(i, j) for i in range(shop_ucb.n_classes) for j in range(len(shop_ucb.discounts))]\r\n",
    "n_arms = len(arms)\r\n",
    "shop_ucb.set_assignment_learner('UCB', n_arms)\r\n",
    "shop_ts.set_assignment_learner('TS', n_arms)"
   ],
   "outputs": [],
   "metadata": {}
  },
  {
   "cell_type": "code",
   "execution_count": 3,
   "source": [
    "price1_index = 1\r\n",
    "price2_index = 3\r\n",
    "\r\n",
    "price1 = env.prices1[price1_index]\r\n",
    "price2 = env.prices2[price2_index]\r\n",
    "\r\n",
    "max_ind_reward = price1 + price2\r\n",
    "generated_promo_ratios = np.array([0.4, 0.25, 0.2, 0.15])"
   ],
   "outputs": [],
   "metadata": {}
  },
  {
   "cell_type": "code",
   "execution_count": 4,
   "source": [
    "#get clairvoyant promo fractions\r\n",
    "shop_clairvoyant.set_expected_customers(np.array([25, 25, 25, 25]))\r\n",
    "\r\n",
    "cec = shop_clairvoyant.get_customer_list()\r\n",
    "cep = shop_clairvoyant.get_promo_list(generated_promo_ratios)\r\n",
    "\r\n",
    "cmt = shop_clairvoyant.get_clairvoyant_matching(cec, cep, price1_index, price2_index)\r\n",
    "\r\n",
    "clairvoyant_promo_fractions = shop_clairvoyant.get_promo_fractions_from_tuples(cmt)\r\n",
    "\r\n",
    "print(clairvoyant_promo_fractions)\r\n"
   ],
   "outputs": [
    {
     "output_type": "stream",
     "name": "stdout",
     "text": [
      "[[0.  0.  0.4 0.6]\n",
      " [0.  1.  0.  0. ]\n",
      " [1.  0.  0.  0. ]\n",
      " [0.6 0.  0.4 0. ]]\n"
     ]
    }
   ],
   "metadata": {}
  },
  {
   "cell_type": "code",
   "execution_count": 5,
   "source": [
    "days = 365\r\n",
    "\r\n",
    "u_rewards_per_class_per_day = []\r\n",
    "c_rewards_per_class_per_day = []\r\n",
    "ts_rewards_per_class_per_day = []\r\n",
    "\r\n",
    "customers_em = np.array([0, 0, 0, 0])\r\n",
    "customers_ie = np.array([25, 25, 25, 25])\r\n",
    "for day in range(days):\r\n",
    "    if day == 0:\r\n",
    "        shop_ucb.set_expected_customers(customers_ie)\r\n",
    "        shop_ts.set_expected_customers(customers_ie)\r\n",
    "    else:\r\n",
    "        customers_em = (customers_em*(day-1) + env.customers) / day\r\n",
    "        shop_ucb.set_expected_customers((customers_em + 0.99).astype(int))\r\n",
    "        shop_ts.set_expected_customers((customers_em + 0.99).astype(int))\r\n",
    "    \r\n",
    "    # do the matching and get promo fractions #############\r\n",
    "    \r\n",
    "    # get expected list of customers\r\n",
    "    expected_customers_u = shop_ucb.get_customer_list()\r\n",
    "    expected_customers_ts = shop_ts.get_customer_list()\r\n",
    "\r\n",
    "    # get expected list of promos\r\n",
    "    expected_promos_u = shop_ucb.get_promo_list(generated_promo_ratios) \r\n",
    "    expected_promos_ts = shop_ts.get_promo_list(generated_promo_ratios) \r\n",
    "\r\n",
    "    # generate the connections and their expected weights\r\n",
    "    matched_tuples_u = shop_ucb.assignment_learner.pull_arm_matching(expected_customers_u, expected_promos_u, arms)\r\n",
    "    matched_tuples_ts = shop_ts.assignment_learner.pull_arm_matching(expected_customers_ts, expected_promos_ts, arms)\r\n",
    " \r\n",
    "    promo_fractions_u = shop_ucb.get_promo_fractions_from_tuples(matched_tuples_u)\r\n",
    "    promo_fractions_ts = shop_ts.get_promo_fractions_from_tuples(matched_tuples_ts)\r\n",
    "    #######################################################\r\n",
    "\r\n",
    "    \"\"\"print(promo_fractions)\r\n",
    "    print(\"**************\\n***************\")\"\"\"\r\n",
    " \r\n",
    "    # simulate the day like previous steps\r\n",
    "    env.generate_next_day_customers()\r\n",
    "\r\n",
    "    enum_customers = list(enumerate(env.customers))\r\n",
    "    customers = np.concatenate([np.ones(c).astype(int)*p for p,c in enum_customers])\r\n",
    "    np.random.shuffle(customers)\r\n",
    "\r\n",
    "    revenue_ucb = []\r\n",
    "    revenue_c = []\r\n",
    "    revenue_ts = []\r\n",
    "\r\n",
    "    ucb_total_reward = 0\r\n",
    "    c_total_reward = 0\r\n",
    "    ts_total_reward = 0\r\n",
    "\r\n",
    "    ucb_norm_reward = 0\r\n",
    "    ts_norm_reward = 0\r\n",
    "\r\n",
    "    c_count = 0\r\n",
    "\r\n",
    "    for cust in customers:\r\n",
    "        c_count += 1\r\n",
    "        ts_ind_reward = 0\r\n",
    "        ucb_ind_reward = 0\r\n",
    "\r\n",
    "        #select the promo for the customer with given class\r\n",
    "        selected_promo_u = np.random.choice([0, 1, 2, 3], 1, p=promo_fractions_u[cust])\r\n",
    "        selected_promo_ts = np.random.choice([0, 1, 2, 3], 1, p=promo_fractions_ts[cust])\r\n",
    "        selected_promo_c = np.random.choice([0, 1, 2, 3], 1, p=clairvoyant_promo_fractions[cust])\r\n",
    "\r\n",
    "        ucb_buy1 = env.round1(cust, price1)\r\n",
    "        ucb_buy2 = 0\r\n",
    "        if ucb_buy1:\r\n",
    "            ucb_buy2 = env.round2(cust, selected_promo_u, price2)\r\n",
    "\r\n",
    "        ts_buy1 = env.round1(cust, price1)\r\n",
    "        ts_buy2 = 0\r\n",
    "        if ts_buy1:\r\n",
    "            ts_buy2 = env.round2(cust, selected_promo_ts, price2)\r\n",
    "\r\n",
    "        c_buy1 = env.round1(cust, price1)\r\n",
    "        c_buy2 = 0\r\n",
    "        if c_buy1:\r\n",
    "            c_buy2 = env.round2(cust, selected_promo_c, price2)\r\n",
    "\r\n",
    "        ### TODO should we consider all the shopping for reward or just item 2\r\n",
    "\r\n",
    "        ucb_ind_reward = ucb_buy1*price1 + ucb_buy2*price2*(1-shop_ucb.discounts[selected_promo_u])\r\n",
    "        ts_ind_reward = ts_buy1*price1 + ts_buy2*price2*(1-shop_ts.discounts[selected_promo_ts])\r\n",
    "        c_ind_reward = c_buy1*price1 + c_buy2*price2*(1-shop_ucb.discounts[selected_promo_c])\r\n",
    "\r\n",
    "        norm_ucb_ind_reward = ucb_ind_reward / max_ind_reward\r\n",
    "        norm_ts_ind_reward = ts_ind_reward / max_ind_reward\r\n",
    "\r\n",
    "        shop_ucb.assignment_learner.update(arms.index((cust, selected_promo_u)), norm_ucb_ind_reward)\r\n",
    "        shop_ts.assignment_learner.update(arms.index((cust, selected_promo_ts)), norm_ts_ind_reward)\r\n",
    "\r\n",
    "        revenue_ucb.append(ucb_ind_reward)\r\n",
    "        revenue_c.append(c_ind_reward)\r\n",
    "        revenue_ts.append(ts_ind_reward)\r\n",
    "    \r\n",
    "    u_rewards_per_class_per_day.append(np.mean(revenue_ucb))\r\n",
    "    c_rewards_per_class_per_day.append(np.mean(revenue_c))\r\n",
    "    ts_rewards_per_class_per_day.append(np.mean(revenue_ts))\r\n",
    "\r\n",
    "\r\n"
   ],
   "outputs": [],
   "metadata": {}
  },
  {
   "cell_type": "code",
   "execution_count": 6,
   "source": [
    "print(np.cumsum(c_rewards_per_class_per_day)[-1] - np.cumsum(ts_rewards_per_class_per_day)[-1])\r\n",
    "print(np.cumsum(c_rewards_per_class_per_day)[-1] - np.cumsum(u_rewards_per_class_per_day)[-1])"
   ],
   "outputs": [
    {
     "output_type": "stream",
     "name": "stdout",
     "text": [
      "644.7718167135063\n",
      "3615.06411306022\n"
     ]
    }
   ],
   "metadata": {}
  },
  {
   "cell_type": "code",
   "execution_count": 7,
   "source": [
    "import matplotlib.pyplot as plt\r\n",
    "plt.plot(np.cumsum(c_rewards_per_class_per_day), color='green', label='Clairvoyant')\r\n",
    "plt.plot(np.cumsum(ts_rewards_per_class_per_day), color='red', label='TS')\r\n",
    "plt.plot(np.cumsum(u_rewards_per_class_per_day), color='blue', label='UCB')\r\n",
    "#plt.plot(np.cumsum(c_expected_per_day), color='black', label='Expected')\r\n",
    "\r\n",
    "plt.legend()\r\n",
    "plt.xlabel('Time')\r\n",
    "plt.ylabel('Revenue')\r\n"
   ],
   "outputs": [
    {
     "output_type": "execute_result",
     "data": {
      "text/plain": [
       "Text(0, 0.5, 'Revenue')"
      ]
     },
     "metadata": {},
     "execution_count": 7
    },
    {
     "output_type": "display_data",
     "data": {
      "image/png": "[encoded data removed]",
      "text/plain": [
       "<Figure size 432x288 with 1 Axes>"
      ]
     },
     "metadata": {
      "needs_background": "light"
     }
    }
   ],
   "metadata": {}
  },
  {
   "cell_type": "code",
   "execution_count": 8,
   "source": [
    "plt.plot(np.cumsum(np.array(c_rewards_per_class_per_day) - np.array(ts_rewards_per_class_per_day)), color='red', label='TS')\r\n",
    "plt.plot(np.cumsum(np.array(c_rewards_per_class_per_day) - np.array(u_rewards_per_class_per_day)), color='blue', label='UCB')\r\n",
    "\r\n",
    "plt.legend()\r\n",
    "plt.xlabel('Days')\r\n",
    "plt.ylabel('Regret')"
   ],
   "outputs": [
    {
     "output_type": "execute_result",
     "data": {
      "text/plain": [
       "Text(0, 0.5, 'Regret')"
      ]
     },
     "metadata": {},
     "execution_count": 8
    },
    {
     "output_type": "display_data",
     "data": {
      "image/png": "[encoded data removed]",
      "text/plain": [
       "<Figure size 432x288 with 1 Axes>"
      ]
     },
     "metadata": {
      "needs_background": "light"
     }
    }
   ],
   "metadata": {}
  }
 ],
 "metadata": {
  "orig_nbformat": 4,
  "language_info": {
   "name": "python",
   "version": "3.9.6",
   "mimetype": "text/x-python",
   "codemirror_mode": {
    "name": "ipython",
    "version": 3
   },
   "pygments_lexer": "ipython3",
   "nbconvert_exporter": "python",
   "file_extension": ".py"
  },
  "kernelspec": {
   "name": "python3",
   "display_name": "Python 3.9.6 64-bit"
  },
  "interpreter": {
   "hash": "8dc9504be67acba47bacf60bff7f553f62706ea7a10aa24f4f54855ef6b1dd44"
  }
 },
 "nbformat": 4,
 "nbformat_minor": 2
}