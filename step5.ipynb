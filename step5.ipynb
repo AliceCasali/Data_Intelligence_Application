{
 "cells": [
  {
   "cell_type": "code",
   "execution_count": 50,
   "source": [
    "from scipy.optimize import linear_sum_assignment\r\n",
    "import Environment\r\n",
    "import Shop\r\n",
    "from mab.ucb_learner import *\r\n",
    "from utilities import *"
   ],
   "outputs": [],
   "metadata": {}
  },
  {
   "cell_type": "code",
   "execution_count": 52,
   "source": [
    "shop_ucb = Shop.Shop()\r\n",
    "\r\n",
    "env = Environment.Environment(shop_ucb.prices1, shop_ucb.prices2, shop_ucb.discounts)\r\n",
    "\r\n",
    "shop_ucb.set_conv_rate(env.true_conv1, env.true_conv2)\r\n",
    "\r\n",
    "arms = [(i, j) for i in range(shop_ucb.n_classes) for j in range(len(shop_ucb.discounts))]\r\n",
    "n_arms = len(arms)\r\n",
    "shop_ucb.set_assignment_learner('UCB', n_arms)"
   ],
   "outputs": [],
   "metadata": {}
  },
  {
   "cell_type": "code",
   "execution_count": 53,
   "source": [
    "price1_index = 1\r\n",
    "price2_index = 3\r\n",
    "\r\n",
    "price1 = env.prices1[price1_index]\r\n",
    "price2 = env.prices2[price2_index]\r\n",
    "\r\n",
    "max_ind_reward = price1 + price2\r\n",
    "generated_promo_ratios = np.array([0.4, 0.25, 0.2, 0.15])"
   ],
   "outputs": [],
   "metadata": {}
  },
  {
   "cell_type": "code",
   "execution_count": 57,
   "source": [
    "days = 365\r\n",
    "\r\n",
    "u_rewards_per_class_per_day = []\r\n",
    "\r\n",
    "customers_em = np.array([0, 0, 0, 0])\r\n",
    "customers_ie = np.array([25, 25, 25, 25])\r\n",
    "\r\n",
    "for day in range(days):\r\n",
    "    if day == 0:\r\n",
    "        shop_ucb.set_expected_customers(customers_ie)\r\n",
    "    else:\r\n",
    "        customers_em = (customers_em*(day-1) + env.customers) / day\r\n",
    "        shop_ucb.set_expected_customers((customers_em + 0.99).astype(int))\r\n",
    "    \r\n",
    "    # do the matching and get promo fractions #############\r\n",
    "    \r\n",
    "    # get expected list of promos\r\n",
    "    en_promos = shop_ucb.customers.sum()*generated_promo_ratios\r\n",
    "    en_promos = en_promos.astype(int)\r\n",
    "    en_promos[0] += shop_ucb.customers.sum() - en_promos.sum()\r\n",
    "\r\n",
    "    #print(shop_ucb.customers.sum() - en_promos.sum())\r\n",
    "\r\n",
    "    expected_promos = list(enumerate(en_promos))\r\n",
    "    expected_promos = np.concatenate([np.ones(c).astype(int)*p for p,c in expected_promos])\r\n",
    "\r\n",
    "    # get expected list of customers\r\n",
    "    expected_customers = list(enumerate(shop_ucb.customers))\r\n",
    "    expected_customers = np.concatenate([np.ones(c).astype(int)*p for p,c in expected_customers])\r\n",
    "\r\n",
    "\r\n",
    "    #print(len(expected_customers))\r\n",
    "    \r\n",
    "\r\n",
    "\r\n",
    "\r\n",
    "    # generate the connections and their expected weights\r\n",
    "\r\n",
    "    graph = np.zeros((len(expected_customers), len(expected_promos)))\r\n",
    "    for i in range(len(expected_customers)):\r\n",
    "        for j in range(len(expected_promos)):\r\n",
    "            arm_index = arms.index((expected_customers[i], expected_promos[j]))\r\n",
    "            graph[i,j] = shop_ucb.assignment_learner.confidence[arm_index] + shop_ucb.assignment_learner.empirical_means[arm_index]\r\n",
    "            if graph[i,j] == np.inf:\r\n",
    "                graph[i,j] = 1e3\r\n",
    "\r\n",
    "    # match according to the weights\r\n",
    "    matched_c, matched_p = linear_sum_assignment(-graph)\r\n",
    "    matched_tuples = [(expected_customers[c], expected_promos[p]) for c,p in zip(matched_c, matched_p)]\r\n",
    "    \r\n",
    "    # calculate the promo fractions for the simulation\r\n",
    "    promo_fractions = np.zeros((shop_ucb.n_classes, len(shop_ucb.discounts)))\r\n",
    "\r\n",
    "    for t in matched_tuples:\r\n",
    "        promo_fractions[t[0], t[1]] += 1\r\n",
    "   \r\n",
    "    promo_fractions /= shop_ucb.customers.reshape(4,1)  \r\n",
    "    #######################################################\r\n",
    "\r\n",
    "    print(promo_fractions)\r\n",
    "    print(\"**************\\n***************\")\r\n",
    " \r\n",
    "    # simulate the day like previous steps\r\n",
    "    env.generate_next_day_customers()\r\n",
    "\r\n",
    "    enum_customers = list(enumerate(env.customers))\r\n",
    "    customers = np.concatenate([np.ones(c).astype(int)*p for p,c in enum_customers])\r\n",
    "    np.random.shuffle(customers)\r\n",
    "\r\n",
    "    revenue_ucb = []\r\n",
    "    ucb_total_reward = 0\r\n",
    "    ucb_norm_reward = 0\r\n",
    "    c_count = 0\r\n",
    "\r\n",
    "    for cust in customers:\r\n",
    "        c_count += 1\r\n",
    "        ts_ind_reward = 0\r\n",
    "        ucb_ind_reward = 0\r\n",
    "\r\n",
    "        #select the promo for the customer with given class\r\n",
    "        selected_promo = np.random.choice([0, 1, 2, 3], 1, p=promo_fractions[cust])\r\n",
    "\r\n",
    "        ucb_buy1 = env.round1(cust, price1)\r\n",
    "        ucb_buy2 = 0\r\n",
    "        if ucb_buy1:\r\n",
    "            ucb_buy2 = env.round2(cust, selected_promo, price2)\r\n",
    "\r\n",
    "        ### TODO should we consider all the shopping for reward or just item 2\r\n",
    "\r\n",
    "        ucb_ind_reward = ucb_buy1*price1 + ucb_buy2*price2*(1-shop_ucb.discounts[selected_promo])\r\n",
    "\r\n",
    "        norm_ucb_ind_reward = ucb_ind_reward / max_ind_reward\r\n",
    "\r\n",
    "        shop_ucb.assignment_learner.update(arms.index((cust, selected_promo)), norm_ucb_ind_reward)\r\n",
    "\r\n",
    "        revenue_ucb.append(ucb_ind_reward)\r\n",
    "    \r\n",
    "    u_rewards_per_class_per_day.append(np.mean(revenue_ucb))\r\n",
    "\r\n",
    "\r\n"
   ],
   "outputs": [
    {
     "output_type": "stream",
     "name": "stdout",
     "text": [
      "[(0, 1), (0, 1), (0, 1), (0, 1), (0, 1), (0, 1), (0, 1), (0, 1), (0, 1), (0, 1), (0, 1), (0, 1), (0, 1), (0, 1), (0, 1), (0, 1), (0, 1), (0, 1), (0, 1), (0, 1), (0, 1), (0, 1), (0, 1), (0, 1), (0, 1), (1, 0), (1, 0), (1, 0), (1, 0), (1, 0), (1, 0), (1, 0), (1, 0), (1, 0), (1, 0), (1, 0), (1, 0), (1, 0), (1, 0), (1, 0), (1, 0), (1, 0), (1, 0), (1, 0), (1, 0), (1, 0), (1, 0), (1, 0), (1, 0), (1, 0), (2, 0), (2, 0), (2, 0), (2, 0), (2, 0), (2, 3), (2, 3), (2, 3), (2, 3), (2, 3), (2, 3), (2, 3), (2, 3), (2, 3), (2, 3), (2, 0), (2, 0), (2, 0), (2, 0), (2, 0), (2, 0), (2, 0), (2, 0), (2, 0), (2, 0), (3, 2), (3, 2), (3, 2), (3, 2), (3, 2), (3, 2), (3, 2), (3, 2), (3, 2), (3, 2), (3, 2), (3, 2), (3, 2), (3, 2), (3, 2), (3, 2), (3, 2), (3, 2), (3, 2), (3, 2), (3, 3), (3, 3), (3, 3), (3, 3), (3, 3)]\n"
     ]
    }
   ],
   "metadata": {}
  },
  {
   "cell_type": "code",
   "execution_count": 55,
   "source": [
    "shop_ucb.assignment_learner.confidence"
   ],
   "outputs": [
    {
     "output_type": "execute_result",
     "data": {
      "text/plain": [
       "array([0.29691989, 0.67924819, 0.48851187, 0.69086011, 0.47249071,\n",
       "       0.56087073, 0.46145827, 0.567355  , 0.44152972, 0.39886827,\n",
       "       0.3965955 , 0.7296296 , 0.3648148 , 0.48435424, 0.50165803,\n",
       "       0.63804257])"
      ]
     },
     "metadata": {},
     "execution_count": 55
    }
   ],
   "metadata": {}
  },
  {
   "cell_type": "code",
   "execution_count": 56,
   "source": [
    "shop_ucb.customers\r\n"
   ],
   "outputs": [
    {
     "output_type": "execute_result",
     "data": {
      "text/plain": [
       "array([28, 23, 27, 26])"
      ]
     },
     "metadata": {},
     "execution_count": 56
    }
   ],
   "metadata": {}
  },
  {
   "cell_type": "code",
   "execution_count": 40,
   "source": [
    "promo_fractions / shop_ucb.customers"
   ],
   "outputs": [
    {
     "output_type": "execute_result",
     "data": {
      "text/plain": [
       "array([[0.        , 0.        , 0.74074074, 0.31818182],\n",
       "       [0.81481481, 0.12      , 0.        , 0.        ],\n",
       "       [0.7037037 , 0.        , 0.        , 0.36363636],\n",
       "       [0.        , 0.88      , 0.        , 0.        ]])"
      ]
     },
     "metadata": {},
     "execution_count": 40
    }
   ],
   "metadata": {}
  },
  {
   "cell_type": "code",
   "execution_count": 43,
   "source": [
    "promo_fractions / shop_ucb.customers.reshape(4,1)"
   ],
   "outputs": [
    {
     "output_type": "execute_result",
     "data": {
      "text/plain": [
       "array([[0.        , 0.        , 0.74074074, 0.25925926],\n",
       "       [0.88      , 0.12      , 0.        , 0.        ],\n",
       "       [0.7037037 , 0.        , 0.        , 0.2962963 ],\n",
       "       [0.        , 1.        , 0.        , 0.        ]])"
      ]
     },
     "metadata": {},
     "execution_count": 43
    }
   ],
   "metadata": {}
  },
  {
   "cell_type": "code",
   "execution_count": null,
   "source": [],
   "outputs": [],
   "metadata": {}
  }
 ],
 "metadata": {
  "orig_nbformat": 4,
  "language_info": {
   "name": "python",
   "version": "3.8.3",
   "mimetype": "text/x-python",
   "codemirror_mode": {
    "name": "ipython",
    "version": 3
   },
   "pygments_lexer": "ipython3",
   "nbconvert_exporter": "python",
   "file_extension": ".py"
  },
  "kernelspec": {
   "name": "python3",
   "display_name": "Python 3.8.3 32-bit"
  },
  "interpreter": {
   "hash": "228e651cc4a48423604d0443f50a86427611fe0978b12785d27282ccd6ac66f5"
  }
 },
 "nbformat": 4,
 "nbformat_minor": 2
}