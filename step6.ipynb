{
 "cells": [
  {
   "cell_type": "code",
   "execution_count": 29,
   "source": [
    "import Environment\r\n",
    "import Shop\r\n",
    "from mab.ucb_learner import *\r\n",
    "from utilities import *"
   ],
   "outputs": [],
   "metadata": {}
  },
  {
   "cell_type": "code",
   "execution_count": 30,
   "source": [
    "shop_small_ts = Shop.Shop()\r\n",
    "shop_ucb = Shop.Shop()\r\n",
    "\r\n",
    "shop_ts = Shop.Shop()\r\n",
    "shop_big_ts = Shop.Shop()\r\n",
    "shop_clairvoyant = Shop.Shop()\r\n",
    "\r\n",
    "env = Environment.Environment(shop_small_ts.prices1, shop_small_ts.prices2, shop_small_ts.discounts)\r\n",
    "\r\n",
    "shop_small_ts.set_conv_rate(env.true_conv1, env.true_conv2)\r\n",
    "shop_ucb.set_conv_rate(env.true_conv1, env.true_conv2)\r\n",
    "\r\n",
    "shop_ts.set_conv_rate(env.true_conv1, env.true_conv2)\r\n",
    "shop_big_ts.set_conv_rate(env.true_conv1, env.true_conv2)\r\n",
    "shop_clairvoyant.set_conv_rate(env.true_conv1, env.true_conv2)\r\n",
    "\r\n",
    "\r\n",
    "price_arms = [(i, j) for i in range(len(shop_small_ts.prices1)) for j in range(len(shop_small_ts.prices2))]\r\n",
    "n_price_arms = len(price_arms)\r\n",
    "\r\n",
    "matching_arms = [(i, j, k, l) for i in range(len(shop_ts.prices1)) for j in range(len(shop_ts.prices2)) for k in range(shop_ts.n_classes) for l in range(len(shop_ts.discounts))]\r\n",
    "n_matching_arms = len(matching_arms)\r\n",
    "\r\n",
    "small_matching_arms = [(i, j) for i in range(shop_small_ts.n_classes) for j in range(len(shop_small_ts.discounts))]\r\n",
    "small_n_matching_arms = len(small_matching_arms)\r\n",
    "\r\n",
    "shop_small_ts.set_assignment_learner('TS', small_n_matching_arms)\r\n",
    "shop_ucb.set_assignment_learner('UCB', small_n_matching_arms)\r\n",
    "\r\n",
    "shop_small_ts.set_price_learner('TS', 5)\r\n",
    "shop_ucb.set_price_learner('UCB', 5)\r\n",
    "\r\n",
    "shop_small_ts.set_price2_learner('TS', 5)\r\n",
    "shop_ucb.set_price2_learner('UCB', 5)\r\n",
    "\r\n",
    "shop_ts.set_price_learner('TS', n_price_arms)\r\n",
    "shop_ts.set_assignment_learner('TS', n_matching_arms)\r\n",
    "\r\n",
    "\r\n",
    "shop_big_ts.set_assignment_learner('TS', n_matching_arms)"
   ],
   "outputs": [],
   "metadata": {}
  },
  {
   "cell_type": "code",
   "execution_count": 31,
   "source": [
    "generated_promo_ratios = np.array([0.4, 0.25, 0.2, 0.15])\r\n",
    "max_ind_reward = max(env.prices1) + max(env.prices2)"
   ],
   "outputs": [],
   "metadata": {}
  },
  {
   "cell_type": "code",
   "execution_count": 32,
   "source": [
    "#### get clairvoyant price\r\n",
    "expected_rewards = np.zeros((5,5)) # price1*price2\r\n",
    "shop_clairvoyant.set_expected_customers(np.array([25, 25, 25, 25]))\r\n",
    "customers_mean = np.array([25, 25, 25, 25])\r\n",
    "\r\n",
    "##### other way to calculate clairvoyant\r\n",
    "cec = shop_clairvoyant.get_customer_list()\r\n",
    "cep = shop_clairvoyant.get_promo_list(generated_promo_ratios)\r\n",
    "\r\n",
    "cmt, cpa, cer, ers  = shop_clairvoyant.get_clairvoyant_prices_and_matching(cec, cep, 5, 5)\r\n",
    "\r\n",
    "cp1idx = price_arms[cpa][0]\r\n",
    "cp2idx = price_arms[cpa][1]\r\n",
    "cp1 = env.prices1[cp1idx]\r\n",
    "cp2 = env.prices2[cp2idx]\r\n",
    "\r\n",
    "cpf = shop_clairvoyant.get_promo_fractions_from_tuples(cmt)\r\n",
    "\r\n",
    "print(cpf)\r\n",
    "print(cp1)\r\n",
    "print(cp2)\r\n",
    "print(cer)"
   ],
   "outputs": [
    {
     "output_type": "stream",
     "name": "stdout",
     "text": [
      "[[0.  0.  0.8 0.2]\n",
      " [0.  1.  0.  0. ]\n",
      " [1.  0.  0.  0. ]\n",
      " [0.6 0.  0.  0.4]]\n",
      "120.0\n",
      "200.0\n",
      "16526.62099910125\n"
     ]
    }
   ],
   "metadata": {}
  },
  {
   "cell_type": "code",
   "execution_count": 33,
   "source": [
    "days = 365\r\n",
    "\r\n",
    "u_rewards_per_class_per_day = []\r\n",
    "small_ts_rewards_per_class_per_day = []\r\n",
    "\r\n",
    "ts_rewards_per_class_per_day = []\r\n",
    "big_ts_rewards_per_class_per_day = []\r\n",
    "calt_rewards_per_class_per_day = []\r\n",
    "\r\n",
    "customers_em = np.array([0, 0, 0, 0])\r\n",
    "customers_ie = np.array([25, 25, 25, 25])\r\n",
    "\r\n",
    "for day in range(days):\r\n",
    "    if day == 0:\r\n",
    "        shop_ts.set_expected_customers(customers_ie)\r\n",
    "        shop_big_ts.set_expected_customers(customers_ie)\r\n",
    "\r\n",
    "        shop_ucb.set_expected_customers(customers_ie)\r\n",
    "        shop_small_ts.set_expected_customers(customers_ie)\r\n",
    "    else:\r\n",
    "        customers_em = (customers_em*(day-1) + env.customers) / day\r\n",
    "        shop_ucb.set_expected_customers((customers_em + 0.99).astype(int))\r\n",
    "        shop_small_ts.set_expected_customers((customers_em + 0.99).astype(int))\r\n",
    "        shop_ts.set_expected_customers((customers_em + 0.99).astype(int))\r\n",
    "        shop_big_ts.set_expected_customers((customers_em + 0.99).astype(int))\r\n",
    "    \r\n",
    "    # select the price for 2 step learner\r\n",
    "    chosen_price_tuple_idx_ts = shop_ts.price_learner.pull_arm()\r\n",
    "\r\n",
    "    price1idx_ts = price_arms[chosen_price_tuple_idx_ts][0]\r\n",
    "    price2idx_ts = price_arms[chosen_price_tuple_idx_ts][1]\r\n",
    "    price1_ts = env.prices1[price_arms[chosen_price_tuple_idx_ts][0]]\r\n",
    "    price2_ts = env.prices2[price_arms[chosen_price_tuple_idx_ts][1]]\r\n",
    "\r\n",
    "    # perform matching and get promo fractions for 2 step learner\r\n",
    "    expected_customers_ts = shop_ts.get_customer_list()\r\n",
    "    expected_promos_ts = shop_ts.get_promo_list(generated_promo_ratios)\r\n",
    "    matched_tuples_ts = shop_ts.assignment_learner.pull_arm_matching(expected_customers_ts, expected_promos_ts, matching_arms, price1idx_ts, price2idx_ts)\r\n",
    "    promo_fractions_ts = shop_ts.get_promo_fractions_from_tuples(matched_tuples_ts)\r\n",
    "\r\n",
    "    # get promo fractions and prices for big learner\r\n",
    "    expected_customers_big_ts = shop_big_ts.get_customer_list()\r\n",
    "    expected_promos_big_ts = shop_big_ts.get_promo_list(generated_promo_ratios)\r\n",
    "    matched_tuples_big_ts, price_arm_index_big_ts = shop_big_ts.assignment_learner.pull_arm_all(expected_customers_big_ts, expected_promos_big_ts, matching_arms, len(env.prices1), len(env.prices2))\r\n",
    "    promo_fractions_big_ts = shop_big_ts.get_promo_fractions_from_tuples(matched_tuples_big_ts)\r\n",
    "\r\n",
    "    price1idx_big_ts = price_arms[price_arm_index_big_ts][0]\r\n",
    "    price2idx_big_ts = price_arms[price_arm_index_big_ts][1]\r\n",
    "    price1_big_ts = env.prices1[price1idx_big_ts]\r\n",
    "    price2_big_ts = env.prices2[price2idx_big_ts]\r\n",
    "\r\n",
    "    # get expected list of customers\r\n",
    "    expected_customers_u = shop_ucb.get_customer_list()\r\n",
    "    expected_customers_small_ts = shop_small_ts.get_customer_list()\r\n",
    "\r\n",
    "    # get expected list of promos\r\n",
    "    expected_promos_u = shop_ucb.get_promo_list(generated_promo_ratios) \r\n",
    "    expected_promos_small_ts = shop_small_ts.get_promo_list(generated_promo_ratios) \r\n",
    "\r\n",
    "    #Pull arm price1 from learners \r\n",
    "    chosen_price1_small_ts = env.prices1[shop_small_ts.price_learner.pull_arm()]\r\n",
    "    chosen_price1_ucb = env.prices1[shop_ucb.price_learner.pull_arm()] \r\n",
    "\r\n",
    "    #Pull arm price2 from learners \r\n",
    "    chosen_price2_small_ts = env.prices2[shop_small_ts.price2_learner.pull_arm()]\r\n",
    "    chosen_price2_ucb = env.prices2[shop_ucb.price2_learner.pull_arm()] \r\n",
    "    \r\n",
    "\r\n",
    "    # generate the connections and their expected weights\r\n",
    "    matched_tuples_u = shop_ucb.assignment_learner.pull_arm_matching(expected_customers_u, expected_promos_u, small_matching_arms)\r\n",
    "    matched_tuples_small_ts = shop_small_ts.assignment_learner.pull_arm_matching(expected_customers_small_ts, expected_promos_small_ts, small_matching_arms)\r\n",
    " \r\n",
    "    promo_fractions_u = shop_ucb.get_promo_fractions_from_tuples(matched_tuples_u)\r\n",
    "    promo_fractions_small_ts = shop_small_ts.get_promo_fractions_from_tuples(matched_tuples_small_ts)\r\n",
    "\r\n",
    "    # simulate the day\r\n",
    "    env.generate_next_day_customers()\r\n",
    "\r\n",
    "    enum_customers = list(enumerate(env.customers))\r\n",
    "    customers = np.concatenate([np.ones(c).astype(int)*p for p,c in enum_customers])\r\n",
    "    np.random.shuffle(customers)\r\n",
    "\r\n",
    "    revenue_small_ts = []\r\n",
    "    revenue_ucb = []\r\n",
    "    revenue_ts = []\r\n",
    "    revenue_big_ts = []\r\n",
    "    revenue_calt = []\r\n",
    "\r\n",
    "    small_ts_total_reward = 0\r\n",
    "    ucb_total_reward = 0\r\n",
    "    big_ts_total_reward = 0\r\n",
    "    ts_total_reward = 0\r\n",
    "    calt_total_reward = 0\r\n",
    "\r\n",
    "    c_count = 0\r\n",
    "\r\n",
    "    for cust in customers:\r\n",
    "        ts_ind_reward = 0\r\n",
    "\r\n",
    "        selected_promo_small_ts = np.random.choice([0, 1, 2, 3], 1, p=promo_fractions_small_ts[cust])\r\n",
    "        selected_promo_u = np.random.choice([0, 1, 2, 3], 1, p=promo_fractions_u[cust])\r\n",
    "        selected_promo_ts = np.random.choice([0, 1, 2, 3], 1, p=promo_fractions_ts[cust])\r\n",
    "        selected_promo_big_ts = np.random.choice([0, 1, 2, 3], 1, p=promo_fractions_big_ts[cust])\r\n",
    "        selected_promo_calt = np.random.choice([0, 1, 2, 3], 1, p=cpf[cust])\r\n",
    "\r\n",
    "        small_ts_buy1 = env.round1(cust, chosen_price1_small_ts)\r\n",
    "        small_ts_buy2 = 0\r\n",
    "        if small_ts_buy1:\r\n",
    "            small_ts_buy2 = env.round2(cust, selected_promo_small_ts, chosen_price2_small_ts)\r\n",
    "        \r\n",
    "        u_buy1 = env.round1(cust, chosen_price1_ucb)\r\n",
    "        u_buy2 = 0\r\n",
    "        if u_buy1:\r\n",
    "            u_buy2 = env.round2(cust, selected_promo_u, chosen_price2_ucb)\r\n",
    "\r\n",
    "        ts_buy1 = env.round1(cust, price1_ts)\r\n",
    "        ts_buy2 = 0\r\n",
    "        if ts_buy1:\r\n",
    "            ts_buy2 = env.round2(cust, selected_promo_ts, price2_ts)\r\n",
    "\r\n",
    "        big_ts_buy1 = env.round1(cust, price1_big_ts)\r\n",
    "        big_ts_buy2 = 0\r\n",
    "        if big_ts_buy1:\r\n",
    "            big_ts_buy2 = env.round2(cust, selected_promo_big_ts, price2_big_ts)\r\n",
    "\r\n",
    "\r\n",
    "        calt_buy1 = env.round1(cust, cp1)\r\n",
    "        calt_buy2 = 0\r\n",
    "        if calt_buy1:\r\n",
    "            calt_buy2 = env.round2(cust, selected_promo_calt, cp2)\r\n",
    "        \r\n",
    "        small_ts_ind_reward= small_ts_buy1*chosen_price1_small_ts + small_ts_buy2*chosen_price2_small_ts*(1-shop_small_ts.discounts[selected_promo_small_ts])\r\n",
    "        u_ind_reward = u_buy1*chosen_price1_ucb + u_buy2*chosen_price2_ucb*(1-shop_ucb.discounts[selected_promo_u])\r\n",
    "        ts_ind_reward = ts_buy1*price1_ts + ts_buy2*price2_ts*(1-shop_ts.discounts[selected_promo_ts])\r\n",
    "        big_ts_ind_reward = big_ts_buy1*price1_big_ts + big_ts_buy2*price2_big_ts*(1-shop_big_ts.discounts[selected_promo_big_ts])\r\n",
    "        calt_ind_reward = calt_buy1*cp1 + calt_buy2*cp2*(1-shop_small_ts.discounts[selected_promo_calt])\r\n",
    "        \r\n",
    "        norm_small_ts_ind_reward = small_ts_ind_reward / max_ind_reward\r\n",
    "        norm_u_ind_reward = u_ind_reward / max_ind_reward\r\n",
    "        norm_ts_ind_reward = ts_ind_reward / max_ind_reward\r\n",
    "        norm_big_ts_ind_reward = big_ts_ind_reward / max_ind_reward\r\n",
    "\r\n",
    "        # update price learner and assignment learner\r\n",
    "        shop_ucb.assignment_learner.update(small_matching_arms.index((cust, selected_promo_u)), norm_u_ind_reward)\r\n",
    "        shop_small_ts.assignment_learner.update(small_matching_arms.index((cust, selected_promo_small_ts)), norm_small_ts_ind_reward)\r\n",
    "        \r\n",
    "        shop_ts.price_learner.update(chosen_price_tuple_idx_ts, norm_ts_ind_reward)\r\n",
    "        matching_arm_index_ts = matching_arms.index((price1idx_ts, price2idx_ts, cust, selected_promo_ts))\r\n",
    "        shop_ts.assignment_learner.update(matching_arm_index_ts, norm_ts_ind_reward)\r\n",
    "\r\n",
    "        # buradaki matching arm index sadece price ikilisini veriyor\r\n",
    "        matching_arm_index_big_ts = matching_arms.index((price1idx_big_ts, price2idx_big_ts, cust, selected_promo_big_ts))\r\n",
    "        shop_big_ts.assignment_learner.update(matching_arm_index_big_ts, norm_big_ts_ind_reward)\r\n",
    "\r\n",
    "        revenue_ucb.append(u_ind_reward)\r\n",
    "        revenue_small_ts.append(small_ts_ind_reward)\r\n",
    "        revenue_ts.append(ts_ind_reward)\r\n",
    "        revenue_big_ts.append(big_ts_ind_reward)\r\n",
    "        revenue_calt.append(calt_ind_reward)\r\n",
    "\r\n",
    "    small_ts_rewards_per_class_per_day.append(np.mean(revenue_small_ts))\r\n",
    "    u_rewards_per_class_per_day.append(np.mean(revenue_ucb))\r\n",
    "    ts_rewards_per_class_per_day.append(np.mean(revenue_ts))\r\n",
    "    big_ts_rewards_per_class_per_day.append(np.mean(revenue_big_ts))\r\n",
    "    calt_rewards_per_class_per_day.append(np.mean(revenue_calt))"
   ],
   "outputs": [],
   "metadata": {}
  },
  {
   "cell_type": "code",
   "execution_count": 34,
   "source": [
    "print(np.cumsum(calt_rewards_per_class_per_day)[-1] - np.cumsum(small_ts_rewards_per_class_per_day)[-1])\r\n",
    "print(np.cumsum(calt_rewards_per_class_per_day)[-1] - np.cumsum(u_rewards_per_class_per_day)[-1])"
   ],
   "outputs": [
    {
     "output_type": "stream",
     "name": "stdout",
     "text": [
      "24353.658366840595\n",
      "26474.44366379179\n"
     ]
    }
   ],
   "metadata": {}
  },
  {
   "cell_type": "code",
   "execution_count": 39,
   "source": [
    "import matplotlib.pyplot as plt\r\n",
    "plt.plot(np.cumsum(u_rewards_per_class_per_day), color='green', label='UCB')\r\n",
    "plt.plot(np.cumsum(calt_rewards_per_class_per_day), color='orange', label='Clairvoyant Alt')\r\n",
    "plt.plot(np.cumsum(small_ts_rewards_per_class_per_day), color='purple', label='3-Learner TS')\r\n",
    "plt.plot(np.cumsum(ts_rewards_per_class_per_day), color='red', label='2-step TS')\r\n",
    "plt.plot(np.cumsum(big_ts_rewards_per_class_per_day), color='blue', label='Big TS')\r\n",
    "\r\n",
    "plt.legend()\r\n",
    "plt.xlabel('Time')\r\n",
    "plt.ylabel('Revenue')"
   ],
   "outputs": [
    {
     "output_type": "execute_result",
     "data": {
      "text/plain": [
       "Text(0, 0.5, 'Revenue')"
      ]
     },
     "metadata": {},
     "execution_count": 39
    },
    {
     "output_type": "display_data",
     "data": {
      "image/png": "[encoded data removed]",
      "text/plain": [
       "<Figure size 432x288 with 1 Axes>"
      ]
     },
     "metadata": {
      "needs_background": "light"
     }
    }
   ],
   "metadata": {}
  },
  {
   "cell_type": "code",
   "execution_count": 40,
   "source": [
    "plt.plot(np.cumsum(np.array(calt_rewards_per_class_per_day) - np.array(ts_rewards_per_class_per_day)), color='red', label='2-step TS')\r\n",
    "plt.plot(np.cumsum(np.array(calt_rewards_per_class_per_day) - np.array(big_ts_rewards_per_class_per_day)), color='blue', label='Big TS')\r\n",
    "plt.plot(np.cumsum(np.array(calt_rewards_per_class_per_day) - np.array(small_ts_rewards_per_class_per_day)), color='purple', label='2-step TS')\r\n",
    "plt.plot(np.cumsum(np.array(calt_rewards_per_class_per_day) - np.array(u_rewards_per_class_per_day)), color='green', label='Big TS')\r\n",
    "\r\n",
    "plt.legend()\r\n",
    "plt.xlabel('Days')\r\n",
    "plt.ylabel('Regret')"
   ],
   "outputs": [
    {
     "output_type": "execute_result",
     "data": {
      "text/plain": [
       "Text(0, 0.5, 'Regret')"
      ]
     },
     "metadata": {},
     "execution_count": 40
    },
    {
     "output_type": "display_data",
     "data": {
      "image/png": "[encoded data removed]",
      "text/plain": [
       "<Figure size 432x288 with 1 Axes>"
      ]
     },
     "metadata": {
      "needs_background": "light"
     }
    }
   ],
   "metadata": {}
  }
 ],
 "metadata": {
  "orig_nbformat": 4,
  "language_info": {
   "name": "python",
   "version": "3.9.6",
   "mimetype": "text/x-python",
   "codemirror_mode": {
    "name": "ipython",
    "version": 3
   },
   "pygments_lexer": "ipython3",
   "nbconvert_exporter": "python",
   "file_extension": ".py"
  },
  "kernelspec": {
   "name": "python3",
   "display_name": "Python 3.9.6 64-bit"
  },
  "interpreter": {
   "hash": "8dc9504be67acba47bacf60bff7f553f62706ea7a10aa24f4f54855ef6b1dd44"
  }
 },
 "nbformat": 4,
 "nbformat_minor": 2
}