{
 "cells": [
  {
   "cell_type": "markdown",
   "source": [
    "# Step 6 - Learn all the parameters\n",
    "\n",
    "*Consider the general case in which the shop needs to optimize the prices and the assignment of promos to the customers in the case all the parameters need to be learnt.*"
   ],
   "metadata": {}
  },
  {
   "cell_type": "code",
   "execution_count": 10,
   "source": [
    "import mab.Environment\n",
    "import mab.Shop\n",
    "from mab.ucb_learner import *\n",
    "from mab.utilities import *"
   ],
   "outputs": [],
   "metadata": {}
  },
  {
   "cell_type": "markdown",
   "source": [
    "## Shop and Environment initialization"
   ],
   "metadata": {}
  },
  {
   "cell_type": "code",
   "execution_count": 11,
   "source": [
    "shop_small_ts = Shop.Shop()\n",
    "shop_ucb = Shop.Shop()\n",
    "\n",
    "shop_ts = Shop.Shop()\n",
    "shop_big_ts = Shop.Shop()\n",
    "shop_ts3 = Shop.Shop()\n",
    "shop_clairvoyant = Shop.Shop()\n",
    "\n",
    "env = Environment.Environment(shop_small_ts.prices1, shop_small_ts.prices2, shop_small_ts.discounts)\n",
    "\n",
    "shop_clairvoyant.set_conv_rate(env.true_conv1, env.true_conv2)\n",
    "\n",
    "\n",
    "price_arms = [(i, j) for i in range(len(shop_small_ts.prices1)) for j in range(len(shop_small_ts.prices2))]\n",
    "n_price_arms = len(price_arms)\n",
    "\n",
    "matching_arms = [(i, j, k, l) for i in range(len(shop_ts.prices1)) for j in range(len(shop_ts.prices2)) for k in range(shop_ts.n_classes) for l in range(len(shop_ts.discounts))]\n",
    "n_matching_arms = len(matching_arms)\n",
    "\n",
    "small_matching_arms = [(i, j) for i in range(shop_small_ts.n_classes) for j in range(len(shop_small_ts.discounts))]\n",
    "small_n_matching_arms = len(small_matching_arms)\n",
    "\n",
    "shop_small_ts.set_assignment_learner('TS', small_n_matching_arms)\n",
    "shop_ucb.set_assignment_learner('UCB', small_n_matching_arms)\n",
    "\n",
    "shop_small_ts.set_price_learner('TS', 5)\n",
    "shop_ucb.set_price_learner('UCB', 5)\n",
    "\n",
    "shop_small_ts.set_price2_learner('TS', 5)\n",
    "shop_ucb.set_price2_learner('UCB', 5)\n",
    "\n",
    "shop_ts.set_price_learner('TS', n_price_arms)\n",
    "shop_ts.set_assignment_learner('TS', n_matching_arms)\n",
    "\n",
    "shop_ts3.set_price_learner('TS', 5)\n",
    "shop_ts3.set_price2_learner('TS', n_price_arms)\n",
    "shop_ts3.set_assignment_learner('TS', n_matching_arms)\n",
    "\n",
    "\n",
    "shop_big_ts.set_assignment_learner('TS', n_matching_arms)"
   ],
   "outputs": [],
   "metadata": {}
  },
  {
   "cell_type": "code",
   "execution_count": 12,
   "source": [
    "generated_promo_ratios = np.array([0.4, 0.25, 0.2, 0.15])\n",
    "max_ind_reward = max(env.prices1) + max(env.prices2)"
   ],
   "outputs": [],
   "metadata": {}
  },
  {
   "cell_type": "markdown",
   "source": [
    "## Shop and Environment initialization"
   ],
   "metadata": {}
  },
  {
   "cell_type": "code",
   "execution_count": 13,
   "source": [
    "#### get clairvoyant price\n",
    "expected_rewards = np.zeros((5,5)) # price1*price2\n",
    "shop_clairvoyant.set_expected_customers(np.array([25, 25, 25, 25]))\n",
    "customers_mean = np.array([25, 25, 25, 25])\n",
    "\n",
    "##### other way to calculate clairvoyant\n",
    "cec = shop_clairvoyant.get_customer_list()\n",
    "cep = shop_clairvoyant.get_promo_list(generated_promo_ratios)\n",
    "\n",
    "cmt, cpa, cer, ers  = shop_clairvoyant.get_clairvoyant_prices_and_matching(cec, cep, 5, 5)\n",
    "\n",
    "cp1idx = price_arms[cpa][0]\n",
    "cp2idx = price_arms[cpa][1]\n",
    "cp1 = env.prices1[cp1idx]\n",
    "cp2 = env.prices2[cp2idx]\n",
    "\n",
    "cpf = shop_clairvoyant.get_promo_fractions_from_tuples(cmt)\n",
    "\n",
    "print(cpf)\n",
    "print(cp1)\n",
    "print(cp2)\n",
    "print(cer)"
   ],
   "outputs": [
    {
     "output_type": "stream",
     "name": "stdout",
     "text": [
      "[[0.6 0.  0.  0.4]\n",
      " [0.  1.  0.  0. ]\n",
      " [0.  0.  0.8 0.2]\n",
      " [1.  0.  0.  0. ]]\n",
      "120.0\n",
      "300.0\n",
      "26020.582091544602\n"
     ]
    }
   ],
   "metadata": {}
  },
  {
   "cell_type": "markdown",
   "source": [
    "## Online Simulation\n",
    "Here follows the online simulation over a time horizon of one year.\n",
    "\n",
    "TBD"
   ],
   "metadata": {}
  },
  {
   "cell_type": "code",
   "execution_count": 14,
   "source": [
    "days = 365\n",
    "\n",
    "u_rewards_per_class_per_day = []\n",
    "small_ts_rewards_per_class_per_day = []\n",
    "\n",
    "ts_rewards_per_class_per_day = []\n",
    "ts3_rewards_per_class_per_day = []\n",
    "big_ts_rewards_per_class_per_day = []\n",
    "c_rewards_per_class_per_day = []\n",
    "\n",
    "customers_em = np.array([0, 0, 0, 0])\n",
    "customers_ie = np.array([25, 25, 25, 25])\n",
    "\n",
    "for day in range(days):\n",
    "    if day == 0:\n",
    "        shop_ts.set_expected_customers(customers_ie)\n",
    "        shop_big_ts.set_expected_customers(customers_ie)\n",
    "        shop_ts3.set_expected_customers(customers_ie)\n",
    "        shop_ucb.set_expected_customers(customers_ie)\n",
    "        shop_small_ts.set_expected_customers(customers_ie)\n",
    "    else:\n",
    "        customers_em = (customers_em*(day-1) + env.customers) / day\n",
    "        shop_ucb.set_expected_customers((customers_em + 0.99).astype(int))\n",
    "        shop_small_ts.set_expected_customers((customers_em + 0.99).astype(int))\n",
    "        shop_ts.set_expected_customers((customers_em + 0.99).astype(int))\n",
    "        shop_ts3.set_expected_customers((customers_em + 0.99).astype(int))\n",
    "        shop_big_ts.set_expected_customers((customers_em + 0.99).astype(int))\n",
    "    \n",
    "    # select the price for 2 step learner\n",
    "    chosen_price_tuple_idx_ts = shop_ts.price_learner.pull_arm()\n",
    "\n",
    "    price1idx_ts = price_arms[chosen_price_tuple_idx_ts][0]\n",
    "    price2idx_ts = price_arms[chosen_price_tuple_idx_ts][1]\n",
    "    price1_ts = env.prices1[price_arms[chosen_price_tuple_idx_ts][0]]\n",
    "    price2_ts = env.prices2[price_arms[chosen_price_tuple_idx_ts][1]]\n",
    "\n",
    "    # perform matching and get promo fractions for 2 step learner\n",
    "    expected_customers_ts = shop_ts.get_customer_list()\n",
    "    expected_promos_ts = shop_ts.get_promo_list(generated_promo_ratios)\n",
    "    matched_tuples_ts = shop_ts.assignment_learner.pull_arm_matching(expected_customers_ts, expected_promos_ts, matching_arms, price1idx_ts, price2idx_ts)\n",
    "    promo_fractions_ts = shop_ts.get_promo_fractions_from_tuples(matched_tuples_ts)\n",
    "\n",
    "    # get promo fractions and prices for big learner\n",
    "    expected_customers_big_ts = shop_big_ts.get_customer_list()\n",
    "    expected_promos_big_ts = shop_big_ts.get_promo_list(generated_promo_ratios)\n",
    "    matched_tuples_big_ts, price_arm_index_big_ts = shop_big_ts.assignment_learner.pull_arm_all(expected_customers_big_ts, expected_promos_big_ts, matching_arms, len(env.prices1), len(env.prices2))\n",
    "    promo_fractions_big_ts = shop_big_ts.get_promo_fractions_from_tuples(matched_tuples_big_ts)\n",
    "\n",
    "    price1idx_big_ts = price_arms[price_arm_index_big_ts][0]\n",
    "    price2idx_big_ts = price_arms[price_arm_index_big_ts][1]\n",
    "    price1_big_ts = env.prices1[price1idx_big_ts]\n",
    "    price2_big_ts = env.prices2[price2idx_big_ts]\n",
    "\n",
    "    # pricing and matching for 3-step dependent learner\n",
    "    price1idx_ts3 = shop_ts3.price_learner.pull_arm()\n",
    "    price2idx_ts3 = shop_ts3.price2_learner.pull_arm_price2(price1idx_ts3, price_arms)\n",
    "\n",
    "    price1_ts3 = env.prices1[price1idx_ts3]\n",
    "    price2_ts3 = env.prices2[price2idx_ts3]\n",
    "    \n",
    "    expected_customers_ts3 = shop_ts3.get_customer_list()\n",
    "    expected_promos_ts3 = shop_ts3.get_promo_list(generated_promo_ratios)\n",
    "\n",
    "    matched_tuples_ts3 = shop_ts3.assignment_learner.pull_arm_matching(expected_customers_ts3, expected_promos_ts3, matching_arms, price1idx_ts3, price2idx_ts3)\n",
    "    promo_fractions_ts3 = shop_ts.get_promo_fractions_from_tuples(matched_tuples_ts3)\n",
    "\n",
    "    # get expected list of customers\n",
    "    expected_customers_u = shop_ucb.get_customer_list()\n",
    "    expected_customers_small_ts = shop_small_ts.get_customer_list()\n",
    "\n",
    "    # get expected list of promos\n",
    "    expected_promos_u = shop_ucb.get_promo_list(generated_promo_ratios) \n",
    "    expected_promos_small_ts = shop_small_ts.get_promo_list(generated_promo_ratios) \n",
    "\n",
    "    #Pull arm price1 from learners \n",
    "    chosen_price1_small_ts = env.prices1[shop_small_ts.price_learner.pull_arm()]\n",
    "    chosen_price1_ucb = env.prices1[shop_ucb.price_learner.pull_arm()] \n",
    "\n",
    "    #Pull arm price2 from learners \n",
    "    chosen_price2_small_ts = env.prices2[shop_small_ts.price2_learner.pull_arm()]\n",
    "    chosen_price2_ucb = env.prices2[shop_ucb.price2_learner.pull_arm()] \n",
    "    \n",
    "\n",
    "    # generate the connections and their expected weights\n",
    "    matched_tuples_u = shop_ucb.assignment_learner.pull_arm_matching(expected_customers_u, expected_promos_u, small_matching_arms)\n",
    "    matched_tuples_small_ts = shop_small_ts.assignment_learner.pull_arm_matching(expected_customers_small_ts, expected_promos_small_ts, small_matching_arms)\n",
    " \n",
    "    promo_fractions_u = shop_ucb.get_promo_fractions_from_tuples(matched_tuples_u)\n",
    "    promo_fractions_small_ts = shop_small_ts.get_promo_fractions_from_tuples(matched_tuples_small_ts)\n",
    "\n",
    "    # simulate the day\n",
    "    env.generate_next_day_customers()\n",
    "\n",
    "    enum_customers = list(enumerate(env.customers))\n",
    "    customers = np.concatenate([np.ones(c).astype(int)*p for p,c in enum_customers])\n",
    "    np.random.shuffle(customers)\n",
    "\n",
    "    revenue_small_ts = []\n",
    "    revenue_ucb = []\n",
    "    revenue_ts = []\n",
    "    revenue_ts3 = []\n",
    "    revenue_big_ts = []\n",
    "    revenue_c = []\n",
    "\n",
    "    small_ts_total_reward = 0\n",
    "    ucb_total_reward = 0\n",
    "    big_ts_total_reward = 0\n",
    "    ts_total_reward = 0\n",
    "    c_total_reward = 0\n",
    "\n",
    "    c_count = 0\n",
    "\n",
    "    for cust in customers:\n",
    "        ts_ind_reward = 0\n",
    "\n",
    "        selected_promo_small_ts = np.random.choice([0, 1, 2, 3], 1, p=promo_fractions_small_ts[cust])\n",
    "        selected_promo_u = np.random.choice([0, 1, 2, 3], 1, p=promo_fractions_u[cust])\n",
    "        selected_promo_ts = np.random.choice([0, 1, 2, 3], 1, p=promo_fractions_ts[cust])\n",
    "        selected_promo_big_ts = np.random.choice([0, 1, 2, 3], 1, p=promo_fractions_big_ts[cust])\n",
    "        selected_promo_c = np.random.choice([0, 1, 2, 3], 1, p=cpf[cust])\n",
    "        selected_promo_ts3 = np.random.choice([0, 1, 2, 3], 1, p=promo_fractions_ts3[cust])\n",
    "\n",
    "        small_ts_buy1 = env.round1(cust, chosen_price1_small_ts)\n",
    "        small_ts_buy2 = 0\n",
    "        if small_ts_buy1:\n",
    "            small_ts_buy2 = env.round2(cust, selected_promo_small_ts, chosen_price2_small_ts)\n",
    "        \n",
    "        u_buy1 = env.round1(cust, chosen_price1_ucb)\n",
    "        u_buy2 = 0\n",
    "        if u_buy1:\n",
    "            u_buy2 = env.round2(cust, selected_promo_u, chosen_price2_ucb)\n",
    "\n",
    "        ts_buy1 = env.round1(cust, price1_ts)\n",
    "        ts_buy2 = 0\n",
    "        if ts_buy1:\n",
    "            ts_buy2 = env.round2(cust, selected_promo_ts, price2_ts)\n",
    "\n",
    "        ts3_buy1 = env.round1(cust, price1_ts3)\n",
    "        ts3_buy2 = 0\n",
    "        if ts3_buy1:\n",
    "            ts3_buy2 = env.round2(cust, selected_promo_ts3, price2_ts3)\n",
    "\n",
    "        big_ts_buy1 = env.round1(cust, price1_big_ts)\n",
    "        big_ts_buy2 = 0\n",
    "        if big_ts_buy1:\n",
    "            big_ts_buy2 = env.round2(cust, selected_promo_big_ts, price2_big_ts)\n",
    "        \n",
    "        small_ts_ind_reward= small_ts_buy1*chosen_price1_small_ts + small_ts_buy2*chosen_price2_small_ts*(1-shop_small_ts.discounts[selected_promo_small_ts])\n",
    "        u_ind_reward = u_buy1*chosen_price1_ucb + u_buy2*chosen_price2_ucb*(1-shop_ucb.discounts[selected_promo_u])\n",
    "        ts_ind_reward = ts_buy1*price1_ts + ts_buy2*price2_ts*(1-shop_ts.discounts[selected_promo_ts])\n",
    "        big_ts_ind_reward = big_ts_buy1*price1_big_ts + big_ts_buy2*price2_big_ts*(1-shop_big_ts.discounts[selected_promo_big_ts])\n",
    "        ts3_ind_reward = ts3_buy1*price1_ts3 + ts3_buy2*price2_ts3*(1-shop_ts3.discounts[selected_promo_ts3])\n",
    "\n",
    "        c_ind_reward = env.true_conv1[cust, cp1idx]*cp1 + env.true_conv1[cust, cp1idx]*env.true_conv2[selected_promo_c, cust, cp2idx]*cp2*(1-shop_small_ts.discounts[selected_promo_c])\n",
    "\n",
    "        \n",
    "        norm_small_ts_ind_reward = small_ts_ind_reward / max_ind_reward\n",
    "        norm_u_ind_reward = u_ind_reward / max_ind_reward\n",
    "        norm_ts_ind_reward = ts_ind_reward / max_ind_reward\n",
    "        norm_ts3_ind_reward = ts3_ind_reward / max_ind_reward\n",
    "        norm_big_ts_ind_reward = big_ts_ind_reward / max_ind_reward\n",
    "\n",
    "        # update 3-step ts\n",
    "        shop_ts3.price_learner.update(price1idx_ts3, norm_ts3_ind_reward)\n",
    "\n",
    "        price_tuples_idx_ts3 = price_arms.index((price1idx_ts3, price2idx_ts3))\n",
    "        shop_ts3.price2_learner.update(price_tuples_idx_ts3, norm_ts3_ind_reward)\n",
    "\n",
    "        matching_arm_index_ts3 = matching_arms.index((price1idx_ts3, price2idx_ts3, cust, selected_promo_ts3))\n",
    "        shop_ts3.assignment_learner.update(matching_arm_index_ts3, norm_ts3_ind_reward)\n",
    "\n",
    "        # update price learner and assignment learner\n",
    "        shop_ucb.assignment_learner.update(small_matching_arms.index((cust, selected_promo_u)), norm_u_ind_reward)\n",
    "        shop_small_ts.assignment_learner.update(small_matching_arms.index((cust, selected_promo_small_ts)), norm_small_ts_ind_reward)\n",
    "        \n",
    "        shop_ts.price_learner.update(chosen_price_tuple_idx_ts, norm_ts_ind_reward)\n",
    "        matching_arm_index_ts = matching_arms.index((price1idx_ts, price2idx_ts, cust, selected_promo_ts))\n",
    "        shop_ts.assignment_learner.update(matching_arm_index_ts, norm_ts_ind_reward)\n",
    "\n",
    "        # buradaki matching arm index sadece price ikilisini veriyor\n",
    "        matching_arm_index_big_ts = matching_arms.index((price1idx_big_ts, price2idx_big_ts, cust, selected_promo_big_ts))\n",
    "        shop_big_ts.assignment_learner.update(matching_arm_index_big_ts, norm_big_ts_ind_reward)\n",
    "\n",
    "        revenue_ucb.append(u_ind_reward)\n",
    "        revenue_small_ts.append(small_ts_ind_reward)\n",
    "        revenue_ts.append(ts_ind_reward)\n",
    "        revenue_ts3.append(ts3_ind_reward)\n",
    "        revenue_big_ts.append(big_ts_ind_reward)\n",
    "        revenue_c.append(c_ind_reward)\n",
    "\n",
    "    small_ts_rewards_per_class_per_day.append(np.mean(revenue_small_ts))\n",
    "    u_rewards_per_class_per_day.append(np.mean(revenue_ucb))\n",
    "    ts_rewards_per_class_per_day.append(np.mean(revenue_ts))\n",
    "    ts3_rewards_per_class_per_day.append(np.mean(revenue_ts3))\n",
    "    big_ts_rewards_per_class_per_day.append(np.mean(revenue_big_ts))\n",
    "    c_rewards_per_class_per_day.append(np.mean(revenue_c))"
   ],
   "outputs": [],
   "metadata": {}
  },
  {
   "cell_type": "code",
   "execution_count": 17,
   "source": [
    "print(np.cumsum(c_rewards_per_class_per_day)[-1] - np.cumsum(small_ts_rewards_per_class_per_day)[-1])\n",
    "print(np.cumsum(c_rewards_per_class_per_day)[-1] - np.cumsum(u_rewards_per_class_per_day)[-1])"
   ],
   "outputs": [
    {
     "output_type": "stream",
     "name": "stdout",
     "text": [
      "46906.95676732908\n",
      "49460.0889948329\n"
     ]
    }
   ],
   "metadata": {}
  },
  {
   "cell_type": "markdown",
   "source": [
    "## Results Analysis"
   ],
   "metadata": {}
  },
  {
   "cell_type": "code",
   "execution_count": 18,
   "source": [
    "import matplotlib.pyplot as plt\n",
    "plt.figure(figsize=(10,3))\n",
    "plt.plot(np.cumsum(u_rewards_per_class_per_day), color='green', label='UCB')\n",
    "plt.plot(np.cumsum(c_rewards_per_class_per_day), color='orange', label='Clairvoyant')\n",
    "plt.plot(np.cumsum(small_ts_rewards_per_class_per_day), color='purple', label='3-Learner TS')\n",
    "plt.plot(np.cumsum(ts_rewards_per_class_per_day), color='red', label='2-step TS')\n",
    "plt.plot(np.cumsum(ts3_rewards_per_class_per_day), color='black', label='3-step Dependent TS')\n",
    "plt.plot(np.cumsum(big_ts_rewards_per_class_per_day), color='blue', label='Big TS')\n",
    "\n",
    "plt.legend()\n",
    "plt.xlabel('Time')\n",
    "plt.ylabel('Revenue')"
   ],
   "outputs": [
    {
     "output_type": "execute_result",
     "data": {
      "text/plain": [
       "Text(0, 0.5, 'Revenue')"
      ]
     },
     "metadata": {},
     "execution_count": 18
    },
    {
     "output_type": "display_data",
     "data": {
      "image/png": "[encoded data removed]",
      "text/plain": [
       "<Figure size 432x288 with 1 Axes>"
      ]
     },
     "metadata": {
      "needs_background": "light"
     }
    }
   ],
   "metadata": {}
  },
  {
   "cell_type": "code",
   "execution_count": 19,
   "source": [
    "plt.figure(figsize=(10,3))\n",
    "plt.plot(np.cumsum(np.array(c_rewards_per_class_per_day) - np.array(ts_rewards_per_class_per_day)), color='red', label='2-step TS')\n",
    "plt.plot(np.cumsum(np.array(c_rewards_per_class_per_day) - np.array(ts3_rewards_per_class_per_day)), color='black', label='3-step Dependent TS')\n",
    "plt.plot(np.cumsum(np.array(c_rewards_per_class_per_day) - np.array(big_ts_rewards_per_class_per_day)), color='blue', label='Big TS')\n",
    "plt.plot(np.cumsum(np.array(c_rewards_per_class_per_day) - np.array(small_ts_rewards_per_class_per_day)), color='purple', label='2-step TS')\n",
    "plt.plot(np.cumsum(np.array(c_rewards_per_class_per_day) - np.array(u_rewards_per_class_per_day)), color='green', label='Big TS')\n",
    "\n",
    "plt.legend()\n",
    "plt.xlabel('Days')\n",
    "plt.ylabel('Regret')"
   ],
   "outputs": [
    {
     "output_type": "execute_result",
     "data": {
      "text/plain": [
       "Text(0, 0.5, 'Regret')"
      ]
     },
     "metadata": {},
     "execution_count": 19
    },
    {
     "output_type": "display_data",
     "data": {
      "image/png": "[encoded data removed]",
      "text/plain": [
       "<Figure size 432x288 with 1 Axes>"
      ]
     },
     "metadata": {
      "needs_background": "light"
     }
    }
   ],
   "metadata": {}
  }
 ],
 "metadata": {
  "orig_nbformat": 4,
  "language_info": {
   "name": "python",
   "version": "3.8.10",
   "mimetype": "text/x-python",
   "codemirror_mode": {
    "name": "ipython",
    "version": 3
   },
   "pygments_lexer": "ipython3",
   "nbconvert_exporter": "python",
   "file_extension": ".py"
  },
  "kernelspec": {
   "name": "python3",
   "display_name": "Python 3.8.10 64-bit"
  },
  "interpreter": {
   "hash": "31f2aee4e71d21fbe5cf8b01ff0e069b9275f58929596ceb00d14d90e3e16cd6"
  }
 },
 "nbformat": 4,
 "nbformat_minor": 2
}