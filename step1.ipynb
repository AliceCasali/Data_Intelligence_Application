{
 "metadata": {
  "language_info": {
   "codemirror_mode": {
    "name": "ipython",
    "version": 3
   },
   "file_extension": ".py",
   "mimetype": "text/x-python",
   "name": "python",
   "nbconvert_exporter": "python",
   "pygments_lexer": "ipython3",
   "version": "3.8.5"
  },
  "orig_nbformat": 2,
  "kernelspec": {
   "name": "python385jvsc74a57bd0916dbcbb3f70747c44a77c7bcd40155683ae19c65e1c03b4aa3499c5328201f1",
   "display_name": "Python 3.8.5 64-bit"
  },
  "metadata": {
   "interpreter": {
    "hash": "916dbcbb3f70747c44a77c7bcd40155683ae19c65e1c03b4aa3499c5328201f1"
   }
  }
 },
 "nbformat": 4,
 "nbformat_minor": 2,
 "cells": [
  {
   "source": [
    "# Data Intelligence Applications: pricing + matching\n",
    "### Environment Setup"
   ],
   "cell_type": "markdown",
   "metadata": {}
  },
  {
   "cell_type": "code",
   "execution_count": 2,
   "metadata": {},
   "outputs": [],
   "source": [
    "from scipy.optimize import linear_sum_assignment\n",
    "import numpy as np\n",
    "from environment import Environment\n",
    "\n",
    "#Customers\n",
    "customerParams = zip([200,200,200,200], [1,1,1,1])\n",
    "#discounts\n",
    "discounts = np.array([0.0, 0.5, 0.10, 0.25])\n",
    "#Prices\n",
    "prices = np.array([250, 400])\n",
    "#Conversion Rates for item 1\n",
    "conv_rate1 = [0.3, 0.4, 0.25, 0.45]\n",
    "#Conversion Rates for item 2 [discountedPrice x Class]\n",
    "conv_rate2 = np.array([[0.1, 0.2, 0.15, 0.2],\n",
    "                    [0.15, 0.25, 0.2, 0.25],\n",
    "                    [0.2, 0.35, 0.25, 0.4],\n",
    "                    [0.4, 0.45, 0.35, 0.6]])\n",
    "\n",
    "env = Environment(customerParams, discounts, prices, conv_rate1, conv_rate2)"
   ]
  },
  {
   "source": [
    "## Discounts distribution\n",
    "Our goal now is to find the best possible distribution of discounts for each class. \n",
    "This is achieved by matching many possible discount distributions with our 4 classes and maximizing the reward.\n",
    "Since we are basically bruteforcing the best distribution, we reduced our hypotesis space experimenting with the following settings:\n",
    "* Uniform fraction distribution\n",
    "* Promos are decreasingly distributed\n",
    "* Promos are increasingly distributed"
   ],
   "cell_type": "markdown",
   "metadata": {}
  },
  {
   "cell_type": "code",
   "execution_count": 3,
   "metadata": {},
   "outputs": [
    {
     "output_type": "execute_result",
     "data": {
      "text/plain": [
       "array([[[ 5524.87035702,  7162.36309154, 10656.63014418, 16420.37994255],\n",
       "        [ 4422.79357165,  5731.58136781,  8039.41072111, 11662.20906135],\n",
       "        [ 4501.43463118,  6407.37741466,  8366.70241205, 14718.13984538],\n",
       "        [ 4355.48258431,  5786.74752466,  8111.14574598, 12636.56666212],\n",
       "        [ 5543.25582518,  7037.53586653, 10864.78709356, 16398.45814538]],\n",
       "\n",
       "       [[ 4264.41362974,  5904.48230833,  7872.81152657, 13121.05477513],\n",
       "        [ 4709.53664918,  6151.47561255,  8747.05340729, 13170.76947867],\n",
       "        [ 4185.9781171 ,  6035.61249525,  8173.62510449, 15175.50035763],\n",
       "        [ 4539.63934034,  6205.40911527,  8604.11458383, 14316.86548983],\n",
       "        [ 4215.99270217,  5778.40253114,  7797.07488731, 12776.89316913]],\n",
       "\n",
       "       [[ 4899.54707652,  6361.03495379,  9143.47850742, 13678.19872522],\n",
       "        [ 5477.96396622,  7110.73229359, 10382.43940167, 15766.5356496 ],\n",
       "        [ 4745.86688082,  6317.23414056,  8959.33708079, 14180.01275809],\n",
       "        [ 4952.44594993,  6434.57658866,  9568.35303081, 14823.79784763],\n",
       "        [ 5320.68265087,  6940.16856262,  9928.31673744, 14980.1632558 ]]])"
      ]
     },
     "metadata": {},
     "execution_count": 3
    }
   ],
   "source": [
    "#https://numpy.org/doc/stable/reference/random/generated/numpy.random.dirichlet.html\n",
    "testDistributions = np.array([[1,1,1,1], [5,3,2,1], [1,2,3,5]]) #Different kinds of distributions we want to test\n",
    "fractionSamples = 5 #number of fractions we want to sample from each distribution\n",
    "customers = np.array([100,100,100,100]) #customers for each class --> TODO:use truncnorm\n",
    "\n",
    "#returns a numpy array [len(testdist) x fractionSamples x 4]\n",
    "fractions = np.array([[np.random.dirichlet(dist) for x in range(fractionSamples)] for dist in testDistributions])\n",
    "\n",
    "priceReduction = 1-env.discounts\n",
    "rewards = np.array([[np.tensordot(env.conv2, (env.prices[1]*priceReduction*sample)*customers, axes=1 ) for sample in frac] for frac in fractions])\n",
    "\n",
    "rewards\n",
    "\n"
   ]
  },
  {
   "cell_type": "code",
   "execution_count": 4,
   "metadata": {},
   "outputs": [
    {
     "output_type": "execute_result",
     "data": {
      "text/plain": [
       "array([[[1, 0],\n",
       "        [2, 1],\n",
       "        [4, 2],\n",
       "        [0, 3]],\n",
       "\n",
       "       [[1, 0],\n",
       "        [0, 1],\n",
       "        [3, 2],\n",
       "        [2, 3]],\n",
       "\n",
       "       [[0, 0],\n",
       "        [4, 1],\n",
       "        [3, 2],\n",
       "        [1, 3]]])"
      ]
     },
     "metadata": {},
     "execution_count": 4
    }
   ],
   "source": [
    "maxGraphs = np.array([np.amax(test)-test for test in rewards])\n",
    "#for each distribution, calculate the best assignment with Hungarian\n",
    "assignments = np.array([list(sorted(zip(*linear_sum_assignment(graph)), key = lambda x: x[1])) for graph in maxGraphs])\n",
    "\n",
    "assignments\n"
   ]
  },
  {
   "cell_type": "code",
   "execution_count": 5,
   "metadata": {},
   "outputs": [
    {
     "output_type": "execute_result",
     "data": {
      "text/plain": [
       "0"
      ]
     },
     "metadata": {},
     "execution_count": 5
    }
   ],
   "source": [
    "#For each assignment, find the best one according to the max reward it generates\n",
    "weights = [sum(rewards[index][np.transpose(assign)[0], np.transpose(assign)[1]]) for index, assign in enumerate(assignments)]\n",
    "bestDist = np.argmax(weights)\n",
    "bestDist"
   ]
  },
  {
   "cell_type": "code",
   "execution_count": 14,
   "metadata": {},
   "outputs": [
    {
     "output_type": "stream",
     "name": "stdout",
     "text": [
      "Best Fraction for Class0: [0.15216726 0.60248786 0.11316031 0.13218457]\nBest Fraction for Class1: [0.62655298 0.02004227 0.34229143 0.01111331]\nBest Fraction for Class2: [0.0849695  0.1277382  0.05221464 0.73507766]\nBest Fraction for Class3: [0.16123955 0.01296821 0.2111902  0.61460204]\nWeight sum (max): 38115.33802242044\n"
     ]
    }
   ],
   "source": [
    "\n",
    "#Print the corrisponding fractions and the corrisponding reward\n",
    "print('Best Fraction for Class0: ' + str(fractions[bestDist][assignments[bestDist][0][0]]))\n",
    "print('Best Fraction for Class1: ' + str(fractions[bestDist][assignments[bestDist][1][0]]))\n",
    "print('Best Fraction for Class2: ' + str(fractions[bestDist][assignments[bestDist][2][0]]))\n",
    "print('Best Fraction for Class3: ' + str(fractions[bestDist][assignments[bestDist][3][0]]))\n",
    "print('Weight sum (max): ' + str(np.max(weights)))"
   ]
  },
  {
   "cell_type": "code",
   "execution_count": 38,
   "metadata": {},
   "outputs": [],
   "source": []
  }
 ]
}